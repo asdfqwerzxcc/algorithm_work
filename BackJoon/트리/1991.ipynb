{
 "cells": [
  {
   "cell_type": "code",
   "execution_count": 2,
   "metadata": {},
   "outputs": [
    {
     "name": "stdout",
     "output_type": "stream",
     "text": [
      "14\n"
     ]
    }
   ],
   "source": [
    "import sys\n",
    " \n",
    "N = int(sys.stdin.readline().strip())\n",
    "tree = {}\n",
    " \n",
    "for n in range(N):\n",
    "    root, left, right = sys.stdin.readline().strip().split()\n",
    "    tree[root] = [left, right]\n",
    " \n",
    " \n",
    "def preorder(root):\n",
    "    if root != '.':\n",
    "        print(root, end='')  # root\n",
    "        preorder(tree[root][0])  # left\n",
    "        preorder(tree[root][1])  # right\n",
    " \n",
    " \n",
    "def inorder(root):\n",
    "    if root != '.':\n",
    "        inorder(tree[root][0])  # left\n",
    "        print(root, end='')  # root\n",
    "        inorder(tree[root][1])  # right\n",
    " \n",
    " \n",
    "def postorder(root):\n",
    "    if root != '.':\n",
    "        postorder(tree[root][0])  # left\n",
    "        postorder(tree[root][1])  # right\n",
    "        print(root, end='')  # root\n",
    " \n",
    " \n",
    "preorder('A')\n",
    "print()\n",
    "inorder('A')\n",
    "print()\n",
    "postorder('A')"
   ]
  }
 ],
 "metadata": {
  "kernelspec": {
   "display_name": "Python 3",
   "language": "python",
   "name": "python3"
  },
  "language_info": {
   "codemirror_mode": {
    "name": "ipython",
    "version": 3
   },
   "file_extension": ".py",
   "mimetype": "text/x-python",
   "name": "python",
   "nbconvert_exporter": "python",
   "pygments_lexer": "ipython3",
   "version": "3.12.1"
  }
 },
 "nbformat": 4,
 "nbformat_minor": 2
}
