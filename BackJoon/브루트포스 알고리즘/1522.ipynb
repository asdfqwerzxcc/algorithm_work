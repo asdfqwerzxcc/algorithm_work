{
 "cells": [
  {
   "cell_type": "markdown",
   "metadata": {},
   "source": [
    "### 문제\n",
    "a와 b로만 이루어진 문자열이 주어질 때,  a를 모두 연속으로 만들기 위해서 필요한 교환의 회수를 최소로 하는 프로그램을 작성하시오.\n",
    "\n",
    "이 문자열은 원형이기 때문에, 처음과 끝은 서로 인접해 있는 것이다.\n",
    "\n",
    "예를 들어,  aabbaaabaaba이 주어졌을 때, 2번의 교환이면 a를 모두 연속으로 만들 수 있다.\n",
    "\n",
    "### 입력\n",
    "첫째 줄에 문자열이 주어진다. 문자열의 길이는 최대 1,000이다.\n",
    "\n",
    "### 출력\n",
    "첫째 줄에 필요한 교환의 회수의 최솟값을 출력한다.\n"
   ]
  },
  {
   "cell_type": "code",
   "execution_count": 9,
   "metadata": {},
   "outputs": [
    {
     "name": "stdout",
     "output_type": "stream",
     "text": [
      "aaaaabbba\n",
      "aaaabbbab\n",
      "aaabbbaba\n",
      "aabbbabab\n",
      "abbbababa\n",
      "bbbababab\n",
      "bbabababa\n",
      "babababab\n",
      "ababababa\n",
      "babababaa\n",
      "abababaaa\n",
      "bababaaaa\n",
      "ababaaaaa\n",
      "babaaaaab\n",
      "abaaaaabb\n",
      "baaaaabbb\n",
      "2\n"
     ]
    }
   ],
   "source": [
    "k = input()\n",
    "a_cnt = k.count('a')\n",
    "ans = 1001\n",
    "for i in range(len(k)):\n",
    "    sub = ''\n",
    "    if i + a_cnt >= len(k):\n",
    "        comp = (i + a_cnt) % len(k)\n",
    "        sub = k[i:len(k)] + k[0:comp]\n",
    "    else:\n",
    "        sub = k[i:i+a_cnt]\n",
    "    b_cnt = sub.count('b')\n",
    "    ans = min(ans,b_cnt)\n",
    "print(ans)"
   ]
  }
 ],
 "metadata": {
  "kernelspec": {
   "display_name": "Python 3",
   "language": "python",
   "name": "python3"
  },
  "language_info": {
   "codemirror_mode": {
    "name": "ipython",
    "version": 3
   },
   "file_extension": ".py",
   "mimetype": "text/x-python",
   "name": "python",
   "nbconvert_exporter": "python",
   "pygments_lexer": "ipython3",
   "version": "3.12.1"
  }
 },
 "nbformat": 4,
 "nbformat_minor": 2
}
