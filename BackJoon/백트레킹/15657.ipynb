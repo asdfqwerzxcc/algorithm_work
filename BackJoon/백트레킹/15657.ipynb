{
 "cells": [
  {
   "cell_type": "markdown",
   "metadata": {},
   "source": [
    "### 문제\n",
    "N개의 자연수와 자연수 M이 주어졌을 때, 아래 조건을 만족하는 길이가 M인 수열을 모두 구하는 프로그램을 작성하시오. N개의 자연수는 모두 다른 수이다.\n",
    "\n",
    "N개의 자연수 중에서 M개를 고른 수열\n",
    "같은 수를 여러 번 골라도 된다.\n",
    "고른 수열은 비내림차순이어야 한다.\n",
    "길이가 K인 수열 A가 A1 ≤ A2 ≤ ... ≤ AK-1 ≤ AK를 만족하면, 비내림차순이라고 한다.\n",
    "\n",
    "### 입력\n",
    "첫째 줄에 N과 M이 주어진다. (1 ≤ M ≤ N ≤ 8)\n",
    "\n",
    "둘째 줄에 N개의 수가 주어진다. 입력으로 주어지는 수는 10,000보다 작거나 같은 자연수이다.\n",
    "### 출력\n",
    "한 줄에 하나씩 문제의 조건을 만족하는 수열을 출력한다. 중복되는 수열을 여러 번 출력하면 안되며, 각 수열은 공백으로 구분해서 출력해야 한다.\n",
    "\n",
    "수열은 사전 순으로 증가하는 순서로 출력해야 한다."
   ]
  },
  {
   "cell_type": "code",
   "execution_count": 1,
   "metadata": {},
   "outputs": [
    {
     "name": "stdout",
     "output_type": "stream",
     "text": [
      "2\n",
      "4\n",
      "5\n"
     ]
    }
   ],
   "source": [
    "n,m = map(int,input().split())\n",
    "nums=sorted(list(map(int,input().split())))\n",
    "s = []\n",
    "def dfs(start):\n",
    "    if len(s)==m:\n",
    "        print(' '.join(map(str,s)))\n",
    "        return\n",
    "    \n",
    "    for i in range(start,n):\n",
    "        s.append(nums[i])\n",
    "        dfs(i)\n",
    "        s.pop()\n",
    "dfs(0)"
   ]
  }
 ],
 "metadata": {
  "kernelspec": {
   "display_name": "Python 3",
   "language": "python",
   "name": "python3"
  },
  "language_info": {
   "codemirror_mode": {
    "name": "ipython",
    "version": 3
   },
   "file_extension": ".py",
   "mimetype": "text/x-python",
   "name": "python",
   "nbconvert_exporter": "python",
   "pygments_lexer": "ipython3",
   "version": "3.12.1"
  }
 },
 "nbformat": 4,
 "nbformat_minor": 2
}
