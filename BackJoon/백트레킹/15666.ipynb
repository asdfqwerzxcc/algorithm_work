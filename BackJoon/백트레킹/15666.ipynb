{
 "cells": [
  {
   "cell_type": "code",
   "execution_count": 1,
   "metadata": {},
   "outputs": [
    {
     "name": "stdout",
     "output_type": "stream",
     "text": [
      "2\n",
      "4\n"
     ]
    }
   ],
   "source": [
    "n, m = map(int, input().split())\n",
    "nums = sorted(list(map(int, input().split())))\n",
    "temp = []\n",
    "\n",
    "def dfs(start):\n",
    "    if len(temp) == m:\n",
    "        print(*temp)\n",
    "        return\n",
    "    remember_me = 0\n",
    "    for i in range(start, n):\n",
    "        if remember_me != nums[i]:\n",
    "            temp.append(nums[i])\n",
    "            remember_me = nums[i]\n",
    "            dfs(i)\n",
    "            temp.pop()\n",
    "\n",
    "dfs(0)"
   ]
  }
 ],
 "metadata": {
  "kernelspec": {
   "display_name": "Python 3",
   "language": "python",
   "name": "python3"
  },
  "language_info": {
   "codemirror_mode": {
    "name": "ipython",
    "version": 3
   },
   "file_extension": ".py",
   "mimetype": "text/x-python",
   "name": "python",
   "nbconvert_exporter": "python",
   "pygments_lexer": "ipython3",
   "version": "3.12.1"
  }
 },
 "nbformat": 4,
 "nbformat_minor": 2
}
