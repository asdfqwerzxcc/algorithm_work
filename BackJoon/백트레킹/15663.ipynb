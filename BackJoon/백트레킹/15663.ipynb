{
 "cells": [
  {
   "cell_type": "code",
   "execution_count": 1,
   "metadata": {},
   "outputs": [
    {
     "name": "stdout",
     "output_type": "stream",
     "text": [
      "2\n",
      "4\n"
     ]
    }
   ],
   "source": [
    "n,m=map(int,input().split())\n",
    "arr=list(map(int,input().split()))\n",
    "arr.sort()\n",
    "s=[]\n",
    "visired=[False]*n\n",
    "prev=0\n",
    "\n",
    "s=[]\n",
    "def dfs(depth):\n",
    "    prev=0\n",
    "    if depth==m:\n",
    "        print(' '.join(map(str,s)))\n",
    "        return\n",
    "    \n",
    "    for i in range(n):\n",
    "        if arr[i]!= prev and visired[i]==False:\n",
    "            s.append(arr[i])\n",
    "            prev=arr[i]\n",
    "            visired[i]=True\n",
    "            dfs(depth+1)\n",
    "            s.pop()\n",
    "            visired[i]=False\n",
    "dfs(0)"
   ]
  }
 ],
 "metadata": {
  "kernelspec": {
   "display_name": "Python 3",
   "language": "python",
   "name": "python3"
  },
  "language_info": {
   "codemirror_mode": {
    "name": "ipython",
    "version": 3
   },
   "file_extension": ".py",
   "mimetype": "text/x-python",
   "name": "python",
   "nbconvert_exporter": "python",
   "pygments_lexer": "ipython3",
   "version": "3.12.1"
  }
 },
 "nbformat": 4,
 "nbformat_minor": 2
}
