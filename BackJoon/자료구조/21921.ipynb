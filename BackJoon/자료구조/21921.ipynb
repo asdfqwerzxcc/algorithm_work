{
 "cells": [
  {
   "cell_type": "markdown",
   "metadata": {},
   "source": [
    "### 문제\n",
    "찬솔이는 블로그를 시작한 지 벌써 \n",
    "$N$일이 지났다.\n",
    "\n",
    "요즘 바빠서 관리를 못 했다가 방문 기록을 봤더니 벌써 누적 방문 수가 6만을 넘었다.\n",
    "\n",
    "\n",
    "\n",
    "찬솔이는 \n",
    "$X$일 동안 가장 많이 들어온 방문자 수와 그 기간들을 알고 싶다.\n",
    "\n",
    "찬솔이를 대신해서 \n",
    "$X$일 동안 가장 많이 들어온 방문자 수와 기간이 몇 개 있는지 구해주자.\n",
    "\n",
    "### 입력\n",
    "\n",
    "첫째 줄에 블로그를 시작하고 지난 일수 \n",
    "$N$와 \n",
    "$X$가 공백으로 구분되어 주어진다.\n",
    "\n",
    "둘째 줄에는 블로그 시작 \n",
    "$1$일차부터 \n",
    "$N$일차까지 하루 방문자 수가 공백으로 구분되어 주어진다.\n",
    "\n",
    "### 출력\n",
    "\n",
    "첫째 줄에 \n",
    "$X$일 동안 가장 많이 들어온 방문자 수를 출력한다. 만약 최대 방문자 수가 0명이라면 SAD를 출력한다.\n",
    "\n",
    "만약 최대 방문자 수가 0명이 아닌 경우 둘째 줄에 기간이 몇 개 있는지 출력한다.\n",
    "\n",
    "\n",
    "\n"
   ]
  },
  {
   "cell_type": "code",
   "execution_count": 1,
   "metadata": {},
   "outputs": [
    {
     "name": "stdout",
     "output_type": "stream",
     "text": [
      "[1, 2]\n"
     ]
    }
   ],
   "source": [
    "n,x =map(int,input().split())\n",
    "visited=list(map(int,input().split()))\n",
    "\n",
    "if max(visited) == 0:\n",
    "    print(\"SAD\")\n",
    "\n",
    "else:\n",
    "    li_num = sum(visited[0:x])\n",
    "    value = li_num\n",
    "    cnt = 1\n",
    "    for i in range(x, n):\n",
    "        value -= visited[i-x]\n",
    "        value += visited[i]\n",
    "        if value > li_num:\n",
    "            li_num = value\n",
    "            cnt = 1\n",
    "        elif value == li_num:\n",
    "            cnt += 1\n",
    "    print(li_num)\n",
    "    print(cnt)"
   ]
  }
 ],
 "metadata": {
  "kernelspec": {
   "display_name": "Python 3",
   "language": "python",
   "name": "python3"
  },
  "language_info": {
   "codemirror_mode": {
    "name": "ipython",
    "version": 3
   },
   "file_extension": ".py",
   "mimetype": "text/x-python",
   "name": "python",
   "nbconvert_exporter": "python",
   "pygments_lexer": "ipython3",
   "version": "3.12.1"
  }
 },
 "nbformat": 4,
 "nbformat_minor": 2
}
