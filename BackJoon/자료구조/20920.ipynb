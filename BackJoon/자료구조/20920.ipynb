{
 "cells": [
  {
   "cell_type": "markdown",
   "metadata": {},
   "source": [
    "### 문제\n",
    "화은이는 이번 영어 시험에서 틀린 문제를 바탕으로 영어 단어 암기를 하려고 한다. 그 과정에서 효율적으로 영어 단어를 외우기 위해 영어 단어장을 만들려 하고 있다. 화은이가 만들고자 하는 단어장의 단어 순서는 다음과 같은 우선순위를 차례로 적용하여 만들어진다.\n",
    "\n",
    "자주 나오는 단어일수록 앞에 배치한다.\n",
    "해당 단어의 길이가 길수록 앞에 배치한다.\n",
    "알파벳 사전 순으로 앞에 있는 단어일수록 앞에 배치한다\n",
    " \n",
    "$M$보다 짧은 길이의 단어의 경우 읽는 것만으로도 외울 수 있기 때문에 길이가 \n",
    "$M$이상인 단어들만 외운다고 한다. 화은이가 괴로운 영단어 암기를 효율적으로 할 수 있도록 단어장을 만들어 주자.\n",
    "\n",
    "### 입력\n",
    "첫째 줄에는 영어 지문에 나오는 단어의 개수 \n",
    "$N$과 외울 단어의 길이 기준이 되는 \n",
    "$M$이 공백으로 구분되어 주어진다. (\n",
    "$1 \\leq N \\leq 100\\,000$, \n",
    "$1 \\leq M \\leq 10$)\n",
    "\n",
    "둘째 줄부터 \n",
    "$N+1$번째 줄까지 외울 단어를 입력받는다. 이때의 입력은 알파벳 소문자로만 주어지며 단어의 길이는 \n",
    "$10$을 넘지 않는다.\n",
    "\n",
    "단어장에 단어가 반드시 1개 이상 존재하는 입력만 주어진다.\n",
    "\n",
    "### 출력\n",
    "화은이의 단어장에 들어 있는 단어를 단어장의 앞에 위치한 단어부터 한 줄에 한 단어씩 순서대로 출력한다.\n",
    "\n",
    "\n",
    "\n"
   ]
  },
  {
   "cell_type": "code",
   "execution_count": 4,
   "metadata": {},
   "outputs": [
    {
     "name": "stdout",
     "output_type": "stream",
     "text": [
      "{'apple': [2, 5, 'apple'], 'sand': [3, 4, 'sand'], 'append': [1, 6, 'append']}\n",
      "sand\n",
      "apple\n",
      "append\n"
     ]
    }
   ],
   "source": [
    "import sys\n",
    "input = sys.stdin.readline\n",
    "\n",
    "n,m = map(int, input().split())\n",
    "d = {}\n",
    "for _ in range(n):\n",
    "\tname = input().strip()\n",
    "    \t# 단어길이가 M보다 작으면 패스\n",
    "\tif len(name) < m:\n",
    "\t\tcontinue\n",
    "        # d.get()은 해당 값이 존재하면 값을 반환 없으면 None을 반환\n",
    "\tif d.get(name):\n",
    "    \t\t# 단어가 존재하면 개수 하나 증가\n",
    "\t\td[name][0] += 1\n",
    "\telse:\n",
    "    \t\t# 존재하지 않으면 [개수, 길이, 단어] 추가 \n",
    "\t\td[name] = [1, len(name), name]\n",
    "# 개수, 길이는 내림차순으로 단어는 사전순(오름차순)으로 정렬\n",
    "ans = sorted(d.items(), key= lambda x: (-x[1][0], -x[1][1], x[1][2]))\n",
    "\n",
    "for a in ans:\n",
    "\tprint(a[0])\n"
   ]
  }
 ],
 "metadata": {
  "kernelspec": {
   "display_name": "Python 3",
   "language": "python",
   "name": "python3"
  },
  "language_info": {
   "codemirror_mode": {
    "name": "ipython",
    "version": 3
   },
   "file_extension": ".py",
   "mimetype": "text/x-python",
   "name": "python",
   "nbconvert_exporter": "python",
   "pygments_lexer": "ipython3",
   "version": "3.12.1"
  }
 },
 "nbformat": 4,
 "nbformat_minor": 2
}
