{
 "cells": [
  {
   "cell_type": "markdown",
   "metadata": {},
   "source": [
    "### 문제\n",
    "무게가 서로 다른 N 개의 물건이 있다. 각 물건은 1부터 N 까지 번호가 매겨져 있다. 우리는 일부 물건 쌍에 대해서 양팔 저울로 어떤 것이 무거운 것인지를 측정한 결과표를 가지고 있다. 이 결과표로부터 직접 측정하지 않은 물건 쌍의 비교 결과를 알아낼 수도 있고 알아내지 못할 수도 있다. 예를 들어, 총 6개의 물건이 있고, 다음 5개의 비교 결과가 주어졌다고 가정하자. ([1]은 1번 물건의 무게를 의미한다.)\n",
    "\n",
    "[1]>[2], [2]>[3], [3]>[4], [5]>[4], [6]>[5]\n",
    "\n",
    "우리는 [2]>[3], [3]>[4]로부터 [2]>[4]라는 것을 알 수 있다. 하지만, 물건 2와 물건 6을 비교하는 경우, 앞서의 결과만으로는 어느 것이 무거운지 알 수 없다. 이와 같이, 물건 2는 물건 1, 3, 4와의 비교 결과는 알 수 있지만, 물건 5, 6과의 비교 결과는 알 수 없다. 물건 4는 모든 다른 물건과의 비교 결과를 알 수 있다. \n",
    "\n",
    "비교 결과가 모순되는 입력은 없다고 가정한다. 위 예제의 기존 측정 결과에 [3]>[1]이 추가되었다고 가정하자. 이 경우 [1]>[2], [2]>[3]이므로 우리는 [1]>[3]이라는 것을 예측할 수 있는데, 이는 기존에 측정된 결과 [3]>[1]과 서로 모순이므로 이러한 입력은 가능하지 않다. \n",
    "\n",
    "물건의 개수 N 과 일부 물건 쌍의 비교 결과가 주어졌을 때, 각 물건에 대해서 그 물건과의 비교 결과를 알 수 없는 물건의 개수를 출력하는 프로그램을 작성하시오. \n",
    "\n",
    "### 입력\n",
    "첫 줄에는 물건의 개수 N 이 주어지고, 둘째 줄에는 미리 측정된 물건 쌍의 개수 M이 주어진다. 단, 5 ≤ N ≤ 100 이고, 0 ≤ M ≤ 2,000이다. 다음 M개의 줄에 미리 측정된 비교 결과가 한 줄에 하나씩 주어진다. 각 줄에는 측정된 물건 번호를 나타내는 두 개의 정수가 공백을 사이에 두고 주어지며, 앞의 물건이 뒤의 물건보다 더 무겁다.\n",
    "\n",
    "\n",
    "### 출력\n",
    "여러분은 N개의 줄에 결과를 출력해야 한다. i 번째 줄에는 물건 i 와 비교 결과를 알 수 없는 물건의 개수를 출력한다.\n",
    "\n"
   ]
  },
  {
   "cell_type": "code",
   "execution_count": 12,
   "metadata": {},
   "outputs": [
    {
     "ename": "IndexError",
     "evalue": "list index out of range",
     "output_type": "error",
     "traceback": [
      "\u001b[1;31m---------------------------------------------------------------------------\u001b[0m",
      "\u001b[1;31mIndexError\u001b[0m                                Traceback (most recent call last)",
      "Cell \u001b[1;32mIn[12], line 15\u001b[0m\n\u001b[0;32m     13\u001b[0m     \u001b[38;5;28;01mfor\u001b[39;00m i \u001b[38;5;129;01min\u001b[39;00m \u001b[38;5;28mrange\u001b[39m(\u001b[38;5;241m1\u001b[39m,n\u001b[38;5;241m+\u001b[39m\u001b[38;5;241m1\u001b[39m):\n\u001b[0;32m     14\u001b[0m         \u001b[38;5;28;01mfor\u001b[39;00m j \u001b[38;5;129;01min\u001b[39;00m \u001b[38;5;28mrange\u001b[39m(\u001b[38;5;241m1\u001b[39m,n\u001b[38;5;241m+\u001b[39m\u001b[38;5;241m1\u001b[39m):\n\u001b[1;32m---> 15\u001b[0m             \u001b[38;5;28;01mif\u001b[39;00m(answer[i][k]\u001b[38;5;129;01mand\u001b[39;00m \u001b[43marr\u001b[49m\u001b[43m[\u001b[49m\u001b[43mk\u001b[49m\u001b[43m]\u001b[49m\u001b[43m[\u001b[49m\u001b[43mj\u001b[49m\u001b[43m]\u001b[49m):\n\u001b[0;32m     16\u001b[0m                 answer[i][j]\u001b[38;5;241m=\u001b[39m\u001b[38;5;241m1\u001b[39m\n\u001b[0;32m     17\u001b[0m \u001b[38;5;28;01mfor\u001b[39;00m i \u001b[38;5;129;01min\u001b[39;00m \u001b[38;5;28mrange\u001b[39m(\u001b[38;5;241m1\u001b[39m,n\u001b[38;5;241m+\u001b[39m\u001b[38;5;241m1\u001b[39m):\n",
      "\u001b[1;31mIndexError\u001b[0m: list index out of range"
     ]
    }
   ],
   "source": [
    "import sys\n",
    "\n",
    "INF = int(1e9)\n",
    "n = int(sys.stdin.readline())  # 물건의 개수\n",
    "m = int(sys.stdin.readline())  # 측정된 물건의 쌍\n",
    "# 2차원 그래프, 모든 값을 무한으로 초기화\n",
    "\n",
    "graph = [[INF] * (n + 1) for _ in range(n + 1)]   # 거리를 담는 테이블\n",
    "\n",
    "# 1. 자기 자신으로 가는 노드 비용을 0으로 초기화\n",
    "for a in range(1, n + 1):\n",
    "    for b in range(1, n + 1):\n",
    "        if a == b:\n",
    "            graph[a][b] = 1\n",
    "\n",
    "for _ in range(m):\n",
    "    a, b = map(int, sys.stdin.readline().split())\n",
    "    graph[a][b] = 1\n",
    "\n",
    "# 2. 플로이드와셜 점화식 - a에서 b로 가는 경로가 있는지 확인 \n",
    "for k in range(1, n + 1):\n",
    "    for a in range(1, n + 1):   # 출발 노드\n",
    "        for b in range(1, n + 1):   # 도착 노드\n",
    "            graph[a][b] = min(graph[a][b], graph[a][k] + graph[k][b])\n",
    "\n",
    "# 3. a, b 비교 가능한지 확인 \n",
    "for a in range(1, n + 1):\n",
    "    count = 0\n",
    "    for b in range(1, n + 1):\n",
    "        if graph[a][b] == INF and graph[b][a] == INF:  # a>b, b>a 가는 경로가 없는 경우 + 1\n",
    "            count += 1\n",
    "    print(count)\n",
    "\n",
    "#440ms"
   ]
  },
  {
   "cell_type": "code",
   "execution_count": null,
   "metadata": {},
   "outputs": [],
   "source": [
    "import sys\n",
    "input = sys.stdin.readline\n",
    "\n",
    "N = int(input())\n",
    "M = int(input())\n",
    "\n",
    "graphs = [[[] for _ in range(2)] for _ in range(N+1)]\n",
    "\n",
    "for _ in range(M):\n",
    "    a, b = map(int, input().split())\n",
    "    graphs[a][0] += [b]\n",
    "    graphs[b][1] += [a]\n",
    "    \n",
    "def dfs(idx, tp):\n",
    "    visited[idx] = 1\n",
    "    for g in graphs[idx][tp]:\n",
    "        if not visited[g]:\n",
    "            dfs(g, tp)\n",
    "    return\n",
    "\n",
    "for i in range(1, N+1):\n",
    "    visited = [0]*(N+1)\n",
    "    dfs(i, 0)\n",
    "    dfs(i, 1)\n",
    "    ans = N - sum(visited)\n",
    "    print(ans)\n",
    "\n",
    "#44ms"
   ]
  }
 ],
 "metadata": {
  "kernelspec": {
   "display_name": "Python 3",
   "language": "python",
   "name": "python3"
  },
  "language_info": {
   "codemirror_mode": {
    "name": "ipython",
    "version": 3
   },
   "file_extension": ".py",
   "mimetype": "text/x-python",
   "name": "python",
   "nbconvert_exporter": "python",
   "pygments_lexer": "ipython3",
   "version": "3.12.1"
  }
 },
 "nbformat": 4,
 "nbformat_minor": 2
}
