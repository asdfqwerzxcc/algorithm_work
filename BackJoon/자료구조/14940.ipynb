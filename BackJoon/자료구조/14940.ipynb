{
 "cells": [
  {
   "cell_type": "markdown",
   "metadata": {},
   "source": [
    "### 문제\n",
    "지도가 주어지면 모든 지점에 대해서 목표지점까지의 거리를 구하여라.\n",
    "\n",
    "문제를 쉽게 만들기 위해 오직 가로와 세로로만 움직일 수 있다고 하자.\n",
    "\n",
    "### 입력\n",
    "\n",
    "지도의 크기 n과 m이 주어진다. n은 세로의 크기, m은 가로의 크기다.(2 ≤ n ≤ 1000, 2 ≤ m ≤ 1000)\n",
    "\n",
    "다음 n개의 줄에 m개의 숫자가 주어진다. 0은 갈 수 없는 땅이고 1은 갈 수 있는 땅, 2는 목표지점이다. 입력에서 2는 단 한개이다.\n",
    "\n",
    "### 출력\n",
    "\n",
    "각 지점에서 목표지점까지의 거리를 출력한다. 원래 갈 수 없는 땅인 위치는 0을 출력하고, 원래 갈 수 있는 땅인 부분 중에서 도달할 수 없는 위치는 -1을 출력한다.\n",
    "\n",
    "\n",
    "\n"
   ]
  },
  {
   "cell_type": "code",
   "execution_count": 1,
   "metadata": {},
   "outputs": [
    {
     "name": "stdout",
     "output_type": "stream",
     "text": [
      "0 1 2 3 4 5 6 7 8 9 10 11 12 13 14 \n",
      "1 2 3 4 5 6 7 8 9 10 11 12 13 14 15 \n",
      "2 3 4 5 6 7 8 9 10 11 12 13 14 15 16 \n",
      "3 4 5 6 7 8 9 10 11 12 13 14 15 16 17 \n",
      "4 5 6 7 8 9 10 11 12 13 14 15 16 17 18 \n",
      "5 6 7 8 9 10 11 12 13 14 15 16 17 18 19 \n",
      "6 7 8 9 10 11 12 13 14 15 16 17 18 19 20 \n",
      "7 8 9 10 11 12 13 14 15 16 17 18 19 20 21 \n",
      "8 9 10 11 12 13 14 15 16 17 18 19 20 21 22 \n",
      "9 10 11 12 13 14 15 16 17 18 19 20 21 22 23 \n",
      "10 11 12 13 14 15 16 17 18 19 20 21 22 23 24 \n",
      "11 12 13 14 15 16 17 18 19 20 0 0 0 0 25 \n",
      "12 13 14 15 16 17 18 19 20 21 0 29 28 27 26 \n",
      "13 14 15 16 17 18 19 20 21 22 0 30 0 0 0 \n",
      "14 15 16 17 18 19 20 21 22 23 0 31 32 33 34 \n"
     ]
    }
   ],
   "source": [
    "from collections import deque\n",
    "\n",
    "def bfs(x, y):\n",
    "    dx = [-1, 1, 0, 0]\n",
    "    dy = [0, 0, -1, 1]\n",
    "    visited[x][y] = 1\n",
    "    graph[x][y] = 0\n",
    "    queue = deque()\n",
    "    queue.append((x, y))\n",
    "\n",
    "    while queue:\n",
    "        x, y = queue.popleft()\n",
    "        for k in range(4):\n",
    "            nx = x + dx[k]\n",
    "            ny = y + dy[k]\n",
    "            if 0 <= nx < n and 0 <= ny <m and graph[nx][ny] == 1 and visited[nx][ny] == 0:\n",
    "                visited[nx][ny] = 1\n",
    "                queue.append((nx, ny))\n",
    "                graph[nx][ny] = graph[x][y] + 1\n",
    "\n",
    "n, m = map(int, input().split())\n",
    "x, y = 0, 0\n",
    "\n",
    "visited = [[0 for _ in range(m)] for _ in range(n)]\n",
    "graph = []\n",
    "\n",
    "for i in range(n):\n",
    "    x = list(map(int, input().split()))\n",
    "    graph.append(x)\n",
    "\n",
    "for i in range(n):\n",
    "    for j in range(m):\n",
    "        if graph[i][j] == 2:\n",
    "            x, y = i, j\n",
    "            break\n",
    "\n",
    "bfs(x, y)\n",
    "\n",
    "for i in range(n):\n",
    "    for j in range(m):\n",
    "        if graph[i][j] == 1 and visited[i][j] == 0:\n",
    "            graph[i][j] = -1\n",
    "\n",
    "for i in graph:\n",
    "    for j in i:\n",
    "        print(j, end = ' ')\n",
    "    print()"
   ]
  }
 ],
 "metadata": {
  "kernelspec": {
   "display_name": "Python 3",
   "language": "python",
   "name": "python3"
  },
  "language_info": {
   "codemirror_mode": {
    "name": "ipython",
    "version": 3
   },
   "file_extension": ".py",
   "mimetype": "text/x-python",
   "name": "python",
   "nbconvert_exporter": "python",
   "pygments_lexer": "ipython3",
   "version": "3.12.1"
  }
 },
 "nbformat": 4,
 "nbformat_minor": 2
}
