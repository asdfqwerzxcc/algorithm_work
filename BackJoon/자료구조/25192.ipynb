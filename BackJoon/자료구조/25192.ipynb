{
 "cells": [
  {
   "cell_type": "markdown",
   "metadata": {},
   "source": [
    "### 문제\n",
    "알고리즘 입문방 오픈 채팅방에서는 새로운 분들이 입장을 할 때마다 곰곰티콘을 사용해 인사를 한다. 이를 본 문자열 킬러 임스는 채팅방의 기록을 수집해 그 중 곰곰티콘이 사용된 횟수를 구해 보기로 했다.\n",
    "\n",
    "ENTER는 새로운 사람이 채팅방에 입장했음을 나타낸다. 그 외는 채팅을 입력한 유저의 닉네임을 나타낸다. 닉네임은 숫자 또는 영문 대소문자로 구성되어 있다.\n",
    "\n",
    "새로운 사람이 입장한 이후 처음 채팅을 입력하는 사람은 반드시 곰곰티콘으로 인사를 한다. 그 외의 기록은 곰곰티콘을 쓰지 않은 평범한 채팅 기록이다.\n",
    "\n",
    "채팅 기록 중 곰곰티콘이 사용된 횟수를 구해보자!\n",
    "\n",
    "### 입력\n",
    "첫 번째 줄에는 채팅방의 기록 수를 나타내는 정수 \n",
    "$N$ 이 주어진다. (\n",
    "$1 \\le N \\le 100\\,000$)\n",
    "\n",
    "두 번째 줄부터 \n",
    "$N$ 개의 줄에 걸쳐 새로운 사람의 입장을 나타내는 ENTER, 혹은 채팅을 입력한 유저의 닉네임이 문자열로 주어진다. (문자열길이\n",
    "$1 \\le \\texttt{문자열 길이} \\le 20$)\n",
    "\n",
    "첫 번째 주어지는 문자열은 무조건 ENTER이다.\n",
    "\n",
    "### 출력\n",
    "채팅 기록 중 곰곰티콘이 사용된 횟수를 출력하시오.\n",
    "\n"
   ]
  },
  {
   "cell_type": "code",
   "execution_count": 3,
   "metadata": {},
   "outputs": [
    {
     "name": "stdout",
     "output_type": "stream",
     "text": [
      "S\n"
     ]
    }
   ],
   "source": [
    "from sys import stdin\n",
    "\n",
    "input = stdin.readline\n",
    "n=int(input())\n",
    "cnt=0\n",
    "word_list=set()\n",
    "\n",
    "for _ in range(n):\n",
    "    word=input().strip()\n",
    "\n",
    "    if word!='ENTER':\n",
    "        if word not in word_list:\n",
    "            cnt+=1\n",
    "            word_list.add(word)\n",
    "\n",
    "    elif word==\"ENTER\":\n",
    "        word_list.clear()\n",
    "\n",
    "print(cnt)\n"
   ]
  }
 ],
 "metadata": {
  "kernelspec": {
   "display_name": "Python 3",
   "language": "python",
   "name": "python3"
  },
  "language_info": {
   "codemirror_mode": {
    "name": "ipython",
    "version": 3
   },
   "file_extension": ".py",
   "mimetype": "text/x-python",
   "name": "python",
   "nbconvert_exporter": "python",
   "pygments_lexer": "ipython3",
   "version": "3.12.1"
  }
 },
 "nbformat": 4,
 "nbformat_minor": 2
}
