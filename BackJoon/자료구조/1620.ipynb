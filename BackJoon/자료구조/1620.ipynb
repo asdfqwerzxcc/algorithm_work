{
 "cells": [
  {
   "cell_type": "code",
   "execution_count": 3,
   "metadata": {},
   "outputs": [
    {
     "name": "stdout",
     "output_type": "stream",
     "text": [
      "S\n"
     ]
    }
   ],
   "source": [
    "import sys\n",
    "N, M = map(int, sys.stdin.readline().split())\n",
    "poketmon = dict()\n",
    "number = dict()\n",
    "for i in range(1, N+1):\n",
    "    po = sys.stdin.readline().strip()\n",
    "    poketmon[i] = po# O(N)\n",
    "    number[po] = i\n",
    "\n",
    "for i in range(M):\n",
    "    find = sys.stdin.readline().strip()\n",
    "    if find[0].isalpha():\n",
    "        print(number[find]) # O(N^2)\n",
    "    else:\n",
    "        print(poketmon[int(find)])"
   ]
  }
 ],
 "metadata": {
  "kernelspec": {
   "display_name": "Python 3",
   "language": "python",
   "name": "python3"
  },
  "language_info": {
   "codemirror_mode": {
    "name": "ipython",
    "version": 3
   },
   "file_extension": ".py",
   "mimetype": "text/x-python",
   "name": "python",
   "nbconvert_exporter": "python",
   "pygments_lexer": "ipython3",
   "version": "3.12.1"
  }
 },
 "nbformat": 4,
 "nbformat_minor": 2
}
