{
 "cells": [
  {
   "cell_type": "markdown",
   "metadata": {},
   "source": [
    "### 문제\n",
    "N개의 도시가 있다. 그리고 한 도시에서 출발하여 다른 도시에 도착하는 M개의 버스가 있다. 우리는 A번째 도시에서 B번째 도시까지 가는데 드는 버스 비용을 최소화 시키려고 한다. A번째 도시에서 B번째 도시까지 가는데 드는 최소비용을 출력하여라. 도시의 번호는 1부터 N까지이다.\n",
    "\n",
    "### 입력\n",
    "\n",
    "첫째 줄에 도시의 개수 N(1 ≤ N ≤ 1,000)이 주어지고 둘째 줄에는 버스의 개수 M(1 ≤ M ≤ 100,000)이 주어진다. 그리고 셋째 줄부터 M+2줄까지 다음과 같은 버스의 정보가 주어진다. 먼저 처음에는 그 버스의 출발 도시의 번호가 주어진다. 그리고 그 다음에는 도착지의 도시 번호가 주어지고 또 그 버스 비용이 주어진다. 버스 비용은 0보다 크거나 같고, 100,000보다 작은 정수이다.\n",
    "\n",
    "그리고 M+3째 줄에는 우리가 구하고자 하는 구간 출발점의 도시번호와 도착점의 도시번호가 주어진다. 출발점에서 도착점을 갈 수 있는 경우만 입력으로 주어진다.\n",
    "### 출력\n",
    "첫째 줄에 출발 도시에서 도착 도시까지 가는데 드는 최소 비용을 출력한다."
   ]
  },
  {
   "cell_type": "code",
   "execution_count": null,
   "metadata": {},
   "outputs": [],
   "source": [
    "import sys, heapq\n",
    "\n",
    "def dijkstra(start, end):\n",
    "    heap = []\n",
    "    heapq.heappush(heap, [0, start])\n",
    "    d[start] = 0\n",
    "\n",
    "    while heap:\n",
    "        check, i = heapq.heappop(heap)\n",
    "\n",
    "        if i == end:\n",
    "            return d[end]\n",
    "\n",
    "        for v, w in adj[i]:\n",
    "            tmp = w + check\n",
    "            if d[v] > tmp:\n",
    "                d[v] = tmp\n",
    "                heapq.heappush(heap, [tmp, v])\n",
    "\n",
    "n = int(input())\n",
    "m = int(input())\n",
    "adj = [[] for _ in range(n+1)]\n",
    "for _ in range(m):\n",
    "    u, v, w = map(int, sys.stdin.readline().split())\n",
    "    adj[u].append([v, w])\n",
    "\n",
    "start, end = map(int, input().split())\n",
    "\n",
    "d = [100000000] * (n+1)\n",
    "print(dijkstra(start, end))"
   ]
  }
 ],
 "metadata": {
  "language_info": {
   "name": "python"
  }
 },
 "nbformat": 4,
 "nbformat_minor": 2
}
