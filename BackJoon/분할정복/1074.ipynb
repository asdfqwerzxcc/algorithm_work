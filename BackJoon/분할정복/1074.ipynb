{
 "cells": [
  {
   "cell_type": "markdown",
   "metadata": {},
   "source": [
    "### 문제\n",
    "한수는 크기가 2N × 2N인 2차원 배열을 Z모양으로 탐색하려고 한다. 예를 들어, 2×2배열을 왼쪽 위칸, 오른쪽 위칸, 왼쪽 아래칸, 오른쪽 아래칸 순서대로 방문하면 Z모양이다.\n",
    "\n",
    "N > 1인 경우, 배열을 크기가 2N-1 × 2N-1로 4등분 한 후에 재귀적으로 순서대로 방문한다.\n",
    "\n",
    "다음 예는 22 × 22 크기의 배열을 방문한 순서이다.\n",
    "\n",
    "N이 주어졌을 때, r행 c열을 몇 번째로 방문하는지 출력하는 프로그램을 작성하시오.\n",
    "\n",
    "다음은 N=3일 때의 예이다.\n",
    "\n",
    "### 입력\n",
    "첫째 줄에 정수 N, r, c가 주어진다.\n",
    "\n",
    "### 출력\n",
    "r행 c열을 몇 번째로 방문했는지 출력한다.\n"
   ]
  },
  {
   "cell_type": "code",
   "execution_count": 1,
   "metadata": {},
   "outputs": [
    {
     "name": "stdout",
     "output_type": "stream",
     "text": [
      "11\n"
     ]
    }
   ],
   "source": [
    "N, r, c = map(int, input().split())\n",
    "\n",
    "ans = 0\n",
    "\n",
    "while N != 0:\n",
    "\n",
    "\tN -= 1\n",
    "\n",
    "\t# 1사분면\n",
    "\tif r < 2 ** N and c < 2 ** N:\n",
    "\t\tans += ( 2 ** N ) * ( 2 ** N ) * 0\n",
    "\n",
    "\t# 2사분면\n",
    "\telif r < 2 ** N and c >= 2 ** N: \n",
    "\t\tans += ( 2 ** N ) * ( 2 ** N ) * 1\n",
    "\t\tc -= ( 2 ** N )\n",
    "        \n",
    "\t# 3사분면    \n",
    "\telif r >= 2 ** N and c < 2 ** N: \n",
    "\t\tans += ( 2 ** N ) * ( 2 ** N ) * 2\n",
    "\t\tr -= ( 2 ** N )\n",
    "        \n",
    "\t# 4사분면    \n",
    "\telse:\n",
    "\t\tans += ( 2 ** N ) * ( 2 ** N ) * 3\n",
    "\t\tr -= ( 2 ** N )\n",
    "\t\tc -= ( 2 ** N )\n",
    "    \n",
    "print(ans)"
   ]
  }
 ],
 "metadata": {
  "kernelspec": {
   "display_name": "Python 3",
   "language": "python",
   "name": "python3"
  },
  "language_info": {
   "codemirror_mode": {
    "name": "ipython",
    "version": 3
   },
   "file_extension": ".py",
   "mimetype": "text/x-python",
   "name": "python",
   "nbconvert_exporter": "python",
   "pygments_lexer": "ipython3",
   "version": "3.12.1"
  }
 },
 "nbformat": 4,
 "nbformat_minor": 2
}
