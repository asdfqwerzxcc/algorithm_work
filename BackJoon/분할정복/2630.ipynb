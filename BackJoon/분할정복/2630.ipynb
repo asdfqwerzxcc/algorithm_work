{
 "cells": [
  {
   "cell_type": "code",
   "execution_count": 1,
   "metadata": {},
   "outputs": [
    {
     "name": "stdout",
     "output_type": "stream",
     "text": [
      "11\n"
     ]
    }
   ],
   "source": [
    "import sys\n",
    "input = sys.stdin.readline\n",
    "n = int(input())\n",
    "B = [list(map(int, input().split())) for _ in range(n)]\n",
    "w_cnt, b_cnt = 0, 0\n",
    "\n",
    "def div_conq(x, y, N):\n",
    "    global w_cnt, b_cnt\n",
    "    tmp_cnt = 0\n",
    "    for i in range(x, x + N):\n",
    "        for j in range(y, y + N):\n",
    "            if B[i][j]:\n",
    "                tmp_cnt += 1\n",
    "    if not tmp_cnt:\n",
    "        w_cnt += 1\n",
    "    elif tmp_cnt == N**2:\n",
    "        b_cnt += 1\n",
    "    else:\n",
    "        div_conq(x, y, N // 2)\n",
    "        div_conq(x + N // 2, y, N // 2)\n",
    "        div_conq(x, y + N // 2, N // 2)\n",
    "        div_conq(x + N // 2, y + N // 2, N // 2)\n",
    "    return\n",
    "\n",
    "div_conq(0, 0, n)\n",
    "print(w_cnt)\n",
    "print(b_cnt)"
   ]
  }
 ],
 "metadata": {
  "kernelspec": {
   "display_name": "Python 3",
   "language": "python",
   "name": "python3"
  },
  "language_info": {
   "codemirror_mode": {
    "name": "ipython",
    "version": 3
   },
   "file_extension": ".py",
   "mimetype": "text/x-python",
   "name": "python",
   "nbconvert_exporter": "python",
   "pygments_lexer": "ipython3",
   "version": "3.12.1"
  }
 },
 "nbformat": 4,
 "nbformat_minor": 2
}
