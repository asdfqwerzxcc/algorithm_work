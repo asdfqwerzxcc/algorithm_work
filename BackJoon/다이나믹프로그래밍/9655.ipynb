{
 "cells": [
  {
   "cell_type": "markdown",
   "metadata": {},
   "source": [
    "### 문제\n",
    "돌 게임은 두 명이서 즐기는 재밌는 게임이다.\n",
    "\n",
    "탁자 위에 돌 N개가 있다. 상근이와 창영이는 턴을 번갈아가면서 돌을 가져가며, 돌은 1개 또는 3개 가져갈 수 있다. 마지막 돌을 가져가는 사람이 게임을 이기게 된다.\n",
    "\n",
    "두 사람이 완벽하게 게임을 했을 때, 이기는 사람을 구하는 프로그램을 작성하시오. 게임은 상근이가 먼저 시작한다.\n",
    "\n",
    "### 입력\n",
    "첫째 줄에 N이 주어진다. (1 ≤ N ≤ 1000)\n",
    "\n",
    "### 출력\n",
    "상근이가 게임을 이기면 SK를, 창영이가 게임을 이기면 CY을 출력한다.\n"
   ]
  },
  {
   "cell_type": "code",
   "execution_count": 2,
   "metadata": {},
   "outputs": [
    {
     "name": "stdout",
     "output_type": "stream",
     "text": [
      "Sk\n"
     ]
    }
   ],
   "source": [
    "n = int(input())\n",
    "\n",
    "if n%2==0:\n",
    "    print('CY')\n",
    "else:\n",
    "    print('SK')\n"
   ]
  },
  {
   "cell_type": "markdown",
   "metadata": {},
   "source": [
    "### 설명\n",
    "\n",
    "돌의 개수가 홀수개인 경우 상근이가 이기고,\n",
    "돌의 개수가 짝수개인 경우 창용이가 이기는 것을 확인할 수 있다.\n",
    "따라서, 돌의 개수를 입력받아 해당 N이 짝, 홀수인지를 판단 후 이긴사람을 출력해주기만 하면 된다.\n"
   ]
  }
 ],
 "metadata": {
  "kernelspec": {
   "display_name": "Python 3",
   "language": "python",
   "name": "python3"
  },
  "language_info": {
   "codemirror_mode": {
    "name": "ipython",
    "version": 3
   },
   "file_extension": ".py",
   "mimetype": "text/x-python",
   "name": "python",
   "nbconvert_exporter": "python",
   "pygments_lexer": "ipython3",
   "version": "3.12.1"
  }
 },
 "nbformat": 4,
 "nbformat_minor": 2
}
