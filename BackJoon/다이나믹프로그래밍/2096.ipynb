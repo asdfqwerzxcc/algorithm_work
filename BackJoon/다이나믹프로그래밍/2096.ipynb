{
 "cells": [
  {
   "cell_type": "code",
   "execution_count": 2,
   "metadata": {},
   "outputs": [
    {
     "name": "stdout",
     "output_type": "stream",
     "text": [
      "14\n"
     ]
    }
   ],
   "source": [
    "from sys import stdin\n",
    "\n",
    "N = int(input())\n",
    "# 맨 처음 세개의 숫자를 입력받아 DP의 초기 값을 설정한다.\n",
    "arr = list(map(int, stdin.readline().split()))\n",
    "maxDP = arr\n",
    "minDP = arr\n",
    "for _ in range(N - 1):\n",
    "    arr = list(map(int, stdin.readline().split()))\n",
    "    # 세가지 값을 입력받을 때마다, DP에 새롭게 갱신한다.\n",
    "    maxDP = [arr[0] + max(maxDP[0], maxDP[1]), arr[1] + max(maxDP), arr[2] + max(maxDP[1], maxDP[2])]\n",
    "    minDP = [arr[0] + min(minDP[0], minDP[1]), arr[1] + min(minDP), arr[2] + min(minDP[1], minDP[2])]\n",
    "\n",
    "print(max(maxDP), min(minDP))"
   ]
  }
 ],
 "metadata": {
  "kernelspec": {
   "display_name": "Python 3",
   "language": "python",
   "name": "python3"
  },
  "language_info": {
   "codemirror_mode": {
    "name": "ipython",
    "version": 3
   },
   "file_extension": ".py",
   "mimetype": "text/x-python",
   "name": "python",
   "nbconvert_exporter": "python",
   "pygments_lexer": "ipython3",
   "version": "3.12.1"
  }
 },
 "nbformat": 4,
 "nbformat_minor": 2
}
