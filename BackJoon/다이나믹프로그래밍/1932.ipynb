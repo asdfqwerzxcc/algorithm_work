{
 "cells": [
  {
   "cell_type": "code",
   "execution_count": 3,
   "metadata": {},
   "outputs": [
    {
     "name": "stdout",
     "output_type": "stream",
     "text": [
      "6\n"
     ]
    }
   ],
   "source": [
    "n=int(input())\n",
    "dp=[]\n",
    "\n",
    "for i in range(n):\n",
    "    dp.append(list(map(int,input().split())))\n",
    "\n",
    "for i in range(1,n) :                           ## 행을 기준으로 for문 구성\n",
    "    for j in range(0,i+1) :                     ## 열을 기준으로 for문 구성\n",
    "        if j == 0 :\n",
    "            dp[i][0] += dp[i-1][0]              # 0열끼리 더하기\n",
    "        elif j == i :\n",
    "            dp[i][j] += dp[i-1][j-1]            # 마지막 열끼리 더하기\n",
    "        else :\n",
    "            dp[i][j] += max(dp[i-1][j-1],dp[i-1][j])    # 두 화살표중 더 큰 경우 받아들이기\n",
    "\n",
    "print(max(dp[n-1]))                 # n-1행에서의 최댓값 출력"
   ]
  }
 ],
 "metadata": {
  "kernelspec": {
   "display_name": "Python 3",
   "language": "python",
   "name": "python3"
  },
  "language_info": {
   "codemirror_mode": {
    "name": "ipython",
    "version": 3
   },
   "file_extension": ".py",
   "mimetype": "text/x-python",
   "name": "python",
   "nbconvert_exporter": "python",
   "pygments_lexer": "ipython3",
   "version": "3.12.1"
  }
 },
 "nbformat": 4,
 "nbformat_minor": 2
}
