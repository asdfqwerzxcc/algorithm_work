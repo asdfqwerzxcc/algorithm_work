{
 "cells": [
  {
   "cell_type": "markdown",
   "metadata": {},
   "source": [
    "### 문제\n",
    "수 N개가 주어졌을 때, i번째 수부터 j번째 수까지 합을 구하는 프로그램을 작성하시오.\n",
    "\n",
    "### 입력\n",
    "첫째 줄에 수의 개수 N과 합을 구해야 하는 횟수 M이 주어진다. 둘째 줄에는 N개의 수가 주어진다. 수는 1,000보다 작거나 같은 자연수이다. 셋째 줄부터 M개의 줄에는 합을 구해야 하는 구간 i와 j가 주어진다.\n",
    "\n",
    "### 출력\n",
    "총 M개의 줄에 입력으로 주어진 i번째 수부터 j번째 수까지 합을 출력한다."
   ]
  },
  {
   "cell_type": "code",
   "execution_count": 3,
   "metadata": {},
   "outputs": [
    {
     "name": "stdout",
     "output_type": "stream",
     "text": [
      "[]\n"
     ]
    }
   ],
   "source": [
    "import sys\n",
    " \n",
    "input = sys.stdin.readline\n",
    "n,m=map(int,input().split())\n",
    "n_list=list(map(int,input().split()))\n",
    "\n",
    "dp=[0]*(n+1)\n",
    "for i in range(n):\n",
    "    dp[i+1]=dp[i]+n_list[i]\n",
    "\n",
    "for i in range(m):\n",
    "    a,b=map(int,input().split())\n",
    "    print(dp[b]-dp[a-1])\n"
   ]
  }
 ],
 "metadata": {
  "kernelspec": {
   "display_name": "Python 3",
   "language": "python",
   "name": "python3"
  },
  "language_info": {
   "codemirror_mode": {
    "name": "ipython",
    "version": 3
   },
   "file_extension": ".py",
   "mimetype": "text/x-python",
   "name": "python",
   "nbconvert_exporter": "python",
   "pygments_lexer": "ipython3",
   "version": "3.12.1"
  }
 },
 "nbformat": 4,
 "nbformat_minor": 2
}
