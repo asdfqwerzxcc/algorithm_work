{
 "cells": [
  {
   "cell_type": "code",
   "execution_count": 2,
   "metadata": {},
   "outputs": [
    {
     "name": "stdout",
     "output_type": "stream",
     "text": [
      "14\n"
     ]
    }
   ],
   "source": [
    "def solution():\n",
    "\n",
    "    # 1행 미리 처리하기 → (3) 과정\n",
    "    dp[0][0][1] = 1\n",
    "    for i in range(2, N):\n",
    "        if board[0][i] == 0:\n",
    "            dp[0][0][i] = dp[0][0][i - 1]\n",
    "\t\n",
    "    \n",
    "    # 왜 1행과 1열을 제외하는지는 (3), (4) 과정에서 봤었죠?\n",
    "    for r in range(1, N):\n",
    "        for c in range(1, N):\n",
    "            # (5) 과정\n",
    "            # 대각선 파이프를 추가하는 과정\n",
    "            if board[r][c] == 0 and board[r][c - 1] == 0 and board[r - 1][c] == 0:\n",
    "                dp[1][r][c] = dp[0][r - 1][c - 1] + dp[1][r - 1][c - 1] + dp[2][r - 1][c - 1]\n",
    "                \n",
    "\t    # 가로, 세로 파이프를 추가하는 과정\n",
    "            if board[r][c] == 0:\n",
    "                dp[0][r][c] = dp[0][r][c - 1] + dp[1][r][c - 1]\n",
    "                dp[2][r][c] = dp[2][r - 1][c] + dp[1][r - 1][c]\n",
    "    \n",
    "    \n",
    "    # 최종 결과 출력\n",
    "    print(sum(dp[i][N - 1][N - 1] for i in range(3)))\n",
    "\n",
    "\n",
    "N = int(input())\n",
    "board = [list(map(int, input().split())) for _ in range(N)]\n",
    "dp = [[[0 for _ in range(N)] for _ in range(N)] for _ in range(3)]\n",
    "solution()"
   ]
  }
 ],
 "metadata": {
  "kernelspec": {
   "display_name": "Python 3",
   "language": "python",
   "name": "python3"
  },
  "language_info": {
   "codemirror_mode": {
    "name": "ipython",
    "version": 3
   },
   "file_extension": ".py",
   "mimetype": "text/x-python",
   "name": "python",
   "nbconvert_exporter": "python",
   "pygments_lexer": "ipython3",
   "version": "3.12.1"
  }
 },
 "nbformat": 4,
 "nbformat_minor": 2
}
