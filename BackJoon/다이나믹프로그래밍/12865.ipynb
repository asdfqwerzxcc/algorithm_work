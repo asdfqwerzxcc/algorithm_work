{
 "cells": [
  {
   "cell_type": "code",
   "execution_count": 2,
   "metadata": {},
   "outputs": [
    {
     "name": "stdout",
     "output_type": "stream",
     "text": [
      "14\n"
     ]
    }
   ],
   "source": [
    "n,k=map(int,input().split())\n",
    "thing = [[0,0]]\n",
    "d = [[0]*(k+1) for _ in range(n+1)]\n",
    "\n",
    "for i in range(n):\n",
    "    thing.append(list(map(int, input().split())))\n",
    "for i in range(1, n+1):\n",
    "    for j in range(1, k+1):\n",
    "        w = thing[i][0]\n",
    "        v = thing[i][1]\n",
    "\n",
    "        if j < w:\n",
    "            d[i][j] = d[i-1][j]\n",
    "        else:\n",
    "            d[i][j] = max(d[i-1][j], d[i-1][j-w]+v)\n",
    "\n",
    "print(d[n][k])"
   ]
  }
 ],
 "metadata": {
  "kernelspec": {
   "display_name": "Python 3",
   "language": "python",
   "name": "python3"
  },
  "language_info": {
   "codemirror_mode": {
    "name": "ipython",
    "version": 3
   },
   "file_extension": ".py",
   "mimetype": "text/x-python",
   "name": "python",
   "nbconvert_exporter": "python",
   "pygments_lexer": "ipython3",
   "version": "3.12.1"
  }
 },
 "nbformat": 4,
 "nbformat_minor": 2
}
