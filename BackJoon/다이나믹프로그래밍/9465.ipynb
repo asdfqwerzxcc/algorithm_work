{
 "cells": [
  {
   "cell_type": "code",
   "execution_count": 3,
   "metadata": {},
   "outputs": [
    {
     "name": "stdout",
     "output_type": "stream",
     "text": [
      "3\n"
     ]
    }
   ],
   "source": [
    "t=int(input())\n",
    "for _ in range(t):\n",
    "    n=int(input())\n",
    "    arr=[list(map(int,input().split())) for _ in range(2)]\n",
    "    \n",
    "    dp=[[0]*n for _ in range(2)]\n",
    "\n",
    "    dp[0][0]=arr[0][0]\n",
    "    dp[1][0]=arr[1][0]\n",
    "\n",
    "    if n==1:\n",
    "        print(max(dp[0][0],dp[1][0]))\n",
    "        continue\n",
    "    dp[0][1]=arr[1][0]+ arr[0][1]\n",
    "    dp[1][1]=arr[0][0]+arr[1][1]\n",
    "\n",
    "    if n==2:\n",
    "        print(max(dp[0][1],dp[1][1]))\n",
    "        continue\n",
    "    for i in range(2,n):\n",
    "        dp[0][i]=max(dp[1][i-2],dp[1][i-1])+arr[0][i]\n",
    "        dp[1][i]=max(dp[0][i-2],dp[0][i-1])+arr[1][i]\n",
    "    print(max(dp[0][-1],dp[1][-1]))"
   ]
  }
 ],
 "metadata": {
  "kernelspec": {
   "display_name": "Python 3",
   "language": "python",
   "name": "python3"
  },
  "language_info": {
   "codemirror_mode": {
    "name": "ipython",
    "version": 3
   },
   "file_extension": ".py",
   "mimetype": "text/x-python",
   "name": "python",
   "nbconvert_exporter": "python",
   "pygments_lexer": "ipython3",
   "version": "3.12.1"
  }
 },
 "nbformat": 4,
 "nbformat_minor": 2
}
