{
 "cells": [
  {
   "cell_type": "markdown",
   "metadata": {},
   "source": [
    "### 문제\n",
    "매일 아침, 세준이는 학교에 가기 위해서 차를 타고 D킬로미터 길이의 고속도로를 지난다. 이 고속도로는 심각하게 커브가 많아서 정말 운전하기도 힘들다. 어느 날, 세준이는 이 고속도로에 지름길이 존재한다는 것을 알게 되었다. 모든 지름길은 일방통행이고, 고속도로를 역주행할 수는 없다.\n",
    "\n",
    "세준이가 운전해야 하는 거리의 최솟값을 출력하시오.\n",
    "\n",
    "### 입력\n",
    "첫째 줄에 지름길의 개수 N과 고속도로의 길이 D가 주어진다. N은 12 이하인 양의 정수이고, D는 10,000보다 작거나 같은 자연수이다. 다음 N개의 줄에 지름길의 시작 위치, 도착 위치, 지름길의 길이가 주어진다. 모든 위치와 길이는 10,000보다 작거나 같은 음이 아닌 정수이다. 지름길의 시작 위치는 도착 위치보다 작다.\n",
    "### 출력\n",
    "세준이가 운전해야하는 거리의 최솟값을 출력하시오.\n",
    "\n",
    "\n",
    "\n",
    "\n"
   ]
  },
  {
   "cell_type": "code",
   "execution_count": 1,
   "metadata": {},
   "outputs": [
    {
     "name": "stdout",
     "output_type": "stream",
     "text": [
      "70\n"
     ]
    }
   ],
   "source": [
    "n, d = map(int, input().split())\n",
    "graph = [list(map(int, input().split())) for _ in range(n)]\n",
    "dis = [i for i in range(d+1)]\n",
    "\n",
    "# 0 부터 고속도로의 길이까지 반복하여 확인\n",
    "for i in range(d+1):\n",
    "\n",
    "    # 지름길로 간 거리와 고속도로로 간 거리를 비교\n",
    "    dis[i] = min(dis[i], dis[i-1]+1)\n",
    "\n",
    "    # 지름길을 반복하여 최단 거리를 찾는다.\n",
    "    for s, e, shortcut in graph:\n",
    "        if i == s and e <= d and dis[i]+shortcut < dis[e]:\n",
    "            dis[e] = dis[i]+shortcut\n",
    "\n",
    "# 고속도로의 끝에 도착했을 때까지 걸린 거리를 출력\n",
    "print(dis[d])"
   ]
  },
  {
   "cell_type": "code",
   "execution_count": null,
   "metadata": {},
   "outputs": [],
   "source": [
    "import heapq\n",
    "import sys\n",
    "input = sys.stdin.readline\n",
    "\n",
    "INF = int(1e9)\n",
    "\n",
    "def dijkstra(start):\n",
    "    q = []\n",
    "    heapq.heappush(q,(0,start))\n",
    "    distance[start] = 0\n",
    "    while q:\n",
    "        dist, now = heapq.heappop(q)\n",
    "\n",
    "        #지금 힙큐에서 뺀게 now까지 가는데 최소비용이 아닐수도 있으니 체크\n",
    "        if dist > distance[now]:\n",
    "            continue\n",
    "\n",
    "        for i in graph[now]:\n",
    "            cost = dist + i[1]\n",
    "            if cost < distance[i[0]]:\n",
    "                distance[i[0]] = cost\n",
    "                heapq.heappush(q,(cost, i[0]))\n",
    "\n",
    "\n",
    "n , d = map(int,input().split())\n",
    "graph = [[] for _ in range(d+1)]\n",
    "distance = [INF] * (d+1)\n",
    "\n",
    "#일단 거리 1로 초기화.\n",
    "for i in range(d):\n",
    "    graph[i].append((i+1, 1))\n",
    "\n",
    "#지름길 있는 경우에 업데이트\n",
    "for _ in range(n):\n",
    "    s, e, l = map(int,input().split())\n",
    "    if e > d:# 고려 안해도 됨.\n",
    "        continue\n",
    "    graph[s].append((e,l))\n",
    "\n",
    "dijkstra(0)\n",
    "print(distance[d])"
   ]
  }
 ],
 "metadata": {
  "kernelspec": {
   "display_name": "Python 3",
   "language": "python",
   "name": "python3"
  },
  "language_info": {
   "codemirror_mode": {
    "name": "ipython",
    "version": 3
   },
   "file_extension": ".py",
   "mimetype": "text/x-python",
   "name": "python",
   "nbconvert_exporter": "python",
   "pygments_lexer": "ipython3",
   "version": "3.12.1"
  }
 },
 "nbformat": 4,
 "nbformat_minor": 2
}
