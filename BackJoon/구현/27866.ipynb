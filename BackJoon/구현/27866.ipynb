{
 "cells": [
  {
   "cell_type": "markdown",
   "metadata": {},
   "source": [
    "### 문제\n",
    "단어 \n",
    "$S$와 정수 \n",
    "$i$가 주어졌을 때, \n",
    "$S$의 \n",
    "$i$번째 글자를 출력하는 프로그램을 작성하시오.\n",
    "\n",
    "### 입력\n",
    "첫째 줄에 영어 소문자와 대문자로만 이루어진 단어 \n",
    "$S$가 주어진다. 단어의 길이는 최대 \n",
    "$1\\,000$이다.\n",
    "\n",
    "둘째 줄에 정수 \n",
    "$i$가 주어진다. (\n",
    "$1 \\le i \\le \\left|S\\right|$)\n",
    "\n",
    "\n",
    "\n",
    "\n",
    "### 출력\n",
    " \n",
    "$S$의 \n",
    "$i$번째 글자를 출력한다.\n",
    "\n",
    "\n"
   ]
  },
  {
   "cell_type": "code",
   "execution_count": 2,
   "metadata": {},
   "outputs": [
    {
     "name": "stdout",
     "output_type": "stream",
     "text": [
      "s\n"
     ]
    }
   ],
   "source": [
    "n=list(input())\n",
    "i=int(input())\n",
    "print(n[i-1])"
   ]
  }
 ],
 "metadata": {
  "kernelspec": {
   "display_name": "Python 3",
   "language": "python",
   "name": "python3"
  },
  "language_info": {
   "codemirror_mode": {
    "name": "ipython",
    "version": 3
   },
   "file_extension": ".py",
   "mimetype": "text/x-python",
   "name": "python",
   "nbconvert_exporter": "python",
   "pygments_lexer": "ipython3",
   "version": "3.12.1"
  }
 },
 "nbformat": 4,
 "nbformat_minor": 2
}
