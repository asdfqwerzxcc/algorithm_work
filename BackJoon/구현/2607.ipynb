{
 "cells": [
  {
   "cell_type": "code",
   "execution_count": 3,
   "metadata": {},
   "outputs": [
    {
     "name": "stdout",
     "output_type": "stream",
     "text": [
      "['a', 's', 'd']\n"
     ]
    }
   ],
   "source": [
    "n=int(input())\n",
    "target=list(input())\n",
    "answer=0\n",
    "for i in range(n-1):\n",
    "    compare= target[:]\n",
    "    word=input()\n",
    "    cnt=0\n",
    "\n",
    "    for w in word:\n",
    "        if w in compare:\n",
    "            compare.remove(w)\n",
    "        else:\n",
    "            cnt+=1\n",
    "    if cnt<2 and len(compare)<2:\n",
    "        answer+=1\n",
    "print(answer)\n",
    "\n"
   ]
  }
 ],
 "metadata": {
  "kernelspec": {
   "display_name": "Python 3",
   "language": "python",
   "name": "python3"
  },
  "language_info": {
   "codemirror_mode": {
    "name": "ipython",
    "version": 3
   },
   "file_extension": ".py",
   "mimetype": "text/x-python",
   "name": "python",
   "nbconvert_exporter": "python",
   "pygments_lexer": "ipython3",
   "version": "3.12.1"
  }
 },
 "nbformat": 4,
 "nbformat_minor": 2
}
