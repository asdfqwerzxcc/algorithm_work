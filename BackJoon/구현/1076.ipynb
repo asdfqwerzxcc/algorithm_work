{
 "cells": [
  {
   "cell_type": "markdown",
   "metadata": {},
   "source": [
    "### 문제\n",
    "전자 제품에는 저항이 들어간다. 저항은 색 3개를 이용해서 그 저항이 몇 옴인지 나타낸다. 처음 색 2개는 저항의 값이고, 마지막 색은 곱해야 하는 값이다. 저항의 값은 다음 표를 이용해서 구한다.\n",
    "\n",
    "색\t값\t곱\n",
    "black\t0\t1\n",
    "brown\t1\t10\n",
    "red\t2\t100\n",
    "orange\t3\t1,000\n",
    "yellow\t4\t10,000\n",
    "green\t5\t100,000\n",
    "blue\t6\t1,000,000\n",
    "violet\t7\t10,000,000\n",
    "grey\t8\t100,000,000\n",
    "white\t9\t1,000,000,000\n",
    "예를 들어, 저항의 색이 yellow, violet, red였다면 저항의 값은 4,700이 된다.\n",
    "\n",
    "### 입력\n",
    "첫째 줄에 첫 번째 색, 둘째 줄에 두 번째 색, 셋째 줄에 세 번째 색이 주어진다. 위의 표에 있는 색만 입력으로 주어진다.\n",
    "\n",
    "\n",
    "### 출력\n",
    "입력으로 주어진 저항의 저항값을 계산하여 첫째 줄에 출력한다.\n",
    "\n",
    "\n"
   ]
  },
  {
   "cell_type": "code",
   "execution_count": 6,
   "metadata": {},
   "outputs": [
    {
     "name": "stdout",
     "output_type": "stream",
     "text": [
      "no\n"
     ]
    }
   ],
   "source": [
    "color=['black','brown','red','orange','yellow','green','blue','violet','grey','white']\n",
    "\n",
    "a=color.index(input())\n",
    "b=color.index(input())\n",
    "c=color.index(input())\n",
    "\n",
    "print(int(str(a)+str(b))*(10**c))"
   ]
  }
 ],
 "metadata": {
  "kernelspec": {
   "display_name": "Python 3",
   "language": "python",
   "name": "python3"
  },
  "language_info": {
   "codemirror_mode": {
    "name": "ipython",
    "version": 3
   },
   "file_extension": ".py",
   "mimetype": "text/x-python",
   "name": "python",
   "nbconvert_exporter": "python",
   "pygments_lexer": "ipython3",
   "version": "3.12.1"
  }
 },
 "nbformat": 4,
 "nbformat_minor": 2
}
