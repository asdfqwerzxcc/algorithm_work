{
 "cells": [
  {
   "cell_type": "markdown",
   "metadata": {},
   "source": [
    "### 문제\n",
    "임스가 미니게임을 같이할 사람을 찾고 있습니다.\n",
    "\n",
    "플레이할 미니게임으로는 윷놀이 \n",
    "$Y$, 같은 그림 찾기 \n",
    "$F$, 원카드 \n",
    "$O$가 있습니다. 각각 2, 3, 4 명이서 플레이하는 게임이며 인원수가 부족하면 게임을 시작할 수 없습니다.\n",
    "\n",
    "사람들이 임스와 같이 플레이하기를 신청한 횟수 \n",
    "$N$과 임스가 플레이할 게임의 종류가 주어질 때, 최대 몇 번이나 임스와 함께 게임을 플레이할 수 있는지 구하시오.\n",
    "\n",
    "임스와 여러 번 미니게임을 플레이하고자 하는 사람이 있으나, 임스는 한 번 같이 플레이한 사람과는 다시 플레이하지 않습니다.\n",
    "\n",
    "임스와 함께 플레이하고자 하는 사람 중 동명이인은 존재하지 않습니다. 임스와 lms0806은 서로 다른 인물입니다.\n",
    "\n",
    "### 입력\n",
    "첫 번째 줄에는 사람들이 임스와 같이 플레이하기를 신청한 횟수 \n",
    "$N$과 같이 플레이할 게임의 종류가 주어진다. \n",
    "$(1 \\le N \\le 100\\,000)$ \n",
    "\n",
    "두 번째 줄부터 \n",
    "$N$개의 줄에는 같이 플레이하고자 하는 사람들의 이름이 문자열로 주어진다. \n",
    "$(1 \\le$ 문자열 길이 \n",
    "$\\le 20)$ \n",
    "\n",
    "사람들의 이름은 숫자 또는 영문 대소문자로 구성되어 있다.\n",
    "\n",
    "### 출력\n",
    "임스가 최대로 몇 번이나 게임을 플레이할 수 있는지 구하시오.\n",
    "\n",
    "\n"
   ]
  },
  {
   "cell_type": "code",
   "execution_count": 4,
   "metadata": {},
   "outputs": [
    {
     "name": "stdout",
     "output_type": "stream",
     "text": [
      "{'ex', 'lms', 'jt', 'leo'}\n",
      "4\n"
     ]
    }
   ],
   "source": [
    "n, G = (input().split())\n",
    "player=[]\n",
    "for _ in range(int(n)):\n",
    "    player.append(input())\n",
    "\n",
    "player=list(set(player))\n",
    "\n",
    "if(G==\"Y\"):\n",
    "    print(len(player))\n",
    "elif(G==\"F\"):\n",
    "    print(len(player)//2)\n",
    "elif(G==\"O\"):\n",
    "    print(len(player)//3)\n",
    "else:\n",
    "    print(\"게임을 잘못 입력하셨습니다\")"
   ]
  }
 ],
 "metadata": {
  "kernelspec": {
   "display_name": "Python 3",
   "language": "python",
   "name": "python3"
  },
  "language_info": {
   "codemirror_mode": {
    "name": "ipython",
    "version": 3
   },
   "file_extension": ".py",
   "mimetype": "text/x-python",
   "name": "python",
   "nbconvert_exporter": "python",
   "pygments_lexer": "ipython3",
   "version": "3.12.1"
  }
 },
 "nbformat": 4,
 "nbformat_minor": 2
}
