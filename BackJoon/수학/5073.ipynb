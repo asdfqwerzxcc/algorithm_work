{
 "cells": [
  {
   "cell_type": "markdown",
   "metadata": {},
   "source": [
    "### 문제\n",
    "삼각형의 세 변의 길이가 주어질 때 변의 길이에 따라 다음과 같이 정의한다.\n",
    "\n",
    "Equilateral :  세 변의 길이가 모두 같은 경우\n",
    "Isosceles : 두 변의 길이만 같은 경우\n",
    "Scalene : 세 변의 길이가 모두 다른 경우\n",
    "단 주어진 세 변의 길이가 삼각형의 조건을 만족하지 못하는 경우에는 \"Invalid\" 를 출력한다. 예를 들어 6, 3, 2가 이 경우에 해당한다. 가장 긴 변의 길이보다 나머지 두 변의 길이의 합이 길지 않으면 삼각형의 조건을 만족하지 못한다.\n",
    "\n",
    "세 변의 길이가 주어질 때 위 정의에 따른 결과를 출력하시오.\n",
    "\n",
    "### 입력\n",
    "각 줄에는 1,000을 넘지 않는 양의 정수 3개가 입력된다. 마지막 줄은 0 0 0이며 이 줄은 계산하지 않는다.\n",
    "\n",
    "### 출력\n",
    "\n",
    "각 입력에 맞는 결과 (Equilateral, Isosceles, Scalene, Invalid) 를 출력하시오.\n",
    "\n",
    "\n",
    "\n"
   ]
  },
  {
   "cell_type": "code",
   "execution_count": 2,
   "metadata": {},
   "outputs": [
    {
     "name": "stdout",
     "output_type": "stream",
     "text": [
      "02\n"
     ]
    }
   ],
   "source": [
    "while True :\n",
    "  a, b, c = map(int, input().split())\n",
    "  if a == b == c == 0 :\n",
    "    break\n",
    "  if sum((a, b, c)) - max((a, b, c)) <= max((a, b, c)) :\n",
    "    print(\"Invalid\")\n",
    "  elif a == b == c :\n",
    "    print('Equilateral')\n",
    "  elif a == b or b == c or a == c :\n",
    "    print(\"Isosceles\")\n",
    "  else :\n",
    "    print(\"Scalene\")\n"
   ]
  }
 ],
 "metadata": {
  "kernelspec": {
   "display_name": "Python 3",
   "language": "python",
   "name": "python3"
  },
  "language_info": {
   "codemirror_mode": {
    "name": "ipython",
    "version": 3
   },
   "file_extension": ".py",
   "mimetype": "text/x-python",
   "name": "python",
   "nbconvert_exporter": "python",
   "pygments_lexer": "ipython3",
   "version": "3.12.1"
  }
 },
 "nbformat": 4,
 "nbformat_minor": 2
}
