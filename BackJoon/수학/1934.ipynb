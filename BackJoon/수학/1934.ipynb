{
 "cells": [
  {
   "cell_type": "code",
   "execution_count": null,
   "metadata": {
    "vscode": {
     "languageId": "plaintext"
    }
   },
   "outputs": [],
   "source": [
    "import sys\n",
    "\n",
    "T=int(input())\n",
    "\n",
    "for i in range(T):\n",
    "    a,b=map(int,sys.stdin.readline().strip().split())\n",
    "    aa,bb=a,b\n",
    "\n",
    "    while bb!=0:\n",
    "        aa=aa%bb\n",
    "        aa,bb=bb,aa\n",
    "\n",
    "    print(a*b//aa)\n"
   ]
  }
 ],
 "metadata": {
  "language_info": {
   "name": "python"
  }
 },
 "nbformat": 4,
 "nbformat_minor": 2
}
