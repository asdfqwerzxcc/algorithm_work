{
 "cells": [
  {
   "cell_type": "code",
   "execution_count": 6,
   "metadata": {},
   "outputs": [
    {
     "name": "stdout",
     "output_type": "stream",
     "text": [
      "1\n"
     ]
    }
   ],
   "source": [
    "n=int(input())\n",
    "room=[]\n",
    "\n",
    "for i in range(n):\n",
    "    s,e=map(int,input().split())\n",
    "    room.append([s,e])\n",
    "\n",
    "room.sort(key=lambda x:x[0])\n",
    "room.sort(key=lambda x:x[1])\n",
    "\n",
    "cnt=1\n",
    "end=room[0][1]\n",
    "for i in range(1,n):\n",
    "    if room[i][0]>=end:\n",
    "        cnt+=1\n",
    "        end=room[i][1]\n",
    "\n",
    "print(cnt)"
   ]
  }
 ],
 "metadata": {
  "kernelspec": {
   "display_name": "Python 3",
   "language": "python",
   "name": "python3"
  },
  "language_info": {
   "codemirror_mode": {
    "name": "ipython",
    "version": 3
   },
   "file_extension": ".py",
   "mimetype": "text/x-python",
   "name": "python",
   "nbconvert_exporter": "python",
   "pygments_lexer": "ipython3",
   "version": "3.12.1"
  }
 },
 "nbformat": 4,
 "nbformat_minor": 2
}
