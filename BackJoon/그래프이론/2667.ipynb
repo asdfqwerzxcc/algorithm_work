{
 "cells": [
  {
   "cell_type": "markdown",
   "metadata": {},
   "source": [
    "### 문제\n",
    "<그림 1>과 같이 정사각형 모양의 지도가 있다. 1은 집이 있는 곳을, 0은 집이 없는 곳을 나타낸다. 철수는 이 지도를 가지고 연결된 집의 모임인 단지를 정의하고, 단지에 번호를 붙이려 한다. 여기서 연결되었다는 것은 어떤 집이 좌우, 혹은 아래위로 다른 집이 있는 경우를 말한다. 대각선상에 집이 있는 경우는 연결된 것이 아니다. <그림 2>는 <그림 1>을 단지별로 번호를 붙인 것이다. 지도를 입력하여 단지수를 출력하고, 각 단지에 속하는 집의 수를 오름차순으로 정렬하여 출력하는 프로그램을 작성하시오.\n",
    "\n",
    "\n",
    "\n",
    "\n",
    "### 입력\n",
    "첫 번째 줄에는 지도의 크기 N(정사각형이므로 가로와 세로의 크기는 같으며 5≤N≤25)이 입력되고, 그 다음 N줄에는 각각 N개의 자료(0혹은 1)가 입력된다.\n",
    "\n",
    "\n",
    "\n",
    "### 출력\n",
    "첫 번째 줄에는 총 단지수를 출력하시오. 그리고 각 단지내 집의 수를 오름차순으로 정렬하여 한 줄에 하나씩 출력하시오.\n",
    "\n",
    "\n"
   ]
  },
  {
   "cell_type": "code",
   "execution_count": 22,
   "metadata": {},
   "outputs": [
    {
     "name": "stdout",
     "output_type": "stream",
     "text": [
      "2\n",
      "0\n",
      "2\n"
     ]
    }
   ],
   "source": [
    "import sys\n",
    "sys.setrecursionlimit(100000)\n",
    "\n",
    "N = int(sys.stdin.readline())\n",
    "graph = [list(map(int, sys.stdin.readline().rstrip())) for _ in range(N)]\n",
    "\n",
    "d = [(0,1), (0,-1), (1,0), (-1,0)]\n",
    "def dfs(x, y, cnt):\n",
    "    graph[y][x] = 0\n",
    "    for dx, dy in d:\n",
    "        X, Y = x + dx, y + dy\n",
    "        if (0 <= X < N) and (0 <= Y < N) and graph[Y][X]:\n",
    "            cnt = dfs(X, Y, cnt+1)\n",
    "    return cnt\n",
    "          \n",
    "cnt = []\n",
    "\n",
    "for y in range(N):\n",
    "    for x in range(N):\n",
    "        if graph[y][x]:\n",
    "            cnt.append(dfs(x, y, cnt=1))\n",
    "\n",
    "cnt.sort()\n",
    "print(len(cnt))\n",
    "for i in range(len(cnt)):\n",
    "    print(cnt[i])"
   ]
  },
  {
   "cell_type": "code",
   "execution_count": null,
   "metadata": {},
   "outputs": [],
   "source": []
  }
 ],
 "metadata": {
  "kernelspec": {
   "display_name": "Python 3",
   "language": "python",
   "name": "python3"
  },
  "language_info": {
   "codemirror_mode": {
    "name": "ipython",
    "version": 3
   },
   "file_extension": ".py",
   "mimetype": "text/x-python",
   "name": "python",
   "nbconvert_exporter": "python",
   "pygments_lexer": "ipython3",
   "version": "3.12.1"
  }
 },
 "nbformat": 4,
 "nbformat_minor": 2
}
