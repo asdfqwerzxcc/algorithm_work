{
 "cells": [
  {
   "cell_type": "markdown",
   "metadata": {},
   "source": [
    "### 문제\n",
    "그래프를 DFS로 탐색한 결과와 BFS로 탐색한 결과를 출력하는 프로그램을 작성하시오. 단, 방문할 수 있는 정점이 여러 개인 경우에는 정점 번호가 작은 것을 먼저 방문하고, 더 이상 방문할 수 있는 점이 없는 경우 종료한다. 정점 번호는 1번부터 N번까지이다.\n",
    "\n",
    "### 입력\n",
    "첫째 줄에 정점의 개수 N(1 ≤ N ≤ 1,000), 간선의 개수 M(1 ≤ M ≤ 10,000), 탐색을 시작할 정점의 번호 V가 주어진다. 다음 M개의 줄에는 간선이 연결하는 두 정점의 번호가 주어진다. 어떤 두 정점 사이에 여러 개의 간선이 있을 수 있다. 입력으로 주어지는 간선은 양방향이다.\n",
    "\n",
    "### 출력\n",
    "첫째 줄에 DFS를 수행한 결과를, 그 다음 줄에는 BFS를 수행한 결과를 출력한다. V부터 방문된 점을 순서대로 출력하면 된다.\n"
   ]
  },
  {
   "cell_type": "code",
   "execution_count": 6,
   "metadata": {},
   "outputs": [
    {
     "name": "stdout",
     "output_type": "stream",
     "text": [
      "no\n"
     ]
    }
   ],
   "source": [
    "def DFS(v):\n",
    "    visited[v]=1\n",
    "    dfs.append(v)\n",
    "    for i in node[v]:\n",
    "        if (visited[i]==0):\n",
    "            DFS(i)\n",
    "\n",
    "def BFS(v):\n",
    "    visited[v]=1\n",
    "    bfs.append(v)\n",
    "    queue = [v]\n",
    "\n",
    "    while(queue):\n",
    "        for i in node[queue.pop(0)]:\n",
    "            if(visited[i]==0):\n",
    "                visited[i]=1\n",
    "                bfs.append(i)\n",
    "                queue.append(i)\n",
    "##################MAIN##################\n",
    "N, M, V = map(int, input().split())\n",
    "\n",
    "node =[[]for _ in range(N+1)]\n",
    "visited = [0]*(N+1)\n",
    "dfs = []\n",
    "bfs = []\n",
    "\n",
    "for i in range(M):\n",
    "    a, b = map(int, input().split())\n",
    "    node[a].append(b)\n",
    "    node[b].append(a)\n",
    "\n",
    "for j in range(N+1):\n",
    "    node[j].sort()\n",
    "\n",
    "DFS(V)\n",
    "for j in range(N+1):\n",
    "    visited[j]=0\n",
    "BFS(V)\n",
    "\n",
    "for m in dfs:\n",
    "    print(m, end=' ')\n",
    "print()\n",
    "for n in bfs:\n",
    "    print(n, end=' ')"
   ]
  }
 ],
 "metadata": {
  "kernelspec": {
   "display_name": "Python 3",
   "language": "python",
   "name": "python3"
  },
  "language_info": {
   "codemirror_mode": {
    "name": "ipython",
    "version": 3
   },
   "file_extension": ".py",
   "mimetype": "text/x-python",
   "name": "python",
   "nbconvert_exporter": "python",
   "pygments_lexer": "ipython3",
   "version": "3.12.1"
  }
 },
 "nbformat": 4,
 "nbformat_minor": 2
}
