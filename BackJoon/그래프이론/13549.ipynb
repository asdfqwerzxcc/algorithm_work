{
 "cells": [
  {
   "cell_type": "code",
   "execution_count": 4,
   "metadata": {},
   "outputs": [
    {
     "name": "stdout",
     "output_type": "stream",
     "text": [
      "[[], [2, 5], [1, 5], [4], [3, 6], [2, 1], [4]]\n",
      "[0, True, True, 0, 0, True, 0]\n",
      "[0, True, True, True, True, True, True]\n",
      "2\n"
     ]
    }
   ],
   "source": [
    "from collections import deque\n",
    "\n",
    "def search(N):\n",
    "\n",
    "    visited = [0] * 100001\n",
    "    Q = deque()\n",
    "    Q.append(N)\n",
    "\n",
    "    while Q:\n",
    "        position = Q.popleft()\n",
    "        if position == K:\n",
    "            return visited[position]\n",
    "\n",
    "        for next_position in (position + 1, position - 1, position * 2) :\n",
    "\n",
    "            if 0 <= next_position < 100001:\n",
    "                if visited[next_position] == 0:\n",
    "                    if next_position == position * 2 and next_position != 0:\n",
    "                        visited[next_position] = visited[position]\n",
    "                        Q.appendleft(next_position)\n",
    "                    else:\n",
    "                        visited[next_position] = visited[position] + 1\n",
    "                        Q.append(next_position)\n",
    "\n",
    "\n",
    "N, K = map(int, input().split())\n",
    "answer = search(N)\n",
    "print(answer)"
   ]
  }
 ],
 "metadata": {
  "kernelspec": {
   "display_name": "Python 3",
   "language": "python",
   "name": "python3"
  },
  "language_info": {
   "codemirror_mode": {
    "name": "ipython",
    "version": 3
   },
   "file_extension": ".py",
   "mimetype": "text/x-python",
   "name": "python",
   "nbconvert_exporter": "python",
   "pygments_lexer": "ipython3",
   "version": "3.12.1"
  }
 },
 "nbformat": 4,
 "nbformat_minor": 2
}
