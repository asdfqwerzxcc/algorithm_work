{
 "cells": [
  {
   "cell_type": "code",
   "execution_count": 1,
   "metadata": {},
   "outputs": [
    {
     "name": "stdout",
     "output_type": "stream",
     "text": [
      "2\n"
     ]
    }
   ],
   "source": [
    "from collections import deque\n",
    "n,k=map(int,input().split())\n",
    "limit=100001\n",
    "cnt=[0]*limit\n",
    "visited=[False]*limit\n",
    "def bfs(x,end):\n",
    "    queue=deque()\n",
    "    queue.append(x)\n",
    "\n",
    "    while queue:\n",
    "        x=queue.popleft()\n",
    "        if x==end:return cnt[x]\n",
    "        if -1<x*2<limit and visited[x*2]==0 :\n",
    "            queue.appendleft(x*2)\n",
    "            cnt[x*2]=cnt[x]\n",
    "            visited[x*2]=True\n",
    "        if -1<x-1<limit and visited[x-1]==0 :\n",
    "            queue.append(x-1)\n",
    "            cnt[x-1]=cnt[x]+1\n",
    "            visited[x-1]=True\n",
    "        if -1<x+1<limit and visited[x+1]==0 :\n",
    "            queue.append(x+1)\n",
    "            cnt[x+1]=cnt[x]+1\n",
    "            visited[x+1]=True\n",
    "\n",
    "\n",
    "\n",
    "print(bfs(n,k))"
   ]
  }
 ],
 "metadata": {
  "kernelspec": {
   "display_name": "Python 3",
   "language": "python",
   "name": "python3"
  },
  "language_info": {
   "codemirror_mode": {
    "name": "ipython",
    "version": 3
   },
   "file_extension": ".py",
   "mimetype": "text/x-python",
   "name": "python",
   "nbconvert_exporter": "python",
   "pygments_lexer": "ipython3",
   "version": "3.12.1"
  }
 },
 "nbformat": 4,
 "nbformat_minor": 2
}
