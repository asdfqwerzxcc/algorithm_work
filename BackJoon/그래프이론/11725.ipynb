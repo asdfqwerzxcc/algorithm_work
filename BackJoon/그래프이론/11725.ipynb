{
 "cells": [
  {
   "cell_type": "code",
   "execution_count": 4,
   "metadata": {},
   "outputs": [
    {
     "name": "stdout",
     "output_type": "stream",
     "text": [
      "[[], [2, 5], [1, 5], [4], [3, 6], [2, 1], [4]]\n",
      "[0, True, True, 0, 0, True, 0]\n",
      "[0, True, True, True, True, True, True]\n",
      "2\n"
     ]
    }
   ],
   "source": [
    "import sys\n",
    "sys.setrecursionlimit(10**6)\n",
    "n = int(sys.stdin.readline())\n",
    "graph = [[] for i in range(n+1)]\n",
    "\n",
    "for i in range(n-1):\n",
    "    a, b = map(int, sys.stdin.readline().split())\n",
    "    graph[a].append(b)\n",
    "    graph[b].append(a)\n",
    "\n",
    "visited = [0]*(n+1)\n",
    "\n",
    "arr = []\n",
    "\n",
    "def dfs(s):\n",
    "    for i in graph[s]:\n",
    "        if visited[i] == 0:\n",
    "            visited[i] = s\n",
    "            dfs(i)\n",
    "\n",
    "dfs(1)\n",
    "\n",
    "for x in range(2, n+1):\n",
    "    print(visited[x])"
   ]
  }
 ],
 "metadata": {
  "kernelspec": {
   "display_name": "Python 3",
   "language": "python",
   "name": "python3"
  },
  "language_info": {
   "codemirror_mode": {
    "name": "ipython",
    "version": 3
   },
   "file_extension": ".py",
   "mimetype": "text/x-python",
   "name": "python",
   "nbconvert_exporter": "python",
   "pygments_lexer": "ipython3",
   "version": "3.12.1"
  }
 },
 "nbformat": 4,
 "nbformat_minor": 2
}
