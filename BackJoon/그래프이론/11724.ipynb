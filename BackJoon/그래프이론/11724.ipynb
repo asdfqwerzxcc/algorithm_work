{
 "cells": [
  {
   "cell_type": "markdown",
   "metadata": {},
   "source": [
    "### 문제\n",
    "방향 없는 그래프가 주어졌을 때, 연결 요소 (Connected Component)의 개수를 구하는 프로그램을 작성하시오.\n",
    "\n",
    "\n",
    "### 입력\n",
    "첫째 줄에 정점의 개수 N과 간선의 개수 M이 주어진다. (1 ≤ N ≤ 1,000, 0 ≤ M ≤ N×(N-1)/2) 둘째 줄부터 M개의 줄에 간선의 양 끝점 u와 v가 주어진다. (1 ≤ u, v ≤ N, u ≠ v) 같은 간선은 한 번만 주어진다.\n",
    "\n",
    "### 출력\n",
    "첫째 줄에 연결 요소의 개수를 출력한다.\n"
   ]
  },
  {
   "cell_type": "code",
   "execution_count": 4,
   "metadata": {},
   "outputs": [
    {
     "name": "stdout",
     "output_type": "stream",
     "text": [
      "[[], [2, 5], [1, 5], [4], [3, 6], [2, 1], [4]]\n",
      "[0, True, True, 0, 0, True, 0]\n",
      "[0, True, True, True, True, True, True]\n",
      "2\n"
     ]
    }
   ],
   "source": [
    "# #dfs\n",
    "# import sys\n",
    "# from collections import defaultdict\n",
    "\n",
    "# sys.setrecursionlimit(10**7)\n",
    "# input = sys.stdin.readline\n",
    "\n",
    "a,b=map(int,input().split())\n",
    "\n",
    "graph=[[] for i in range(a+1)]\n",
    "visited = [0] * (a+1)\n",
    "\n",
    "for _ in range(b):\n",
    "    c,d=map(int,input().split())\n",
    "    graph[c]+=[d]\n",
    "    graph[d]+=[c]\n",
    "print(graph)\n",
    "def dfs(v):\n",
    "    visited[v]=True\n",
    "    for i in graph[v]:\n",
    "        if visited[i]==0:\n",
    "            visited[i]=True\n",
    "            dfs(i)\n",
    "\n",
    "count = 0 # 연결 노드의 수\n",
    "\n",
    "for i in range(1, a+1):\n",
    "    if not visited[i]:\n",
    "        dfs(i)\n",
    "        print(visited)\n",
    "        count+=1\n",
    "print(count)"
   ]
  }
 ],
 "metadata": {
  "kernelspec": {
   "display_name": "Python 3",
   "language": "python",
   "name": "python3"
  },
  "language_info": {
   "codemirror_mode": {
    "name": "ipython",
    "version": 3
   },
   "file_extension": ".py",
   "mimetype": "text/x-python",
   "name": "python",
   "nbconvert_exporter": "python",
   "pygments_lexer": "ipython3",
   "version": "3.12.1"
  }
 },
 "nbformat": 4,
 "nbformat_minor": 2
}
