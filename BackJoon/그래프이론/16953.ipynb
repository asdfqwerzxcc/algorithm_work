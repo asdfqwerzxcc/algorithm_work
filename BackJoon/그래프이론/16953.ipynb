{
 "cells": [
  {
   "cell_type": "code",
   "execution_count": 6,
   "metadata": {},
   "outputs": [
    {
     "name": "stdout",
     "output_type": "stream",
     "text": [
      "no\n"
     ]
    }
   ],
   "source": [
    "n,m = map(int,input().split())\n",
    "count=0\n",
    "while n!=m:\n",
    "    if n>m:\n",
    "        count=-2\n",
    "        break\n",
    "    elif str(m)[-1]=='1':\n",
    "        m=m//10\n",
    "        count+=1\n",
    "    elif m%2==0:\n",
    "        m=m//2\n",
    "        count+=1\n",
    "    else:\n",
    "        count=-2\n",
    "        break\n",
    "print(count+1)"
   ]
  }
 ],
 "metadata": {
  "kernelspec": {
   "display_name": "Python 3",
   "language": "python",
   "name": "python3"
  },
  "language_info": {
   "codemirror_mode": {
    "name": "ipython",
    "version": 3
   },
   "file_extension": ".py",
   "mimetype": "text/x-python",
   "name": "python",
   "nbconvert_exporter": "python",
   "pygments_lexer": "ipython3",
   "version": "3.12.1"
  }
 },
 "nbformat": 4,
 "nbformat_minor": 2
}
