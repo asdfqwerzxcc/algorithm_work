{
 "cells": [
  {
   "cell_type": "code",
   "execution_count": 6,
   "metadata": {},
   "outputs": [
    {
     "name": "stdout",
     "output_type": "stream",
     "text": [
      "no\n"
     ]
    }
   ],
   "source": [
    "# ver3\n",
    "import math\n",
    "\n",
    "def solution(denum1, num1, denum2, num2):\n",
    "    # 1. 두 분수의 합 계산\n",
    "    boonmo = num1 * num2\n",
    "    boonja = denum1 * num2 + denum2 * num1\n",
    "    \n",
    "    # 2. 최대공약수 계산\n",
    "    gcd_value = math.gcd(boonmo, boonja)\n",
    "    \n",
    "    # 3. gcd 로 나눈 값을 answer에 담기\n",
    "    answer = [boonja / gcd_value, boonmo / gcd_value]\n",
    "    return answer\n"
   ]
  }
 ],
 "metadata": {
  "kernelspec": {
   "display_name": "Python 3",
   "language": "python",
   "name": "python3"
  },
  "language_info": {
   "codemirror_mode": {
    "name": "ipython",
    "version": 3
   },
   "file_extension": ".py",
   "mimetype": "text/x-python",
   "name": "python",
   "nbconvert_exporter": "python",
   "pygments_lexer": "ipython3",
   "version": "3.12.1"
  }
 },
 "nbformat": 4,
 "nbformat_minor": 2
}
