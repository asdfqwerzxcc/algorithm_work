{
 "cells": [
  {
   "cell_type": "code",
   "execution_count": 6,
   "metadata": {},
   "outputs": [
    {
     "name": "stdout",
     "output_type": "stream",
     "text": [
      "no\n"
     ]
    }
   ],
   "source": [
    "import numpy as np\n",
    "\n",
    "def solution(friends, gifts):\n",
    "    gift_list=[[0]*len(friends) for _ in range(len(friends))]\n",
    "    presents = [0] * len(friends)\n",
    "    for i in gifts:\n",
    "        a,b=i.split()\n",
    "        a=friends.index(a)\n",
    "        b=friends.index(b)\n",
    "        gift_list[a][b]+=1\n",
    "    # print(gift_list)\n",
    "\n",
    "    array = np.array(gift_list)\n",
    "\n",
    "    t_given = array.sum(axis = 1)\n",
    "    t_taken = array.sum(axis = 0)\n",
    "    jisu = list(t_given - t_taken)\n",
    "\n",
    "    for i in range(len(friends)):\n",
    "        for j in range(i+1, len(friends)):\n",
    "            if gift_list[i][j] > gift_list[j][i]: # i가 준 게 더 많으면\n",
    "                presents[i] += 1\n",
    "            elif gift_list[j][i] > gift_list[i][j]: # j가 준 게 더 많으면\n",
    "                presents[j] += 1\n",
    "            else: # 같으면\n",
    "                if jisu[i] > jisu[j]:\n",
    "                    presents[i] += 1\n",
    "                if jisu[j] > jisu[i]:\n",
    "                    presents[j] += 1\n",
    "\n",
    "    return max(presents)"
   ]
  }
 ],
 "metadata": {
  "kernelspec": {
   "display_name": "Python 3",
   "language": "python",
   "name": "python3"
  },
  "language_info": {
   "codemirror_mode": {
    "name": "ipython",
    "version": 3
   },
   "file_extension": ".py",
   "mimetype": "text/x-python",
   "name": "python",
   "nbconvert_exporter": "python",
   "pygments_lexer": "ipython3",
   "version": "3.12.1"
  }
 },
 "nbformat": 4,
 "nbformat_minor": 2
}
