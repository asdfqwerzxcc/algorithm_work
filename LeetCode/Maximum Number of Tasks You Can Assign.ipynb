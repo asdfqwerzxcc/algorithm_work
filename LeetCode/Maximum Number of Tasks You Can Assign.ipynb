{
 "cells": [
  {
   "cell_type": "markdown",
   "id": "3c87c0bc",
   "metadata": {},
   "source": [
    "# Maximum Number of Tasks You Can Assign\n",
    "\n",
    "You have n tasks and m workers. Each task has a strength requirement stored in a 0-indexed integer array tasks, with the ith task requiring tasks[i] strength to complete. The strength of each worker is stored in a 0-indexed integer array workers, with the jth worker having workers[j] strength. Each worker can only be assigned to a single task and must have a strength greater than or equal to the task's strength requirement (i.e., workers[j] >= tasks[i]).\n",
    "\n",
    "Additionally, you have pills magical pills that will increase a worker's strength by strength. You can decide which workers receive the magical pills, however, you may only give each worker at most one magical pill.\n",
    "\n",
    "Given the 0-indexed integer arrays tasks and workers and the integers pills and strength, return the maximum number of tasks that can be completed."
   ]
  },
  {
   "cell_type": "code",
   "execution_count": null,
   "id": "49d7b5e1",
   "metadata": {},
   "outputs": [],
   "source": [
    "class Solution:\n",
    "    def maxTaskAssign(self, tasks: List[int], workers: List[int], pills: int, strength: int) -> int:\n",
    "        n, m = len(tasks), len(workers)\n",
    "        tasks.sort()\n",
    "        workers.sort()\n",
    "\n",
    "        def check(mid: int) -> bool:\n",
    "            p = pills\n",
    "            # Ordered set of workers\n",
    "            ws = SortedList(workers[m - mid :])\n",
    "            # Enumerate each task from largest to smallest\n",
    "            for i in range(mid - 1, -1, -1):\n",
    "                # If the largest element in the ordered set is greater than or equal to tasks[i]\n",
    "                if ws[-1] >= tasks[i]:\n",
    "                    ws.pop()\n",
    "                else:\n",
    "                    if p == 0:\n",
    "                        return False\n",
    "                    rep = ws.bisect_left(tasks[i] - strength)\n",
    "                    if rep == len(ws):\n",
    "                        return False\n",
    "                    p -= 1\n",
    "                    ws.pop(rep)\n",
    "            return True\n",
    "\n",
    "        left, right, ans = 1, min(m, n), 0\n",
    "        while left <= right:\n",
    "            mid = (left + right) // 2\n",
    "            if check(mid):\n",
    "                ans = mid\n",
    "                left = mid + 1\n",
    "            else:\n",
    "                right = mid - 1\n",
    "\n",
    "        return ans"
   ]
  }
 ],
 "metadata": {
  "language_info": {
   "name": "python"
  }
 },
 "nbformat": 4,
 "nbformat_minor": 5
}
