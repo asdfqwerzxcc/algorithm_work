{
 "cells": [
  {
   "cell_type": "markdown",
   "id": "6c61a75b",
   "metadata": {},
   "source": [
    " # Count the Number of Ideal Arrays\n",
    "\n",
    " You are given two integers n and maxValue, which are used to describe an ideal array.\n",
    "\n",
    "A 0-indexed integer array arr of length n is considered ideal if the following conditions hold:\n",
    "\n",
    "Every arr[i] is a value from 1 to maxValue, for 0 <= i < n.\n",
    "Every arr[i] is divisible by arr[i - 1], for 0 < i < n.\n",
    "Return the number of distinct ideal arrays of length n. Since the answer may be very large, return it modulo 109 + 7."
   ]
  },
  {
   "cell_type": "code",
   "execution_count": null,
   "id": "1920fa8b",
   "metadata": {},
   "outputs": [],
   "source": [
    "MOD = 10**9 + 7\n",
    "MAX_N = 10**4 + 10\n",
    "MAX_P = 15  # 最多 15 个质因子\n",
    "\n",
    "sieve = [0] * MAX_N  # 最小质因子\n",
    "\n",
    "for i in range(2, MAX_N):\n",
    "    if sieve[i] == 0:\n",
    "        for j in range(i, MAX_N, i):\n",
    "            sieve[j] = i\n",
    "\n",
    "ps = [[] for _ in range(MAX_N)]\n",
    "\n",
    "for i in range(2, MAX_N):\n",
    "    x = i\n",
    "    while x > 1:\n",
    "        p = sieve[x]\n",
    "        cnt = 0\n",
    "        while x % p == 0:\n",
    "            x //= p\n",
    "            cnt += 1\n",
    "        ps[i].append(cnt)\n",
    "\n",
    "c = [[0] * (MAX_P + 1) for _ in range(MAX_N + MAX_P)]\n",
    "\n",
    "c[0][0] = 1\n",
    "for i in range(1, MAX_N + MAX_P):\n",
    "    c[i][0] = 1\n",
    "    for j in range(1, min(i, MAX_P) + 1):\n",
    "        c[i][j] = (c[i - 1][j] + c[i - 1][j - 1]) % MOD\n",
    "\n",
    "\n",
    "class Solution:\n",
    "    def idealArrays(self, n: int, maxValue: int) -> int:\n",
    "        ans = 0\n",
    "        for x in range(1, maxValue + 1):\n",
    "            mul = 1\n",
    "            for p in ps[x]:\n",
    "                mul = mul * c[n + p - 1][p] % MOD\n",
    "            ans = (ans + mul) % MOD\n",
    "        return ans"
   ]
  }
 ],
 "metadata": {
  "language_info": {
   "name": "python"
  }
 },
 "nbformat": 4,
 "nbformat_minor": 5
}
