{
 "cells": [
  {
   "cell_type": "markdown",
   "id": "a37a146b",
   "metadata": {},
   "source": [
    "# Maximum Difference by Remapping a Digit\n",
    "You are given an integer num. You know that Bob will sneakily remap one of the 10 possible digits (0 to 9) to another digit.\n",
    "\n",
    "Return the difference between the maximum and minimum values Bob can make by remapping exactly one digit in num.\n",
    "\n",
    "Notes:\n",
    "\n",
    "When Bob remaps a digit d1 to another digit d2, Bob replaces all occurrences of d1 in num with d2.\n",
    "Bob can remap a digit to itself, in which case num does not change.\n",
    "Bob can remap different digits for obtaining minimum and maximum values respectively.\n",
    "The resulting number after remapping can contain leading zeroes.\n"
   ]
  },
  {
   "cell_type": "code",
   "execution_count": null,
   "id": "8ef0830a",
   "metadata": {
    "vscode": {
     "languageId": "plaintext"
    }
   },
   "outputs": [],
   "source": [
    "class Solution:\n",
    "    def minMaxDifference(self, num: int) -> int:\n",
    "        s = str(num)\n",
    "        t = s\n",
    "        pos = 0\n",
    "        while pos < len(s) and s[pos] == \"9\":\n",
    "            pos += 1\n",
    "        if pos < len(s):\n",
    "            s = s.replace(s[pos], \"9\")\n",
    "        t = t.replace(t[0], \"0\")\n",
    "        return int(s) - int(t)"
   ]
  }
 ],
 "metadata": {
  "language_info": {
   "name": "python"
  }
 },
 "nbformat": 4,
 "nbformat_minor": 5
}
