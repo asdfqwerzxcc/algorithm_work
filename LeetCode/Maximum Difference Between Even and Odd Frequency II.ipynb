{
 "cells": [
  {
   "cell_type": "markdown",
   "id": "dc180d05",
   "metadata": {},
   "source": [
    "# Maximum Difference Between Even and Odd Frequency II\n",
    "\n",
    "You are given a string s and an integer k. Your task is to find the maximum difference between the frequency of two characters, freq[a] - freq[b], in a substring subs of s, such that:\n",
    "\n",
    "subs has a size of at least k.\n",
    "Character a has an odd frequency in subs.\n",
    "Character b has an even frequency in subs.\n",
    "Return the maximum difference.\n",
    "\n",
    "Note that subs can contain more than 2 distinct characters."
   ]
  },
  {
   "cell_type": "code",
   "execution_count": null,
   "id": "51e8fa24",
   "metadata": {},
   "outputs": [],
   "source": [
    "class Solution:\n",
    "    def maxDifference(self, s: str, k: int) -> int:\n",
    "        def getStatus(cnt_a: int, cnt_b: int) -> int:\n",
    "            return ((cnt_a & 1) << 1) | (cnt_b & 1)\n",
    "\n",
    "        n = len(s)\n",
    "        ans = float(\"-inf\")\n",
    "        for a in [\"0\", \"1\", \"2\", \"3\", \"4\"]:\n",
    "            for b in [\"0\", \"1\", \"2\", \"3\", \"4\"]:\n",
    "                if a == b:\n",
    "                    continue\n",
    "\n",
    "                best = [float(\"inf\")] * 4\n",
    "                cnt_a = cnt_b = 0\n",
    "                prev_a = prev_b = 0\n",
    "                left = -1\n",
    "                for right in range(n):\n",
    "                    cnt_a += s[right] == a\n",
    "                    cnt_b += s[right] == b\n",
    "                    while right - left >= k and cnt_b - prev_b >= 2:\n",
    "                        left_status = getStatus(prev_a, prev_b)\n",
    "                        best[left_status] = min(\n",
    "                            best[left_status], prev_a - prev_b\n",
    "                        )\n",
    "                        left += 1\n",
    "                        prev_a += s[left] == a\n",
    "                        prev_b += s[left] == b\n",
    "\n",
    "                    right_status = getStatus(cnt_a, cnt_b)\n",
    "                    if best[right_status ^ 0b10] != float(\"inf\"):\n",
    "                        ans = max(\n",
    "                            ans, cnt_a - cnt_b - best[right_status ^ 0b10]\n",
    "                        )\n",
    "\n",
    "        return ans"
   ]
  }
 ],
 "metadata": {
  "language_info": {
   "name": "python"
  }
 },
 "nbformat": 4,
 "nbformat_minor": 5
}
