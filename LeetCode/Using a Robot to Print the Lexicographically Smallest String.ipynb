{
 "cells": [
  {
   "cell_type": "markdown",
   "id": "b6fcfda0",
   "metadata": {},
   "source": [
    "# Using a Robot to Print the Lexicographically Smallest String\n",
    "You are given a string s and a robot that currently holds an empty string t. Apply one of the following operations until s and t are both empty:\n",
    "\n",
    "Remove the first character of a string s and give it to the robot. The robot will append this character to the string t.\n",
    "Remove the last character of a string t and give it to the robot. The robot will write this character on paper.\n",
    "Return the lexicographically smallest string that can be written on the paper."
   ]
  },
  {
   "cell_type": "code",
   "execution_count": null,
   "id": "fe0ab007",
   "metadata": {},
   "outputs": [],
   "source": [
    "class Solution:\n",
    "    def robotWithString(self, s: str) -> str:\n",
    "        cnt = Counter(s)\n",
    "        stack = []\n",
    "        res = []\n",
    "        minCharacter = \"a\"\n",
    "        for c in s:\n",
    "            stack.append(c)\n",
    "            cnt[c] -= 1\n",
    "            while minCharacter != \"z\" and cnt[minCharacter] == 0:\n",
    "                minCharacter = chr(ord(minCharacter) + 1)\n",
    "            while stack and stack[-1] <= minCharacter:\n",
    "                res.append(stack.pop())\n",
    "        return \"\".join(res)"
   ]
  }
 ],
 "metadata": {
  "language_info": {
   "name": "python"
  }
 },
 "nbformat": 4,
 "nbformat_minor": 5
}
