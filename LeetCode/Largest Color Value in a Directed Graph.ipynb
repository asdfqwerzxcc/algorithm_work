{
 "cells": [
  {
   "cell_type": "markdown",
   "id": "37d706b3",
   "metadata": {},
   "source": [
    "# Largest Color Value in a Directed Graph\n",
    "\n",
    "There is a directed graph of n colored nodes and m edges. The nodes are numbered from 0 to n - 1.\n",
    "\n",
    "You are given a string colors where colors[i] is a lowercase English letter representing the color of the ith node in this graph (0-indexed). You are also given a 2D array edges where edges[j] = [aj, bj] indicates that there is a directed edge from node aj to node bj.\n",
    "\n",
    "A valid path in the graph is a sequence of nodes x1 -> x2 -> x3 -> ... -> xk such that there is a directed edge from xi to xi+1 for every 1 <= i < k. The color value of the path is the number of nodes that are colored the most frequently occurring color along that path.\n",
    "\n",
    "Return the largest color value of any valid path in the given graph, or -1 if the graph contains a cycle."
   ]
  },
  {
   "cell_type": "code",
   "execution_count": null,
   "id": "a4635c38",
   "metadata": {
    "vscode": {
     "languageId": "plaintext"
    }
   },
   "outputs": [],
   "source": [
    "class Solution:\n",
    "    def largestPathValue(self, colors: str, edges: List[List[int]]) -> int:\n",
    "        INF = float('inf')\n",
    "        n = len(colors)\n",
    "        adj = defaultdict(list)\n",
    "        for u, v in edges:\n",
    "            adj[u].append(v)\n",
    "        \n",
    "        count = [[0]*26 for _ in range(n)]\n",
    "        vis = [0]*n\n",
    "        \n",
    "        def dfs(node):\n",
    "            if vis[node] == 1:\n",
    "                return INF   \n",
    "            if vis[node] == 2:\n",
    "                return count[node][ord(colors[node]) - ord('a')]\n",
    "            \n",
    "            vis[node] = 1\n",
    "            for nxt in adj[node]:\n",
    "                res = dfs(nxt)\n",
    "                if res == INF:\n",
    "                    return INF\n",
    "                for c in range(26):\n",
    "                    count[node][c] = max(count[node][c], count[nxt][c])\n",
    "            \n",
    "            col = ord(colors[node]) - ord('a')\n",
    "            count[node][col] += 1\n",
    "            vis[node] = 2  \n",
    "            \n",
    "            return count[node][col]\n",
    "        \n",
    "        ans = 0\n",
    "        for i in range(n):\n",
    "            val = dfs(i)\n",
    "            if val == INF:\n",
    "                return -1\n",
    "            ans = max(ans, val)\n",
    "        \n",
    "        return ans"
   ]
  }
 ],
 "metadata": {
  "language_info": {
   "name": "python"
  }
 },
 "nbformat": 4,
 "nbformat_minor": 5
}
