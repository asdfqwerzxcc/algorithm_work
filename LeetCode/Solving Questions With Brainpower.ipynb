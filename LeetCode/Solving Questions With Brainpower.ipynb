{
 "cells": [
  {
   "cell_type": "markdown",
   "metadata": {},
   "source": [
    "# Solving Questions With Brainpower\n",
    "\n",
    "You are given a 0-indexed 2D integer array questions where questions[i] = [pointsi, brainpoweri].\n",
    "\n",
    "The array describes the questions of an exam, where you have to process the questions in order (i.e., starting from question 0) and make a decision whether to solve or skip each question. Solving question i will earn you pointsi points but you will be unable to solve each of the next brainpoweri questions. If you skip question i, you get to make the decision on the next question.\n",
    "\n",
    "For example, given questions = [[3, 2], [4, 3], [4, 4], [2, 5]]:\n",
    "If question 0 is solved, you will earn 3 points but you will be unable to solve questions 1 and 2.\n",
    "If instead, question 0 is skipped and question 1 is solved, you will earn 4 points but you will be unable to solve questions 2 and 3.\n",
    "Return the maximum points you can earn for the exam."
   ]
  },
  {
   "cell_type": "code",
   "execution_count": null,
   "metadata": {},
   "outputs": [],
   "source": [
    "class Solution:\n",
    "    def mostPoints(self, questions: List[List[int]]) -> int:\n",
    "        n = len(questions)\n",
    "        dp = [0] * (n + 1)  # dp[n]은 0으로 초기화 (문제가 없을 때의 값)\n",
    "        \n",
    "        # 뒤에서부터 순회\n",
    "        for i in range(n - 1, -1, -1):\n",
    "            points, brainpower = questions[i]\n",
    "            next_index = i + brainpower + 1\n",
    "            if next_index < n:\n",
    "                solve = points + dp[next_index]\n",
    "            else:\n",
    "                solve = points  # 다음 인덱스가 범위를 벗어나면 현재 점수만 사용\n",
    "            skip = dp[i + 1]\n",
    "            dp[i] = max(solve, skip)\n",
    "        \n",
    "        return dp[0]"
   ]
  }
 ],
 "metadata": {
  "language_info": {
   "name": "python"
  }
 },
 "nbformat": 4,
 "nbformat_minor": 2
}
