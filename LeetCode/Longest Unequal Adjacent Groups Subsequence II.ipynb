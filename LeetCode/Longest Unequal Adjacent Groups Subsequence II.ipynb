{
 "cells": [
  {
   "cell_type": "markdown",
   "id": "12899ca0",
   "metadata": {},
   "source": [
    "# Longest Unequal Adjacent Groups Subsequence II\n",
    "\n",
    "You are given a string array words, and an array groups, both arrays having length n.\n",
    "\n",
    "The hamming distance between two strings of equal length is the number of positions at which the corresponding characters are different.\n",
    "\n",
    "You need to select the longest subsequence from an array of indices [0, 1, ..., n - 1], such that for the subsequence denoted as [i0, i1, ..., ik-1] having length k, the following holds:\n",
    "\n",
    "For adjacent indices in the subsequence, their corresponding groups are unequal, i.e., groups[ij] != groups[ij+1], for each j where 0 < j + 1 < k.\n",
    "words[ij] and words[ij+1] are equal in length, and the hamming distance between them is 1, where 0 < j + 1 < k, for all indices in the subsequence.\n",
    "Return a string array containing the words corresponding to the indices (in order) in the selected subsequence. If there are multiple answers, return any of them.\n",
    "\n",
    "Note: strings in words may be unequal in length."
   ]
  },
  {
   "cell_type": "code",
   "execution_count": null,
   "id": "90974e17",
   "metadata": {
    "vscode": {
     "languageId": "plaintext"
    }
   },
   "outputs": [],
   "source": [
    "class Solution:\n",
    "    def getWordsInLongestSubsequence(\n",
    "        self, words: List[str], groups: List[int]\n",
    "    ) -> List[str]:\n",
    "        n = len(groups)\n",
    "        dp = [1] * n\n",
    "        prev_ = [-1] * n\n",
    "        max_index = 0\n",
    "\n",
    "        for i in range(1, n):\n",
    "            for j in range(i):\n",
    "                if (\n",
    "                    self.check(words[i], words[j])\n",
    "                    and dp[j] + 1 > dp[i]\n",
    "                    and groups[i] != groups[j]\n",
    "                ):\n",
    "                    dp[i] = dp[j] + 1\n",
    "                    prev_[i] = j\n",
    "            if dp[i] > dp[max_index]:\n",
    "                max_index = i\n",
    "\n",
    "        ans = []\n",
    "        i = max_index\n",
    "        while i >= 0:\n",
    "            ans.append(words[i])\n",
    "            i = prev_[i]\n",
    "        ans.reverse()\n",
    "        return ans\n",
    "\n",
    "    def check(self, s1: str, s2: str) -> bool:\n",
    "        if len(s1) != len(s2):\n",
    "            return False\n",
    "        diff = 0\n",
    "        for c1, c2 in zip(s1, s2):\n",
    "            if c1 != c2:\n",
    "                diff += 1\n",
    "                if diff > 1:\n",
    "                    return False\n",
    "        return diff == 1"
   ]
  }
 ],
 "metadata": {
  "language_info": {
   "name": "python"
  }
 },
 "nbformat": 4,
 "nbformat_minor": 5
}
