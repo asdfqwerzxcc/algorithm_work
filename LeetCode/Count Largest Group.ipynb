{
 "cells": [
  {
   "cell_type": "markdown",
   "id": "333215b7",
   "metadata": {},
   "source": [
    "# Count Largest Group\n",
    "You are given an integer n.\n",
    "\n",
    "Each number from 1 to n is grouped according to the sum of its digits.\n",
    "\n",
    "Return the number of groups that have the largest size.\n",
    "\n",
    " "
   ]
  },
  {
   "cell_type": "code",
   "execution_count": null,
   "id": "18eb98cc",
   "metadata": {},
   "outputs": [],
   "source": [
    "class Solution:\n",
    "    def countLargestGroup(self, n: int) -> int:\n",
    "        from collections import defaultdict\n",
    "\n",
    "        # 1. digit sum을 구하는 함수\n",
    "        def digit_sum(num):\n",
    "            return sum(int(d) for d in str(num))\n",
    "\n",
    "        # 2. 그룹화 진행\n",
    "        groups = defaultdict(int)\n",
    "        for i in range(1, n + 1):\n",
    "            s = digit_sum(i)\n",
    "            groups[s] += 1\n",
    "\n",
    "        # 3. 가장 큰 그룹의 크기 구하고, 해당 크기를 가진 그룹의 개수 세기\n",
    "        max_size = max(groups.values())\n",
    "        count = sum(1 for size in groups.values() if size == max_size)\n",
    "        \n",
    "        return count"
   ]
  }
 ],
 "metadata": {
  "language_info": {
   "name": "python"
  }
 },
 "nbformat": 4,
 "nbformat_minor": 5
}
