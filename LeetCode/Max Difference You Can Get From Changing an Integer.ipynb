{
 "cells": [
  {
   "cell_type": "markdown",
   "id": "36968b59",
   "metadata": {},
   "source": [
    "# Max Difference You Can Get From Changing an Integer\n",
    "\n",
    "You are given an integer num. You will apply the following steps to num two separate times:\n",
    "\n",
    "Pick a digit x (0 <= x <= 9).\n",
    "Pick another digit y (0 <= y <= 9). Note y can be equal to x.\n",
    "Replace all the occurrences of x in the decimal representation of num by y.\n",
    "Let a and b be the two results from applying the operation to num independently.\n",
    "\n",
    "Return the max difference between a and b.\n",
    "\n",
    "Note that neither a nor b may have any leading zeros, and must not be 0."
   ]
  },
  {
   "cell_type": "code",
   "execution_count": null,
   "id": "c8898ca7",
   "metadata": {},
   "outputs": [],
   "source": [
    "class Solution:\n",
    "    def maxDiff(self, num: int) -> int:\n",
    "        def change(x, y):\n",
    "            return str(num).replace(str(x), str(y))\n",
    "\n",
    "        min_num = max_num = num\n",
    "        for x in range(10):\n",
    "            for y in range(10):\n",
    "                res = change(x, y)\n",
    "                if res[0] != \"0\":\n",
    "                    res_i = int(res)\n",
    "                    min_num = min(min_num, res_i)\n",
    "                    max_num = max(max_num, res_i)\n",
    "\n",
    "        return max_num - min_num"
   ]
  }
 ],
 "metadata": {
  "language_info": {
   "name": "python"
  }
 },
 "nbformat": 4,
 "nbformat_minor": 5
}
