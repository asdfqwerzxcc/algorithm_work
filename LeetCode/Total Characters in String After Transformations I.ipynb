{
 "cells": [
  {
   "cell_type": "markdown",
   "id": "c0c77405",
   "metadata": {},
   "source": [
    "# Total Characters in String After Transformations I\n",
    "\n",
    "You are given a string s and an integer t, representing the number of transformations to perform. In one transformation, every character in s is replaced according to the following rules:\n",
    "\n",
    "If the character is 'z', replace it with the string \"ab\".\n",
    "Otherwise, replace it with the next character in the alphabet. For example, 'a' is replaced with 'b', 'b' is replaced with 'c', and so on.\n",
    "Return the length of the resulting string after exactly t transformations.\n",
    "\n",
    "Since the answer may be very large, return it modulo 109 + 7."
   ]
  },
  {
   "cell_type": "code",
   "execution_count": null,
   "id": "252fd765",
   "metadata": {},
   "outputs": [],
   "source": [
    "class Solution:\n",
    "    def lengthAfterTransformations(self, s: str, t: int) -> int:\n",
    "        mod = 10**9 + 7\n",
    "        cnt = [0] * 26\n",
    "        for ch in s:\n",
    "            cnt[ord(ch) - ord(\"a\")] += 1\n",
    "        for round in range(t):\n",
    "            nxt = [0] * 26\n",
    "            nxt[0] = cnt[25]\n",
    "            nxt[1] = (cnt[25] + cnt[0]) % mod\n",
    "            for i in range(2, 26):\n",
    "                nxt[i] = cnt[i - 1]\n",
    "            cnt = nxt\n",
    "        ans = sum(cnt) % mod\n",
    "        return ans"
   ]
  }
 ],
 "metadata": {
  "language_info": {
   "name": "python"
  }
 },
 "nbformat": 4,
 "nbformat_minor": 5
}
