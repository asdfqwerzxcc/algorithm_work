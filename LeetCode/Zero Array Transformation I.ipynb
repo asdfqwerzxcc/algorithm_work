{
 "cells": [
  {
   "cell_type": "markdown",
   "id": "90652f18",
   "metadata": {},
   "source": [
    "# Zero Array Transformation I\n",
    "\n",
    "You are given an integer array nums of length n and a 2D array queries, where queries[i] = [li, ri].\n",
    "\n",
    "For each queries[i]:\n",
    "\n",
    "Select a subset of indices within the range [li, ri] in nums.\n",
    "Decrement the values at the selected indices by 1.\n",
    "A Zero Array is an array where all elements are equal to 0.\n",
    "\n",
    "Return true if it is possible to transform nums into a Zero Array after processing all the queries sequentially, otherwise return false."
   ]
  },
  {
   "cell_type": "code",
   "execution_count": null,
   "id": "a7d3d55e",
   "metadata": {},
   "outputs": [],
   "source": [
    "class Solution:\n",
    "    def isZeroArray(self, nums: List[int], queries: List[List[int]]) -> bool:\n",
    "        deltaArray = [0] * (len(nums) + 1)\n",
    "        for left, right in queries:\n",
    "            deltaArray[left] += 1\n",
    "            deltaArray[right + 1] -= 1\n",
    "        operationCounts = []\n",
    "        currentOperations = 0\n",
    "        for delta in deltaArray:\n",
    "            currentOperations += delta\n",
    "            operationCounts.append(currentOperations)\n",
    "        for operations, target in zip(operationCounts, nums):\n",
    "            if operations < target:\n",
    "                return False\n",
    "        return True"
   ]
  }
 ],
 "metadata": {
  "language_info": {
   "name": "python"
  }
 },
 "nbformat": 4,
 "nbformat_minor": 5
}
