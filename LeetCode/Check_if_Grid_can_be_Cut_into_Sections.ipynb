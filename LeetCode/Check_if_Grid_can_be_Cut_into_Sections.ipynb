{
 "cells": [
  {
   "cell_type": "markdown",
   "metadata": {},
   "source": [
    "# Check if Grid can be Cut into Sections\n",
    "\n",
    "You are given an integer n representing the dimensions of an n x n grid, with the origin at the bottom-left corner of the grid. You are also given a 2D array of coordinates rectangles, where rectangles[i] is in the form [startx, starty, endx, endy], representing a rectangle on the grid. Each rectangle is defined as follows:\n",
    "\n",
    "(startx, starty): The bottom-left corner of the rectangle.\n",
    "(endx, endy): The top-right corner of the rectangle.\n",
    "Note that the rectangles do not overlap. Your task is to determine if it is possible to make either two horizontal or two vertical cuts on the grid such that:\n",
    "\n",
    "Each of the three resulting sections formed by the cuts contains at least one rectangle.\n",
    "Every rectangle belongs to exactly one section.\n",
    "Return true if such cuts can be made; otherwise, return false."
   ]
  },
  {
   "cell_type": "code",
   "execution_count": null,
   "metadata": {},
   "outputs": [],
   "source": [
    "class Solution:\n",
    "    def checkValidCuts(self, n: int, rectangles: list[list[int]]) -> bool:\n",
    "        # Check if valid cuts can be made in a specific dimension\n",
    "        def _check_cuts(rectangles: list[list[int]], dim: int) -> bool:\n",
    "            gap_count = 0\n",
    "\n",
    "            # Sort rectangles by their starting coordinate in the given dimension\n",
    "            rectangles.sort(key=lambda rect: rect[dim])\n",
    "\n",
    "            # Track the furthest ending coordinate seen so far\n",
    "            furthest_end = rectangles[0][dim + 2]\n",
    "\n",
    "            for i in range(1, len(rectangles)):\n",
    "                rect = rectangles[i]\n",
    "\n",
    "                # If current rectangle starts after the furthest end we've seen,\n",
    "                # we found a gap where a cut can be made\n",
    "                if furthest_end <= rect[dim]:\n",
    "                    gap_count += 1\n",
    "\n",
    "                # Update the furthest ending coordinate\n",
    "                furthest_end = max(furthest_end, rect[dim + 2])\n",
    "\n",
    "            # We need at least 2 gaps to create 3 sections\n",
    "            return gap_count >= 2\n",
    "\n",
    "        # Try both horizontal and vertical cuts\n",
    "        return _check_cuts(rectangles, 0) or _check_cuts(rectangles, 1)"
   ]
  }
 ],
 "metadata": {
  "language_info": {
   "name": "python"
  }
 },
 "nbformat": 4,
 "nbformat_minor": 2
}
