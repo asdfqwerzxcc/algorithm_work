{
 "cells": [
  {
   "cell_type": "markdown",
   "id": "0727c702",
   "metadata": {},
   "source": [
    "# Find Minimum Time to Reach Last Room II\n",
    "\n",
    "There is a dungeon with n x m rooms arranged as a grid.\n",
    "\n",
    "You are given a 2D array moveTime of size n x m, where moveTime[i][j] represents the minimum time in seconds when you can start moving to that room. You start from the room (0, 0) at time t = 0 and can move to an adjacent room. Moving between adjacent rooms takes one second for one move and two seconds for the next, alternating between the two.\n",
    "\n",
    "Return the minimum time to reach the room (n - 1, m - 1).\n",
    "\n",
    "Two rooms are adjacent if they share a common wall, either horizontally or vertically."
   ]
  },
  {
   "cell_type": "code",
   "execution_count": null,
   "id": "04e01592",
   "metadata": {},
   "outputs": [],
   "source": [
    "class State:\n",
    "    def __init__(self, x, y, dis):\n",
    "        self.x = x\n",
    "        self.y = y\n",
    "        self.dis = dis\n",
    "\n",
    "    def __lt__(self, other):\n",
    "        return self.dis < other.dis\n",
    "\n",
    "\n",
    "class Solution:\n",
    "    def minTimeToReach(self, moveTime):\n",
    "        n = len(moveTime)\n",
    "        m = len(moveTime[0])\n",
    "        inf = float(\"inf\")\n",
    "        d = [[inf] * m for _ in range(n)]\n",
    "        v = [[0] * m for _ in range(n)]\n",
    "\n",
    "        dirs = [(1, 0), (-1, 0), (0, 1), (0, -1)]\n",
    "\n",
    "        d[0][0] = 0\n",
    "        q = []\n",
    "        heapq.heappush(q, State(0, 0, 0))\n",
    "\n",
    "        while q:\n",
    "            s = heapq.heappop(q)\n",
    "            if v[s.x][s.y]:\n",
    "                continue\n",
    "            if s.x == n - 1 and s.y == m - 1:\n",
    "                break\n",
    "            v[s.x][s.y] = 1\n",
    "            for dx, dy in dirs:\n",
    "                nx, ny = s.x + dx, s.y + dy\n",
    "                if not (0 <= nx < n and 0 <= ny < m):\n",
    "                    continue\n",
    "                dist = max(d[s.x][s.y], moveTime[nx][ny]) + (s.x + s.y) % 2 + 1\n",
    "                if d[nx][ny] > dist:\n",
    "                    d[nx][ny] = dist\n",
    "                    heapq.heappush(q, State(nx, ny, dist))\n",
    "\n",
    "        return d[n - 1][m - 1]"
   ]
  }
 ],
 "metadata": {
  "language_info": {
   "name": "python"
  }
 },
 "nbformat": 4,
 "nbformat_minor": 5
}
