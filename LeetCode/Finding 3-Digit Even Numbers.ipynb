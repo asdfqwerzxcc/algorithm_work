{
 "cells": [
  {
   "cell_type": "markdown",
   "id": "9cdb78ee",
   "metadata": {},
   "source": [
    "# Finding 3-Digit Even Numbers\n",
    "\n",
    "You are given an integer array digits, where each element is a digit. The array may contain duplicates.\n",
    "\n",
    "You need to find all the unique integers that follow the given requirements:\n",
    "\n",
    "The integer consists of the concatenation of three elements from digits in any arbitrary order.\n",
    "The integer does not have leading zeros.\n",
    "The integer is even.\n",
    "For example, if the given digits were [1, 2, 3], integers 132 and 312 follow the requirements.\n",
    "\n",
    "Return a sorted array of the unique integers."
   ]
  },
  {
   "cell_type": "code",
   "execution_count": null,
   "id": "43b29046",
   "metadata": {},
   "outputs": [],
   "source": [
    "class Solution:\n",
    "    def findEvenNumbers(self, digits: List[int]) -> List[int]:\n",
    "        nums = set()\n",
    "        n = len(digits)\n",
    "        for i in range(n):\n",
    "            for j in range(n):\n",
    "                for k in range(n):\n",
    "                    if i == j or j == k or i == k:\n",
    "                        continue\n",
    "                    num = digits[i] * 100 + digits[j] * 10 + digits[k]\n",
    "                    if num >= 100 and num % 2 == 0:\n",
    "                        nums.add(num)\n",
    "        res = sorted(list(nums))\n",
    "        return res"
   ]
  }
 ],
 "metadata": {
  "language_info": {
   "name": "python"
  }
 },
 "nbformat": 4,
 "nbformat_minor": 5
}
