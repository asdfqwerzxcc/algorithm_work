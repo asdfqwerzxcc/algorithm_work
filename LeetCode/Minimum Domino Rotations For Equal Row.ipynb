{
 "cells": [
  {
   "cell_type": "markdown",
   "id": "333b5fd8",
   "metadata": {},
   "source": [
    "# Minimum Domino Rotations For Equal Row\n",
    "\n",
    "In a row of dominoes, tops[i] and bottoms[i] represent the top and bottom halves of the ith domino. (A domino is a tile with two numbers from 1 to 6 - one on each half of the tile.)\n",
    "\n",
    "We may rotate the ith domino, so that tops[i] and bottoms[i] swap values.\n",
    "\n",
    "Return the minimum number of rotations so that all the values in tops are the same, or all the values in bottoms are the same.\n",
    "\n",
    "If it cannot be done, return -1."
   ]
  },
  {
   "cell_type": "code",
   "execution_count": null,
   "id": "abb1173e",
   "metadata": {},
   "outputs": [],
   "source": [
    "class Solution:\n",
    "    def minDominoRotations(self, tops: List[int], bottoms: List[int]) -> int:\n",
    "        n = len(tops)\n",
    "        res = float('inf')\n",
    "        face = [0]*7\n",
    "        for i in range(n):\n",
    "            face[tops[i]] += 1\n",
    "            if bottoms[i] != tops[i]:\n",
    "                face[bottoms[i]] += 1\n",
    "        for x in range(1, 7):\n",
    "            if face[x] < n:\n",
    "                continue\n",
    "            maintainTop = maintainBottom = 0\n",
    "            possible = True\n",
    "            for i in range(n):\n",
    "                if tops[i] != x and bottoms[i] != x:\n",
    "                    possible = False\n",
    "                    break\n",
    "                if tops[i] != x:\n",
    "                    maintainTop += 1\n",
    "                if bottoms[i] != x:\n",
    "                    maintainBottom += 1\n",
    "            if possible:\n",
    "                res = min(res, maintainTop, maintainBottom)\n",
    "        return -1 if res == float('inf') else res"
   ]
  }
 ],
 "metadata": {
  "language_info": {
   "name": "python"
  }
 },
 "nbformat": 4,
 "nbformat_minor": 5
}
