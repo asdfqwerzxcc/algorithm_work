{
 "cells": [
  {
   "cell_type": "markdown",
   "id": "362dcbbd",
   "metadata": {},
   "source": [
    "# Divide Array Into Arrays With Max Difference\n",
    "\n",
    "You are given an integer array nums of size n where n is a multiple of 3 and a positive integer k.\n",
    "\n",
    "Divide the array nums into n / 3 arrays of size 3 satisfying the following condition:\n",
    "\n",
    "The difference between any two elements in one array is less than or equal to k.\n",
    "Return a 2D array containing the arrays. If it is impossible to satisfy the conditions, return an empty array. And if there are multiple answers, return any of them."
   ]
  },
  {
   "cell_type": "code",
   "execution_count": null,
   "id": "ad9232c4",
   "metadata": {},
   "outputs": [],
   "source": [
    "class Solution:\n",
    "    def divideArray(self, nums: List[int], k: int) -> List[List[int]]:\n",
    "        nums.sort()\n",
    "        ans = []\n",
    "        for i in range(0, len(nums), 3):\n",
    "            if nums[i + 2] - nums[i] > k:\n",
    "                return []\n",
    "            ans.append([nums[i], nums[i + 1], nums[i + 2]])\n",
    "        return ans"
   ]
  }
 ],
 "metadata": {
  "language_info": {
   "name": "python"
  }
 },
 "nbformat": 4,
 "nbformat_minor": 5
}
