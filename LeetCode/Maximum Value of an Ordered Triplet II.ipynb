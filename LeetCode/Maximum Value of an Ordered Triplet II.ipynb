{
 "cells": [
  {
   "cell_type": "markdown",
   "metadata": {},
   "source": [
    "# Maximum Value of an Ordered Triplet II\n",
    "You are given a 0-indexed integer array nums.\n",
    "\n",
    "Return the maximum value over all triplets of indices (i, j, k) such that i < j < k. If all such triplets have a negative value, return 0.\n",
    "\n",
    "The value of a triplet of indices (i, j, k) is equal to (nums[i] - nums[j]) * nums[k].\n"
   ]
  },
  {
   "cell_type": "code",
   "execution_count": null,
   "metadata": {},
   "outputs": [],
   "source": [
    "class Solution:\n",
    "    def maximumTripletValue(self, nums: List[int]) -> int:\n",
    "        n = len(nums)\n",
    "        if n < 3:\n",
    "            return 0\n",
    "        \n",
    "        # 전처리: prefix maximum\n",
    "        prefix_max = [0] * n\n",
    "        prefix_max[0] = nums[0]\n",
    "        for j in range(1, n):\n",
    "            prefix_max[j] = max(prefix_max[j-1], nums[j-1])\n",
    "        \n",
    "        # 전처리: suffix maximum과 minimum\n",
    "        suffix_max = [0] * n\n",
    "        suffix_min = [0] * n\n",
    "        suffix_max[-1] = nums[-1]\n",
    "        suffix_min[-1] = nums[-1]\n",
    "        for j in range(n-2, -1, -1):\n",
    "            suffix_max[j] = max(suffix_max[j+1], nums[j])\n",
    "            suffix_min[j] = min(suffix_min[j+1], nums[j])\n",
    "        \n",
    "        max_value = float('-inf')\n",
    "        \n",
    "        # j를 중간 인덱스로 선택\n",
    "        for j in range(1, n-1):\n",
    "            diff = prefix_max[j] - nums[j]\n",
    "            # 양수 차이면 오른쪽에서 최댓값 선택, 음수이면 최솟값 선택\n",
    "            if diff >= 0:\n",
    "                candidate = diff * suffix_max[j+1]\n",
    "            else:\n",
    "                candidate = diff * suffix_min[j+1]\n",
    "            max_value = max(max_value, candidate)\n",
    "        \n",
    "        return max_value if max_value > 0 else 0"
   ]
  }
 ],
 "metadata": {
  "language_info": {
   "name": "python"
  }
 },
 "nbformat": 4,
 "nbformat_minor": 2
}
