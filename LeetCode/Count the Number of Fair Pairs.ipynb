{
 "cells": [
  {
   "cell_type": "markdown",
   "id": "4edef94e",
   "metadata": {},
   "source": [
    "# Count the Number of Fair Pairs\n",
    "\n",
    "Given a 0-indexed integer array nums of size n and two integers lower and upper, return the number of fair pairs.\n",
    "\n",
    "A pair (i, j) is fair if:\n",
    "\n",
    "0 <= i < j < n, and\n",
    "lower <= nums[i] + nums[j] <= upper"
   ]
  },
  {
   "cell_type": "code",
   "execution_count": null,
   "id": "9998d6dc",
   "metadata": {},
   "outputs": [],
   "source": [
    "class Solution:\n",
    "    def countFairPairs(self, nums: List[int], lower: int, upper: int) -> int:\n",
    "        def count_less_than(nums, target):\n",
    "            \"\"\"Count pairs where nums[i] + nums[j] < target\"\"\"\n",
    "            left, right = 0, len(nums) - 1\n",
    "            count = 0\n",
    "            \n",
    "            while left < right:\n",
    "                if nums[left] + nums[right] < target:\n",
    "                    count += right - left\n",
    "                    left += 1\n",
    "                else:\n",
    "                    right -= 1\n",
    "                    \n",
    "            return count\n",
    "        \n",
    "        nums.sort()\n",
    "        return count_less_than(nums, upper + 1) - count_less_than(nums, lower)"
   ]
  }
 ],
 "metadata": {
  "language_info": {
   "name": "python"
  }
 },
 "nbformat": 4,
 "nbformat_minor": 5
}
