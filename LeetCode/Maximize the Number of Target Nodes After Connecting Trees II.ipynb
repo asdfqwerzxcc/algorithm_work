{
 "cells": [
  {
   "cell_type": "markdown",
   "id": "eeb33cd0",
   "metadata": {},
   "source": [
    "# Maximize the Number of Target Nodes After Connecting Trees II\n",
    "\n",
    "There exist two undirected trees with n and m nodes, labeled from [0, n - 1] and [0, m - 1], respectively.\n",
    "\n",
    "You are given two 2D integer arrays edges1 and edges2 of lengths n - 1 and m - 1, respectively, where edges1[i] = [ai, bi] indicates that there is an edge between nodes ai and bi in the first tree and edges2[i] = [ui, vi] indicates that there is an edge between nodes ui and vi in the second tree.\n",
    "\n",
    "Node u is target to node v if the number of edges on the path from u to v is even. Note that a node is always target to itself.\n",
    "\n",
    "Return an array of n integers answer, where answer[i] is the maximum possible number of nodes that are target to node i of the first tree if you had to connect one node from the first tree to another node in the second tree.\n",
    "\n",
    "Note that queries are independent from each other. That is, for every query you will remove the added edge before proceeding to the next query."
   ]
  },
  {
   "cell_type": "code",
   "execution_count": null,
   "id": "37ceffe8",
   "metadata": {
    "vscode": {
     "languageId": "plaintext"
    }
   },
   "outputs": [],
   "source": [
    "class Solution:\n",
    "    def maxTargetNodes(\n",
    "        self, edges1: List[List[int]], edges2: List[List[int]]\n",
    "    ) -> List[int]:\n",
    "        def dfs(node, parent, depth, children, color):\n",
    "            res = 1 - depth % 2\n",
    "            color[node] = depth % 2\n",
    "            for child in children[node]:\n",
    "                if child == parent:\n",
    "                    continue\n",
    "                res += dfs(child, node, depth + 1, children, color)\n",
    "            return res\n",
    "\n",
    "        def build(edges, color):\n",
    "            n = len(edges) + 1\n",
    "            children = [[] for _ in range(n)]\n",
    "            for u, v in edges:\n",
    "                children[u].append(v)\n",
    "                children[v].append(u)\n",
    "            res = dfs(0, -1, 0, children, color)\n",
    "            return [res, n - res]\n",
    "\n",
    "        n = len(edges1) + 1\n",
    "        m = len(edges2) + 1\n",
    "        color1 = [0] * n\n",
    "        color2 = [0] * m\n",
    "        count1 = build(edges1, color1)\n",
    "        count2 = build(edges2, color2)\n",
    "        res = [0] * n\n",
    "        for i in range(n):\n",
    "            res[i] = count1[color1[i]] + max(count2[0], count2[1])\n",
    "        return res"
   ]
  }
 ],
 "metadata": {
  "language_info": {
   "name": "python"
  }
 },
 "nbformat": 4,
 "nbformat_minor": 5
}
