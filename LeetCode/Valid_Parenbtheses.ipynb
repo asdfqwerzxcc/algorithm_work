{
 "cells": [
  {
   "cell_type": "markdown",
   "metadata": {},
   "source": [
    "# Valide Parentheses\n",
    "\n",
    "Given a string s containing just the characters '(', ')', '{', '}', '[' and ']', determine if the input string is valid.\n",
    "\n",
    "An input string is valid if:\n",
    "\n",
    "1. Open brackets must be closed by the same type of brackets.\n",
    "2. Open brackets must be closed in the correct order.\n",
    "3. Every close bracket has a corresponding open bracket of the same type."
   ]
  },
  {
   "cell_type": "code",
   "execution_count": null,
   "metadata": {},
   "outputs": [],
   "source": [
    "class Solution:\n",
    "    def isValid(self, s: str) -> bool:\n",
    "        # Dictionary to map closing brackets to their corresponding opening brackets.\n",
    "        bracket_map = {')': '(', '}': '{', ']': '['}\n",
    "        stack = []\n",
    "        \n",
    "        for char in s:\n",
    "            # If the character is an opening bracket, push it onto the stack.\n",
    "            if char in bracket_map.values():\n",
    "                stack.append(char)\n",
    "            # If the character is a closing bracket.\n",
    "            elif char in bracket_map:\n",
    "                # Check if the stack is empty or the top doesn't match the expected opening bracket.\n",
    "                if not stack or stack[-1] != bracket_map[char]:\n",
    "                    return False\n",
    "                stack.pop()\n",
    "            else:\n",
    "                # Optionally, you could handle characters that are not brackets.\n",
    "                continue\n",
    "        \n",
    "        # If the stack is empty, then the string is valid.\n",
    "        return not stack\n",
    "        "
   ]
  }
 ],
 "metadata": {
  "language_info": {
   "name": "python"
  }
 },
 "nbformat": 4,
 "nbformat_minor": 2
}
