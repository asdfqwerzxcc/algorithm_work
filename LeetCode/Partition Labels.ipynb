{
 "cells": [
  {
   "cell_type": "markdown",
   "metadata": {},
   "source": [
    "# Partition Labels\n",
    "\n",
    "You are given a string s. We want to partition the string into as many parts as possible so that each letter appears in at most one part. For example, the string \"ababcc\" can be partitioned into [\"abab\", \"cc\"], but partitions such as [\"aba\", \"bcc\"] or [\"ab\", \"ab\", \"cc\"] are invalid.\n",
    "\n",
    "Note that the partition is done so that after concatenating all the parts in order, the resultant string should be s.\n",
    "\n",
    "Return a list of integers representing the size of these parts.\n",
    "\n",
    " "
   ]
  },
  {
   "cell_type": "code",
   "execution_count": null,
   "metadata": {},
   "outputs": [],
   "source": [
    "class Solution:\n",
    "    def partitionLabels(self, s: str) -> List[int]:\n",
    "        # Step 1: Store last occurrence of each character\n",
    "        last_index = {char: idx for idx, char in enumerate(s)}\n",
    "        \n",
    "        partitions = []\n",
    "        start, max_last = 0, 0  # start of partition and max last index\n",
    "        \n",
    "        # Step 2: Iterate through the string to find partitions\n",
    "        for i, char in enumerate(s):\n",
    "            max_last = max(max_last, last_index[char])  # Update max last occurrence\n",
    "            if i == max_last:  # End of partition reached\n",
    "                partitions.append(i - start + 1)  # Store partition size\n",
    "                start = i + 1  # Update start for next partition\n",
    "\n",
    "        return partitions"
   ]
  }
 ],
 "metadata": {
  "language_info": {
   "name": "python"
  }
 },
 "nbformat": 4,
 "nbformat_minor": 2
}
