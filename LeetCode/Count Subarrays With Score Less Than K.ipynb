{
 "cells": [
  {
   "cell_type": "markdown",
   "id": "ffd10a06",
   "metadata": {},
   "source": [
    "# Count Subarrays With Score Less Than K\n",
    "\n",
    "The score of an array is defined as the product of its sum and its length.\n",
    "\n",
    "For example, the score of [1, 2, 3, 4, 5] is (1 + 2 + 3 + 4 + 5) * 5 = 75.\n",
    "Given a positive integer array nums and an integer k, return the number of non-empty subarrays of nums whose score is strictly less than k.\n",
    "\n",
    "A subarray is a contiguous sequence of elements within an array."
   ]
  },
  {
   "cell_type": "code",
   "execution_count": null,
   "id": "84971720",
   "metadata": {},
   "outputs": [],
   "source": [
    "class Solution:\n",
    "    def countSubarrays(self, nums: List[int], k: int) -> int:\n",
    "        n = len(nums)\n",
    "        res, total = 0, 0\n",
    "        i = 0\n",
    "        for j in range(n):\n",
    "            total += nums[j]\n",
    "            while i <= j and total * (j - i + 1) >= k:\n",
    "                total -= nums[i]\n",
    "                i += 1\n",
    "            res += j - i + 1\n",
    "        return res"
   ]
  }
 ],
 "metadata": {
  "language_info": {
   "name": "python"
  }
 },
 "nbformat": 4,
 "nbformat_minor": 5
}
