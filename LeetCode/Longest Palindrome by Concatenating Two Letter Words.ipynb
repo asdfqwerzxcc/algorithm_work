{
 "cells": [
  {
   "cell_type": "markdown",
   "id": "49da6d9d",
   "metadata": {},
   "source": [
    "# Longest Palindrome by Concatenating Two Letter Wordss\n",
    "\n",
    "You are given an array of strings words. Each element of words consists of two lowercase English letters.\n",
    "\n",
    "Create the longest possible palindrome by selecting some elements from words and concatenating them in any order. Each element can be selected at most once.\n",
    "\n",
    "Return the length of the longest palindrome that you can create. If it is impossible to create any palindrome, return 0.\n",
    "\n",
    "A palindrome is a string that reads the same forward and backward."
   ]
  },
  {
   "cell_type": "code",
   "execution_count": null,
   "id": "34ae0bad",
   "metadata": {},
   "outputs": [],
   "source": [
    "class Solution:\n",
    "    def longestPalindrome(self, words: List[str]) -> int:\n",
    "        mpp = [[0]*26 for _ in range(26)]\n",
    "        count = 0\n",
    "        middle = 0\n",
    "        for s in words:\n",
    "            x, y = ord(s[0]) - ord('a'), ord(s[1]) - ord('a')\n",
    "            if mpp[y][x] > 0:\n",
    "                mpp[y][x] -= 1\n",
    "                count += 4\n",
    "                if x == y:\n",
    "                    middle -= 1\n",
    "            else:\n",
    "                mpp[x][y] += 1\n",
    "                if x == y:\n",
    "                    middle += 1\n",
    "        if middle > 0:\n",
    "            count += 2\n",
    "        return count"
   ]
  }
 ],
 "metadata": {
  "language_info": {
   "name": "python"
  }
 },
 "nbformat": 4,
 "nbformat_minor": 5
}
