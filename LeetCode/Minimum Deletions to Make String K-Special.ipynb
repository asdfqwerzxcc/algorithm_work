{
 "cells": [
  {
   "cell_type": "markdown",
   "id": "a6025c04",
   "metadata": {},
   "source": [
    "# Minimum Deletions to Make String K-Special\n",
    "\n",
    "You are given a string word and an integer k.\n",
    "\n",
    "We consider word to be k-special if |freq(word[i]) - freq(word[j])| <= k for all indices i and j in the string.\n",
    "\n",
    "Here, freq(x) denotes the frequency of the character x in word, and |y| denotes the absolute value of y.\n",
    "\n",
    "Return the minimum number of characters you need to delete to make word k-special."
   ]
  },
  {
   "cell_type": "code",
   "execution_count": null,
   "id": "3982428d",
   "metadata": {},
   "outputs": [],
   "source": [
    "class Solution:\n",
    "    def minimumDeletions(self, word: str, k: int) -> int:\n",
    "        cnt = defaultdict(int)\n",
    "        for c in word:\n",
    "            cnt[c] += 1\n",
    "        res = len(word)\n",
    "        for a in cnt.values():\n",
    "            deleted = 0\n",
    "            for b in cnt.values():\n",
    "                if a > b:\n",
    "                    deleted += b\n",
    "                elif b > a + k:\n",
    "                    deleted += b - (a + k)\n",
    "            res = min(res, deleted)\n",
    "        return res"
   ]
  }
 ],
 "metadata": {
  "language_info": {
   "name": "python"
  }
 },
 "nbformat": 4,
 "nbformat_minor": 5
}
