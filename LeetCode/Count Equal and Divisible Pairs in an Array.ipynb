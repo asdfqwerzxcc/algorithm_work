{
 "cells": [
  {
   "cell_type": "markdown",
   "id": "ac4b8843",
   "metadata": {},
   "source": [
    "# Count Equal and Divisible Pairs in an Array\n",
    "\n",
    "Given a 0-indexed integer array nums of length n and an integer k, return the number of pairs (i, j) where 0 <= i < j < n, such that nums[i] == nums[j] and (i * j) is divisible by k."
   ]
  },
  {
   "cell_type": "code",
   "execution_count": null,
   "id": "962de8f9",
   "metadata": {},
   "outputs": [],
   "source": [
    "class Solution:\n",
    "    def countPairs(self, nums: List[int], k: int) -> int:\n",
    "        index_map = defaultdict(list)\n",
    "        \n",
    "        # 값 기준으로 인덱스 모음\n",
    "        for idx, num in enumerate(nums):\n",
    "            index_map[num].append(idx)\n",
    "\n",
    "        count = 0\n",
    "        \n",
    "        # 같은 값끼리만 비교\n",
    "        for indices in index_map.values():\n",
    "            length = len(indices)\n",
    "            for i in range(length):\n",
    "                for j in range(i + 1, length):\n",
    "                    if (indices[i] * indices[j]) % k == 0:\n",
    "                        count += 1\n",
    "                        \n",
    "        return count"
   ]
  }
 ],
 "metadata": {
  "language_info": {
   "name": "python"
  }
 },
 "nbformat": 4,
 "nbformat_minor": 5
}
