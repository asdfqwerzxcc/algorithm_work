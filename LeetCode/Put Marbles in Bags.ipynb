{
 "cells": [
  {
   "cell_type": "markdown",
   "metadata": {},
   "source": [
    "# Put Marbles in Bags\n",
    "\n",
    "You have k bags. You are given a 0-indexed integer array weights where weights[i] is the weight of the ith marble. You are also given the integer k.\n",
    "\n",
    "Divide the marbles into the k bags according to the following rules:\n",
    "\n",
    "No bag is empty.\n",
    "If the ith marble and jth marble are in a bag, then all marbles with an index between the ith and jth indices should also be in that same bag.\n",
    "If a bag consists of all the marbles with an index from i to j inclusively, then the cost of the bag is weights[i] + weights[j].\n",
    "The score after distributing the marbles is the sum of the costs of all the k bags.\n",
    "\n",
    "Return the difference between the maximum and minimum scores among marble distributions."
   ]
  },
  {
   "cell_type": "code",
   "execution_count": null,
   "metadata": {},
   "outputs": [],
   "source": [
    "class Solution:\n",
    "    def putMarbles(self, weights: List[int], k: int) -> int:\n",
    "        n = len(weights)\n",
    "        # k가 1이면, 한 가방에 모두 들어가므로 점수 차이는 0입니다.\n",
    "        if k == 1:\n",
    "            return 0\n",
    "\n",
    "        # 인접한 두 구슬을 한 묶음으로 봤을 때의 후보 값 배열 생성\n",
    "        candidates = []\n",
    "        for i in range(n - 1):\n",
    "            candidates.append(weights[i] + weights[i + 1])\n",
    "        \n",
    "        # 후보 값 정렬\n",
    "        candidates.sort()\n",
    "        \n",
    "        # k-1개의 split을 선택할 때, 최소/최대 점수를 위해\n",
    "        # 최소: 가장 작은 후보 k-1개, 최대: 가장 큰 후보 k-1개 선택\n",
    "        min_extra = sum(candidates[:k - 1])\n",
    "        max_extra = sum(candidates[-(k - 1):])\n",
    "        \n",
    "        # 기본 비용은 모든 분할에서 동일하므로, 두 경우의 차이는\n",
    "        # 선택된 후보 값들의 차이와 동일합니다.\n",
    "        return max_extra - min_extra"
   ]
  }
 ],
 "metadata": {
  "language_info": {
   "name": "python"
  }
 },
 "nbformat": 4,
 "nbformat_minor": 2
}
