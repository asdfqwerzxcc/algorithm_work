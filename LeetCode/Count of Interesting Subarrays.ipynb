{
 "cells": [
  {
   "cell_type": "markdown",
   "id": "01d48526",
   "metadata": {},
   "source": [
    "# Count of Interesting Subarrays\n",
    "\n",
    "You are given a 0-indexed integer array nums, an integer modulo, and an integer k.\n",
    "\n",
    "Your task is to find the count of subarrays that are interesting.\n",
    "\n",
    "A subarray nums[l..r] is interesting if the following condition holds:\n",
    "\n",
    "Let cnt be the number of indices i in the range [l, r] such that nums[i] % modulo == k. Then, cnt % modulo == k.\n",
    "Return an integer denoting the count of interesting subarrays.\n",
    "\n",
    "Note: A subarray is a contiguous non-empty sequence of elements within an array."
   ]
  },
  {
   "cell_type": "code",
   "execution_count": null,
   "id": "c6969543",
   "metadata": {},
   "outputs": [],
   "source": []
  }
 ],
 "metadata": {
  "language_info": {
   "name": "python"
  }
 },
 "nbformat": 4,
 "nbformat_minor": 5
}
