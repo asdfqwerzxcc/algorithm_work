{
 "cells": [
  {
   "cell_type": "markdown",
   "id": "01d48526",
   "metadata": {},
   "source": [
    "# Count of Interesting Subarrays\n",
    "\n",
    "You are given a 0-indexed integer array nums, an integer modulo, and an integer k.\n",
    "\n",
    "Your task is to find the count of subarrays that are interesting.\n",
    "\n",
    "A subarray nums[l..r] is interesting if the following condition holds:\n",
    "\n",
    "Let cnt be the number of indices i in the range [l, r] such that nums[i] % modulo == k. Then, cnt % modulo == k.\n",
    "Return an integer denoting the count of interesting subarrays.\n",
    "\n",
    "Note: A subarray is a contiguous non-empty sequence of elements within an array."
   ]
  },
  {
   "cell_type": "code",
   "execution_count": null,
   "id": "c6969543",
   "metadata": {},
   "outputs": [],
   "source": [
    "class Solution:\n",
    "    def countInterestingSubarrays(self, nums: List[int], modulo: int, k: int) -> int:\n",
    "        # prefix_count[r] := 지금까지 cnt_mod 값이 r인 prefix 개수\n",
    "        prefix_count = {0: 1}\n",
    "        cnt_mod = 0\n",
    "        ans = 0\n",
    "        target_delta = (k % modulo)  # 항상 0 <= target_delta < modulo\n",
    "\n",
    "        for x in nums:\n",
    "            # 조건에 맞으면 cnt_mod 증가\n",
    "            if x % modulo == k:\n",
    "                cnt_mod = (cnt_mod + 1) % modulo\n",
    "            # 이전 prefix 중에 cnt_mod_prev == (cnt_mod - k) mod modulo 를 골라야\n",
    "            want = (cnt_mod - target_delta) % modulo\n",
    "            ans += prefix_count.get(want, 0)\n",
    "            # 현재 cnt_mod 상태를 prefix_count에 추가\n",
    "            prefix_count[cnt_mod] = prefix_count.get(cnt_mod, 0) + 1\n",
    "\n",
    "        return ans"
   ]
  }
 ],
 "metadata": {
  "language_info": {
   "name": "python"
  }
 },
 "nbformat": 4,
 "nbformat_minor": 5
}
