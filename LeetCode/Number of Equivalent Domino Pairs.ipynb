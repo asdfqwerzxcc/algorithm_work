{
 "cells": [
  {
   "cell_type": "markdown",
   "id": "d75bf236",
   "metadata": {},
   "source": [
    "# Number of Equivalent Domino Pairs\n",
    "\n",
    "Given a list of dominoes, dominoes[i] = [a, b] is equivalent to dominoes[j] = [c, d] if and only if either (a == c and b == d), or (a == d and b == c) - that is, one domino can be rotated to be equal to another domino.\n",
    "\n",
    "Return the number of pairs (i, j) for which 0 <= i < j < dominoes.length, and dominoes[i] is equivalent to dominoes[j]."
   ]
  },
  {
   "cell_type": "code",
   "execution_count": null,
   "id": "ef59002b",
   "metadata": {},
   "outputs": [],
   "source": [
    "class Solution:\n",
    "    def numEquivDominoPairs(self, dominoes: List[List[int]]) -> int:\n",
    "        num = [0] * 100\n",
    "        ret = 0\n",
    "        for x, y in dominoes:\n",
    "            val = x * 10 + y if x <= y else y * 10 + x\n",
    "            ret += num[val]\n",
    "            num[val] += 1\n",
    "        return ret"
   ]
  }
 ],
 "metadata": {
  "language_info": {
   "name": "python"
  }
 },
 "nbformat": 4,
 "nbformat_minor": 5
}
