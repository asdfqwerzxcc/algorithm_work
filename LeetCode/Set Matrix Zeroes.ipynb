{
 "cells": [
  {
   "cell_type": "markdown",
   "id": "644dd618",
   "metadata": {},
   "source": [
    "# Set Matrix Zeroes\n",
    "\n",
    "Given an m x n integer matrix matrix, if an element is 0, set its entire row and column to 0's.\n",
    "\n",
    "You must do it in place."
   ]
  },
  {
   "cell_type": "code",
   "execution_count": null,
   "id": "5b007f00",
   "metadata": {
    "vscode": {
     "languageId": "plaintext"
    }
   },
   "outputs": [],
   "source": [
    "class Solution(object):\n",
    "    def setZeroes(self, matrix):\n",
    "        zeroinFirstCol = False\n",
    "        for row in range(len(matrix)):\n",
    "            if matrix[row][0] == 0:\n",
    "                zeroinFirstCol = True\n",
    "            for col in range(1, len(matrix[0])):\n",
    "                if matrix[row][col] == 0:\n",
    "                    matrix[row][0] = 0\n",
    "                    matrix[0][col] = 0\n",
    "\n",
    "        for row in range(len(matrix) - 1, -1, -1):\n",
    "            for col in range(len(matrix[0]) - 1, 0, -1):\n",
    "                if matrix[row][0] == 0 or matrix[0][col] == 0:\n",
    "                    matrix[row][col] = 0\n",
    "            if zeroinFirstCol:\n",
    "                matrix[row][0] = 0"
   ]
  }
 ],
 "metadata": {
  "language_info": {
   "name": "python"
  }
 },
 "nbformat": 4,
 "nbformat_minor": 5
}
