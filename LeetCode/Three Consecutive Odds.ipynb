{
 "cells": [
  {
   "cell_type": "markdown",
   "id": "b366d00f",
   "metadata": {},
   "source": [
    "# Three Consecutive Odds\n",
    "\n",
    "Given an integer array arr, return true if there are three consecutive odd numbers in the array. Otherwise, return false.\n"
   ]
  },
  {
   "cell_type": "code",
   "execution_count": null,
   "id": "91b4bc50",
   "metadata": {
    "vscode": {
     "languageId": "plaintext"
    }
   },
   "outputs": [],
   "source": [
    "class Solution:\n",
    "    def threeConsecutiveOdds(self, arr: List[int]) -> bool:\n",
    "        consecutive_odds = 0\n",
    "\n",
    "        for num in arr:\n",
    "            if num % 2 == 1:\n",
    "                consecutive_odds += 1\n",
    "            else:\n",
    "                consecutive_odds = 0\n",
    "\n",
    "            if consecutive_odds == 3:\n",
    "                return True\n",
    "\n",
    "        return False"
   ]
  }
 ],
 "metadata": {
  "language_info": {
   "name": "python"
  }
 },
 "nbformat": 4,
 "nbformat_minor": 5
}
