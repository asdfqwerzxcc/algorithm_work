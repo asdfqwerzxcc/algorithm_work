{
 "cells": [
  {
   "cell_type": "markdown",
   "id": "82d91a35",
   "metadata": {},
   "source": [
    "# Sum of All Subset XOR Totals\n",
    "\n",
    "The XOR total of an array is defined as the bitwise XOR of all its elements, or 0 if the array is empty.\n",
    "\n",
    "For example, the XOR total of the array [2,5,6] is 2 XOR 5 XOR 6 = 1.\n",
    "Given an array nums, return the sum of all XOR totals for every subset of nums. \n",
    "\n",
    "Note: Subsets with the same elements should be counted multiple times.\n",
    "\n",
    "An array a is a subset of an array b if a can be obtained from b by deleting some (possibly zero) elements of b.\n",
    "\n",
    " "
   ]
  },
  {
   "cell_type": "code",
   "execution_count": null,
   "id": "4803d2e7",
   "metadata": {},
   "outputs": [],
   "source": [
    "class Solution:\n",
    "    def subsetXORSum(self, nums: List[int]) -> int:\n",
    "        # 배열이 비어있다면, 부분집합은 빈 배열만 있으므로 결과는 0입니다.\n",
    "        if not nums:\n",
    "            return 0\n",
    "        \n",
    "        # 배열의 모든 원소에 대해 비트 OR 연산을 수행합니다.\n",
    "        or_val = 0\n",
    "        for num in nums:\n",
    "            or_val |= num\n",
    "        \n",
    "        # 부분집합의 개수는 2^n이고, 각 원소는 2^(n-1)번 기여하므로 결과는 아래와 같이 계산됩니다.\n",
    "        return or_val * (1 << (len(nums) - 1))"
   ]
  }
 ],
 "metadata": {
  "language_info": {
   "name": "python"
  }
 },
 "nbformat": 4,
 "nbformat_minor": 5
}
