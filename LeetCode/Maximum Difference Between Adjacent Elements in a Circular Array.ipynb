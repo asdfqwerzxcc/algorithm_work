{
 "cells": [
  {
   "cell_type": "markdown",
   "id": "3a6dc168",
   "metadata": {},
   "source": [
    "# Maximum Difference Between Adjacent Elements in a Circular Array\n",
    "\n",
    "Given a circular array nums, find the maximum absolute difference between adjacent elements.\n",
    "\n",
    "Note: In a circular array, the first and last elements are adjacent."
   ]
  },
  {
   "cell_type": "code",
   "execution_count": null,
   "id": "e6e91d31",
   "metadata": {},
   "outputs": [],
   "source": [
    "class Solution:\n",
    "    def maxAdjacentDistance(self, nums: List[int]) -> int:\n",
    "        n = len(nums)\n",
    "        res = abs(nums[0] - nums[n - 1])\n",
    "        for i in range(n - 1):\n",
    "            res = max(res, abs(nums[i] - nums[i + 1]))\n",
    "        return res"
   ]
  }
 ],
 "metadata": {
  "language_info": {
   "name": "python"
  }
 },
 "nbformat": 4,
 "nbformat_minor": 5
}
