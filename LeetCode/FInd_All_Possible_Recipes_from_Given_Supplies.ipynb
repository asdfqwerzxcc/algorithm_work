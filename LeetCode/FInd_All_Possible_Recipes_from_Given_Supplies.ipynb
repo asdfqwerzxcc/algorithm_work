{
 "cells": [
  {
   "cell_type": "markdown",
   "metadata": {},
   "source": [
    "# Find All Possible Recipes from Given Supplies\n",
    "\n",
    "You have information about n different recipes. You are given a string array recipes and a 2D string array ingredients. The ith recipe has the name recipes[i], and you can create it if you have all the needed ingredients from ingredients[i]. A recipe can also be an ingredient for other recipes, i.e., ingredients[i] may contain a string that is in recipes.\n",
    "\n",
    "You are also given a string array supplies containing all the ingredients that you initially have, and you have an infinite supply of all of them.\n",
    "\n",
    "Return a list of all the recipes that you can create. You may return the answer in any order.\n",
    "\n",
    "Note that two recipes may contain each other in their ingredients."
   ]
  },
  {
   "cell_type": "code",
   "execution_count": null,
   "metadata": {},
   "outputs": [],
   "source": [
    "class Solution:\n",
    "    def findAllRecipes(self, recipes: List[str], ingredients: List[List[str]], supplies: List[str]) -> List[str]:\n",
    "        # 진입 차수 (in-degree) 및 그래프 설정\n",
    "        in_degree = {recipe: 0 for recipe in recipes}  # 각 레시피별 필요한 재료 개수\n",
    "        graph = defaultdict(list)  # 재료 -> 만들 수 있는 레시피\n",
    "\n",
    "        # 그래프 구성\n",
    "        for recipe, ingredient_list in zip(recipes, ingredients):\n",
    "            in_degree[recipe] = len(ingredient_list)  # 필요한 재료 개수\n",
    "            for ing in ingredient_list:\n",
    "                graph[ing].append(recipe)  # 해당 재료를 사용하여 만들 수 있는 레시피 추가\n",
    "\n",
    "        # 큐 초기화 (처음부터 가지고 있는 재료)\n",
    "        queue = deque(supplies)\n",
    "        result = []\n",
    "\n",
    "        while queue:\n",
    "            ingredient = queue.popleft()\n",
    "\n",
    "            # 해당 재료를 이용해서 만들 수 있는 레시피 확인\n",
    "            for recipe in graph[ingredient]:\n",
    "                in_degree[recipe] -= 1  # 필요한 재료 하나를 충족했으므로 감소\n",
    "                if in_degree[recipe] == 0:  # 모든 재료가 준비됨 -> 만들 수 있음\n",
    "                    queue.append(recipe)\n",
    "                    result.append(recipe)\n",
    "\n",
    "        return result"
   ]
  }
 ],
 "metadata": {
  "language_info": {
   "name": "python"
  }
 },
 "nbformat": 4,
 "nbformat_minor": 2
}
