{
 "cells": [
  {
   "cell_type": "markdown",
   "id": "64cd2ba7",
   "metadata": {},
   "source": [
    "# Maximum Manhattan Distance After K Changes\n",
    "\n",
    "You are given a string s consisting of the characters 'N', 'S', 'E', and 'W', where s[i] indicates movements in an infinite grid:\n",
    "\n",
    "'N' : Move north by 1 unit.\n",
    "'S' : Move south by 1 unit.\n",
    "'E' : Move east by 1 unit.\n",
    "'W' : Move west by 1 unit.\n",
    "Initially, you are at the origin (0, 0). You can change at most k characters to any of the four directions.\n",
    "\n",
    "Find the maximum Manhattan distance from the origin that can be achieved at any time while performing the movements in order.\n",
    "\n",
    "The Manhattan Distance between two cells (xi, yi) and (xj, yj) is |xi - xj| + |yi - yj|."
   ]
  },
  {
   "cell_type": "code",
   "execution_count": null,
   "id": "181352b0",
   "metadata": {},
   "outputs": [],
   "source": [
    "class Solution:\n",
    "    def maxDistance(self, s: str, k: int) -> int:\n",
    "        ans = 0\n",
    "        north = south = east = west = 0\n",
    "        for it in s:\n",
    "            if it == \"N\":\n",
    "                north += 1\n",
    "            elif it == \"S\":\n",
    "                south += 1\n",
    "            elif it == \"E\":\n",
    "                east += 1\n",
    "            elif it == \"W\":\n",
    "                west += 1\n",
    "            times1 = min(north, south, k)\n",
    "            times2 = min(\n",
    "                east, west, k - times1\n",
    "            )\n",
    "            ans = max(\n",
    "                ans,\n",
    "                self.count(north, south, times1)\n",
    "                + self.count(east, west, times2),\n",
    "            )\n",
    "        return ans\n",
    "\n",
    "    def count(self, drt1: int, drt2: int, times: int) -> int:\n",
    "        return (\n",
    "            abs(drt1 - drt2) + times * 2\n",
    "        ) "
   ]
  }
 ],
 "metadata": {
  "language_info": {
   "name": "python"
  }
 },
 "nbformat": 4,
 "nbformat_minor": 5
}
