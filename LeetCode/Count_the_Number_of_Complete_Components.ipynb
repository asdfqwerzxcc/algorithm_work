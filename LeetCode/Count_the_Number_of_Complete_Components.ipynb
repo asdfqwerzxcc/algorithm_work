{
 "cells": [
  {
   "cell_type": "markdown",
   "metadata": {},
   "source": [
    "# Count the Number of Complete Components\n",
    "\n",
    "You are given an integer n. There is an undirected graph with n vertices, numbered from 0 to n - 1. You are given a 2D integer array edges where edges[i] = [ai, bi] denotes that there exists an undirected edge connecting vertices ai and bi.\n",
    "\n",
    "Return the number of complete connected components of the graph.\n",
    "\n",
    "A connected component is a subgraph of a graph in which there exists a path between any two vertices, and no vertex of the subgraph shares an edge with a vertex outside of the subgraph.\n",
    "\n",
    "A connected component is said to be complete if there exists an edge between every pair of its vertices."
   ]
  },
  {
   "cell_type": "code",
   "execution_count": null,
   "metadata": {},
   "outputs": [],
   "source": [
    "class Solution:\n",
    "    def countCompleteComponents(self, n: int, edges: List[List[int]]) -> int:\n",
    "        # 1. 그래프 만들기 (인접 리스트)\n",
    "        graph = defaultdict(set)\n",
    "        for u, v in edges:\n",
    "            graph[u].add(v)\n",
    "            graph[v].add(u)\n",
    "\n",
    "        visited = set()\n",
    "        complete_count = 0\n",
    "        \n",
    "        # 2. BFS 또는 DFS로 연결 요소 찾기\n",
    "        def bfs(start):\n",
    "            queue = deque([start])\n",
    "            component = set([start])\n",
    "            visited.add(start)\n",
    "\n",
    "            while queue:\n",
    "                node = queue.popleft()\n",
    "                for neighbor in graph[node]:\n",
    "                    if neighbor not in visited:\n",
    "                        visited.add(neighbor)\n",
    "                        queue.append(neighbor)\n",
    "                        component.add(neighbor)\n",
    "\n",
    "            return component\n",
    "        \n",
    "        for node in range(n):\n",
    "            if node not in visited:\n",
    "                component = bfs(node)\n",
    "                k = len(component)\n",
    "                \n",
    "                # 3. 완전 그래프인지 확인\n",
    "                is_complete = all(len(graph[v]) == (k - 1) for v in component)\n",
    "                if is_complete:\n",
    "                    complete_count += 1\n",
    "\n",
    "        return complete_count"
   ]
  }
 ],
 "metadata": {
  "language_info": {
   "name": "python"
  }
 },
 "nbformat": 4,
 "nbformat_minor": 2
}
