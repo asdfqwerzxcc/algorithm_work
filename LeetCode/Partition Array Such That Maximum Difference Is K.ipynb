{
 "cells": [
  {
   "cell_type": "markdown",
   "id": "84238f4f",
   "metadata": {},
   "source": [
    "# Partition Array Such That Maximum Difference Is K\n",
    "\n",
    "You are given an integer array nums and an integer k. You may partition nums into one or more subsequences such that each element in nums appears in exactly one of the subsequences.\n",
    "\n",
    "Return the minimum number of subsequences needed such that the difference between the maximum and minimum values in each subsequence is at most k.\n",
    "\n",
    "A subsequence is a sequence that can be derived from another sequence by deleting some or no elements without changing the order of the remaining elements."
   ]
  },
  {
   "cell_type": "code",
   "execution_count": null,
   "id": "02f8dc91",
   "metadata": {
    "vscode": {
     "languageId": "plaintext"
    }
   },
   "outputs": [],
   "source": [
    "class Solution:\n",
    "    def partitionArray(self, nums: List[int], k: int) -> int:\n",
    "        nums.sort()\n",
    "        ans = 1\n",
    "        rec = nums[0]\n",
    "        for num in nums:\n",
    "            if num - rec > k:\n",
    "                ans += 1\n",
    "                rec = num\n",
    "        return ans"
   ]
  }
 ],
 "metadata": {
  "language_info": {
   "name": "python"
  }
 },
 "nbformat": 4,
 "nbformat_minor": 5
}
