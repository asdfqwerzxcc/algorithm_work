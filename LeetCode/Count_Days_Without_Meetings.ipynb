{
 "cells": [
  {
   "cell_type": "markdown",
   "metadata": {},
   "source": [
    "# Count Days Without Meetings\n",
    "\n",
    "You are given a positive integer days representing the total number of days an employee is available for work (starting from day 1). You are also given a 2D array meetings of size n where, meetings[i] = [start_i, end_i] represents the starting and ending days of meeting i (inclusive).\n",
    "\n",
    "Return the count of days when the employee is available for work but no meetings are scheduled.\n",
    "\n",
    "Note: The meetings may overlap."
   ]
  },
  {
   "cell_type": "code",
   "execution_count": null,
   "metadata": {},
   "outputs": [],
   "source": [
    "class Solution:\n",
    "    def countDays(self, days: int, meetings: List[List[int]]) -> int:\n",
    "        # 1. 회의 구간 정렬 (시작일 기준)\n",
    "        meetings.sort(key=lambda x: x[0])\n",
    "        \n",
    "        merged = []\n",
    "        for meeting in meetings:\n",
    "            if not merged or meeting[0] > merged[-1][1]:\n",
    "                merged.append(meeting)\n",
    "            else:\n",
    "                # 겹치는 경우, 종료일을 업데이트\n",
    "                merged[-1][1] = max(merged[-1][1], meeting[1])\n",
    "        \n",
    "        # 2. 회의로 인해 차지되는 일수 계산\n",
    "        meeting_days = 0\n",
    "        for start, end in merged:\n",
    "            # 업무 가능한 범위 내에서만 계산\n",
    "            effective_start = max(start, 1)\n",
    "            effective_end = min(end, days)\n",
    "            if effective_start <= effective_end:\n",
    "                meeting_days += (effective_end - effective_start + 1)\n",
    "        \n",
    "        # 3. 회의 없는 일수 계산\n",
    "        return days - meeting_days"
   ]
  }
 ],
 "metadata": {
  "language_info": {
   "name": "python"
  }
 },
 "nbformat": 4,
 "nbformat_minor": 2
}
