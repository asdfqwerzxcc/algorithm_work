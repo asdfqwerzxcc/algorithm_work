{
 "cells": [
  {
   "cell_type": "markdown",
   "id": "c7a67762",
   "metadata": {},
   "source": [
    "# Lexicographical Numbers\n",
    "\n",
    "Given an integer n, return all the numbers in the range [1, n] sorted in lexicographical order.\n",
    "\n",
    "You must write an algorithm that runs in O(n) time and uses O(1) extra space. "
   ]
  },
  {
   "cell_type": "code",
   "execution_count": null,
   "id": "60fd9564",
   "metadata": {},
   "outputs": [],
   "source": [
    "class Solution:\n",
    "    def lexicalOrder(self, n: int) -> List[int]:\n",
    "        lexicographical_numbers = []\n",
    "\n",
    "        for start in range(1, 10):\n",
    "            self._generate_lexical_numbers(start, n, lexicographical_numbers)\n",
    "        return lexicographical_numbers\n",
    "\n",
    "    def _generate_lexical_numbers(\n",
    "        self, current_number: int, limit: int, result: List[int]\n",
    "    ):\n",
    "        if current_number > limit:\n",
    "            return\n",
    "        result.append(current_number)\n",
    "\n",
    "        for next_digit in range(10):\n",
    "            next_number = current_number * 10 + next_digit\n",
    "            if next_number <= limit:\n",
    "                self._generate_lexical_numbers(next_number, limit, result)\n",
    "            else:\n",
    "                break"
   ]
  }
 ],
 "metadata": {
  "language_info": {
   "name": "python"
  }
 },
 "nbformat": 4,
 "nbformat_minor": 5
}
