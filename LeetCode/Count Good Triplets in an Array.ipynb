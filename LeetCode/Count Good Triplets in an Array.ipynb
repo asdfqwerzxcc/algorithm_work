{
 "cells": [
  {
   "cell_type": "markdown",
   "id": "62685276",
   "metadata": {},
   "source": [
    "# Count Good Triplets in an Array\n",
    "\n",
    "You are given two 0-indexed arrays nums1 and nums2 of length n, both of which are permutations of [0, 1, ..., n - 1].\n",
    "\n",
    "A good triplet is a set of 3 distinct values which are present in increasing order by position both in nums1 and nums2. In other words, if we consider pos1v as the index of the value v in nums1 and pos2v as the index of the value v in nums2, then a good triplet will be a set (x, y, z) where 0 <= x, y, z <= n - 1, such that pos1x < pos1y < pos1z and pos2x < pos2y < pos2z.\n",
    "\n",
    "Return the total number of good triplets."
   ]
  },
  {
   "cell_type": "code",
   "execution_count": null,
   "id": "0badecc1",
   "metadata": {},
   "outputs": [],
   "source": [
    "class Solution:\n",
    "    def goodTriplets(self, nums1: List[int], nums2: List[int]) -> int:\n",
    "        n = len(nums1)\n",
    "        pos_in_nums2 = {v: i for i, v in enumerate(nums2)}\n",
    "\n",
    "        # nums1의 값을 nums2에서의 인덱스로 매핑한 배열을 만든다\n",
    "        mapped = [pos_in_nums2[v] for v in nums1]\n",
    "\n",
    "        left_tree = FenwickTree(n)\n",
    "        right_tree = FenwickTree(n)\n",
    "\n",
    "        for val in mapped:\n",
    "            right_tree.update(val, 1)\n",
    "\n",
    "        result = 0\n",
    "\n",
    "        for val in mapped:\n",
    "            right_tree.update(val, -1)\n",
    "            left_count = left_tree.query(val - 1)\n",
    "            right_count = right_tree.query(n - 1) - right_tree.query(val)\n",
    "            result += left_count * right_count\n",
    "            left_tree.update(val, 1)\n",
    "\n",
    "        return result\n",
    "\n",
    "\n",
    "\n",
    "class FenwickTree:\n",
    "    def __init__(self, size):\n",
    "        self.tree = [0] * (size + 1)\n",
    "\n",
    "    def update(self, index, value):\n",
    "        index += 1  # 1-based index\n",
    "        while index < len(self.tree):\n",
    "            self.tree[index] += value\n",
    "            index += index & -index\n",
    "\n",
    "    def query(self, index):\n",
    "        index += 1\n",
    "        res = 0\n",
    "        while index > 0:\n",
    "            res += self.tree[index]\n",
    "            index -= index & -index\n",
    "        return res"
   ]
  }
 ],
 "metadata": {
  "language_info": {
   "name": "python"
  }
 },
 "nbformat": 4,
 "nbformat_minor": 5
}
