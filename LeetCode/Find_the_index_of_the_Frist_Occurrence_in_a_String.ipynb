{
 "cells": [
  {
   "cell_type": "markdown",
   "metadata": {},
   "source": [
    "# Find the Index of the First Occurence in a String\n",
    "\n",
    "Given two strings needle and haystack, return the index of the first occeurence of needle in haystack,or -1 if needle is not part of haystack"
   ]
  },
  {
   "cell_type": "code",
   "execution_count": null,
   "metadata": {},
   "outputs": [],
   "source": [
    "class Solution:\n",
    "    def strStr(self, haystack: str, needle: str) -> int:\n",
    "        if needle == \"\":\n",
    "            return 0\n",
    "    \n",
    "        for i in range(len(haystack) - len(needle) + 1):\n",
    "            if haystack[i:i+len(needle)] == needle:\n",
    "                return i  \n",
    "    \n",
    "        return -1"
   ]
  }
 ],
 "metadata": {
  "language_info": {
   "name": "python"
  }
 },
 "nbformat": 4,
 "nbformat_minor": 2
}
