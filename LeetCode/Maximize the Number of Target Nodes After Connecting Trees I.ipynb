{
 "cells": [
  {
   "cell_type": "markdown",
   "id": "33027b3b",
   "metadata": {},
   "source": []
  },
  {
   "cell_type": "markdown",
   "id": "80304463",
   "metadata": {},
   "source": [
    "# Maximize the Number of Target Nodes After Connecting Trees I\n",
    "\n",
    "There exist two undirected trees with n and m nodes, with distinct labels in ranges [0, n - 1] and [0, m - 1], respectively.\n",
    "\n",
    "You are given two 2D integer arrays edges1 and edges2 of lengths n - 1 and m - 1, respectively, where edges1[i] = [ai, bi] indicates that there is an edge between nodes ai and bi in the first tree and edges2[i] = [ui, vi] indicates that there is an edge between nodes ui and vi in the second tree. You are also given an integer k.\n",
    "\n",
    "Node u is target to node v if the number of edges on the path from u to v is less than or equal to k. Note that a node is always target to itself.\n",
    "\n",
    "Return an array of n integers answer, where answer[i] is the maximum possible number of nodes target to node i of the first tree if you have to connect one node from the first tree to another node in the second tree.\n",
    "\n",
    "Note that queries are independent from each other. That is, for every query you will remove the added edge before proceeding to the next query."
   ]
  },
  {
   "cell_type": "code",
   "execution_count": null,
   "id": "748e41f0",
   "metadata": {
    "vscode": {
     "languageId": "plaintext"
    }
   },
   "outputs": [],
   "source": [
    "class Solution:\n",
    "    def maxTargetNodes(\n",
    "        self, edges1: List[List[int]], edges2: List[List[int]], k: int\n",
    "    ) -> List[int]:\n",
    "        def dfs(\n",
    "            node: int, parent: int, children: List[List[int]], k: int\n",
    "        ) -> int:\n",
    "            if k < 0:\n",
    "                return 0\n",
    "            res = 1\n",
    "            for child in children[node]:\n",
    "                if child == parent:\n",
    "                    continue\n",
    "                res += dfs(child, node, children, k - 1)\n",
    "            return res\n",
    "\n",
    "        def build(edges: List[List[int]], k: int) -> List[int]:\n",
    "            n = len(edges) + 1\n",
    "            children = [[] for _ in range(n)]\n",
    "            for u, v in edges:\n",
    "                children[u].append(v)\n",
    "                children[v].append(u)\n",
    "            res = [0] * n\n",
    "            for i in range(n):\n",
    "                res[i] = dfs(i, -1, children, k)\n",
    "            return res\n",
    "\n",
    "        n = len(edges1) + 1\n",
    "        count1 = build(edges1, k)\n",
    "        count2 = build(edges2, k - 1)\n",
    "        maxCount2 = max(count2)\n",
    "        res = [count1[i] + maxCount2 for i in range(n)]\n",
    "        return res"
   ]
  }
 ],
 "metadata": {
  "language_info": {
   "name": "python"
  }
 },
 "nbformat": 4,
 "nbformat_minor": 5
}
