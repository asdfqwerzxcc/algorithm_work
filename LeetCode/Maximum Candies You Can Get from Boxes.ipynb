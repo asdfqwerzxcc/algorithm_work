{
 "cells": [
  {
   "cell_type": "markdown",
   "id": "4dac4a81",
   "metadata": {},
   "source": [
    "# Maximum Candies You Can Get from Boxes\n",
    "You have n boxes labeled from 0 to n - 1. You are given four arrays: status, candies, keys, and containedBoxes where:\n",
    "\n",
    "status[i] is 1 if the ith box is open and 0 if the ith box is closed,\n",
    "candies[i] is the number of candies in the ith box,\n",
    "keys[i] is a list of the labels of the boxes you can open after opening the ith box.\n",
    "containedBoxes[i] is a list of the boxes you found inside the ith box.\n",
    "You are given an integer array initialBoxes that contains the labels of the boxes you initially have. You can take all the candies in any open box and you can use the keys in it to open new boxes and you also can use the boxes you find in it.\n",
    "\n",
    "Return the maximum number of candies you can get following the rules above."
   ]
  },
  {
   "cell_type": "code",
   "execution_count": null,
   "id": "3e8d12b2",
   "metadata": {},
   "outputs": [],
   "source": [
    "class Solution:\n",
    "    def maxCandies(\n",
    "        self,\n",
    "        status: List[int],\n",
    "        candies: List[int],\n",
    "        keys: List[List[int]],\n",
    "        containedBoxes: List[List[int]],\n",
    "        initialBoxes: List[int],\n",
    "    ) -> int:\n",
    "        n = len(status)\n",
    "        can_open = [status[i] == 1 for i in range(n)]\n",
    "        has_box, used = [False] * n, [False] * n\n",
    "\n",
    "        q = collections.deque()\n",
    "        ans = 0\n",
    "        for box in initialBoxes:\n",
    "            has_box[box] = True\n",
    "            if can_open[box]:\n",
    "                q.append(box)\n",
    "                used[box] = True\n",
    "                ans += candies[box]\n",
    "\n",
    "        while len(q) > 0:\n",
    "            big_box = q.popleft()\n",
    "            for key in keys[big_box]:\n",
    "                can_open[key] = True\n",
    "                if not used[key] and has_box[key]:\n",
    "                    q.append(key)\n",
    "                    used[key] = True\n",
    "                    ans += candies[key]\n",
    "            for box in containedBoxes[big_box]:\n",
    "                has_box[box] = True\n",
    "                if not used[box] and can_open[box]:\n",
    "                    q.append(box)\n",
    "                    used[box] = True\n",
    "                    ans += candies[box]\n",
    "\n",
    "        return ans"
   ]
  }
 ],
 "metadata": {
  "language_info": {
   "name": "python"
  }
 },
 "nbformat": 4,
 "nbformat_minor": 5
}
