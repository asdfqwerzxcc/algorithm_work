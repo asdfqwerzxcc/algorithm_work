{
 "cells": [
  {
   "cell_type": "markdown",
   "metadata": {},
   "source": [
    "# Minimum Operations to Make a Uni-Value Grid\n",
    "\n",
    "You are given a 2D integer grid of size m x n and an integer x. In one operation, you can add x to or subtract x from any element in the grid.\n",
    "\n",
    "A uni-value grid is a grid where all the elements of it are equal.\n",
    "\n",
    "Return the minimum number of operations to make the grid uni-value. If it is not possible, return -1."
   ]
  },
  {
   "cell_type": "code",
   "execution_count": null,
   "metadata": {},
   "outputs": [],
   "source": [
    "class Solution:\n",
    "    def minOperations(self, grid: List[List[int]], x: int) -> int:\n",
    "        # 1. 1D 배열로 변환\n",
    "        nums = [num for row in grid for num in row]\n",
    "        \n",
    "        # 2. 모든 원소를 x로 나눈 나머지가 동일한지 확인\n",
    "        remainder = nums[0] % x\n",
    "        if any(num % x != remainder for num in nums):\n",
    "            return -1\n",
    "        \n",
    "        # 3. 중앙값(median) 구하기\n",
    "        nums.sort()\n",
    "        median = nums[len(nums) // 2]\n",
    "        \n",
    "        # 4. 연산 횟수 계산\n",
    "        return sum(abs(num - median) // x for num in nums)"
   ]
  }
 ],
 "metadata": {
  "language_info": {
   "name": "python"
  }
 },
 "nbformat": 4,
 "nbformat_minor": 2
}
