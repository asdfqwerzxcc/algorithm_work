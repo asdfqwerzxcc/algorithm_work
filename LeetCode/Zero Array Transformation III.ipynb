{
 "cells": [
  {
   "cell_type": "markdown",
   "id": "6c7965e8",
   "metadata": {},
   "source": [
    "# Zero Array Transformation III\n",
    "\n",
    "You are given an integer array nums of length n and a 2D array queries where queries[i] = [li, ri].\n",
    "\n",
    "Each queries[i] represents the following action on nums:\n",
    "\n",
    "Decrement the value at each index in the range [li, ri] in nums by at most 1.\n",
    "The amount by which the value is decremented can be chosen independently for each index.\n",
    "A Zero Array is an array with all its elements equal to 0.\n",
    "\n",
    "Return the maximum number of elements that can be removed from queries, such that nums can still be converted to a zero array using the remaining queries. If it is not possible to convert nums to a zero array, return -1."
   ]
  },
  {
   "cell_type": "code",
   "execution_count": null,
   "id": "fd07e093",
   "metadata": {},
   "outputs": [],
   "source": [
    "class Solution:\n",
    "    def maxRemoval(self, nums: List[int], queries: List[List[int]]) -> int:\n",
    "        queries.sort(key=lambda x: x[0])\n",
    "        heap = []\n",
    "        deltaArray = [0] * (len(nums) + 1)\n",
    "        operations = 0\n",
    "        j = 0\n",
    "        for i, num in enumerate(nums):\n",
    "            operations += deltaArray[i]\n",
    "            while j < len(queries) and queries[j][0] == i:\n",
    "                heappush(heap, -queries[j][1])\n",
    "                j += 1\n",
    "            while operations < num and heap and -heap[0] >= i:\n",
    "                operations += 1\n",
    "                deltaArray[-heappop(heap) + 1] -= 1\n",
    "            if operations < num:\n",
    "                return -1\n",
    "        return len(heap)"
   ]
  }
 ],
 "metadata": {
  "language_info": {
   "name": "python"
  }
 },
 "nbformat": 4,
 "nbformat_minor": 5
}
