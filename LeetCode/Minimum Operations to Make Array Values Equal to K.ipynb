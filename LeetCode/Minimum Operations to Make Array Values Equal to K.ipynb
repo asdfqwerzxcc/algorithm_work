{
 "cells": [
  {
   "cell_type": "markdown",
   "id": "02f7ad1f",
   "metadata": {},
   "source": [
    "# Minimum Operations to Make Array Values Equal to K\n",
    "\n",
    "You are given an integer array nums and an integer k.\n",
    "\n",
    "An integer h is called valid if all values in the array that are strictly greater than h are identical.\n",
    "\n",
    "For example, if nums = [10, 8, 10, 8], a valid integer is h = 9 because all nums[i] > 9 are equal to 10, but 5 is not a valid integer.\n",
    "\n",
    "You are allowed to perform the following operation on nums:\n",
    "\n",
    "Select an integer h that is valid for the current values in nums.\n",
    "For each index i where nums[i] > h, set nums[i] to h.\n",
    "Return the minimum number of operations required to make every element in nums equal to k. If it is impossible to make all elements equal to k, return -1.\n",
    "\n",
    " "
   ]
  },
  {
   "cell_type": "code",
   "execution_count": null,
   "id": "2b42efdc",
   "metadata": {},
   "outputs": [],
   "source": [
    "class Solution:\n",
    "    def minOperations(self, nums: List[int], k: int) -> int:\n",
    "        # 배열에 k보다 작은 값이 있다면 연산으로 만들 수 없음\n",
    "        if min(nums) < k:\n",
    "            return -1\n",
    "            \n",
    "        # k보다 큰 원소들의 유니크 값 개수 = 최소 연산 횟수\n",
    "        return len({x for x in nums if x > k})"
   ]
  }
 ],
 "metadata": {
  "language_info": {
   "name": "python"
  }
 },
 "nbformat": 4,
 "nbformat_minor": 5
}
