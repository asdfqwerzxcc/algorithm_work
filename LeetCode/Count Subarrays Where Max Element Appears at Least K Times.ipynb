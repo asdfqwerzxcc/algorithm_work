{
 "cells": [
  {
   "cell_type": "markdown",
   "id": "a2bf7cbf",
   "metadata": {},
   "source": [
    "# Count Subarrays Where Max Element Appears at Least K Times\n",
    "\n",
    "You are given an integer array nums and a positive integer k.\n",
    "\n",
    "Return the number of subarrays where the maximum element of nums appears at least k times in that subarray.\n",
    "\n",
    "A subarray is a contiguous sequence of elements within an array."
   ]
  },
  {
   "cell_type": "code",
   "execution_count": null,
   "id": "0af492da",
   "metadata": {},
   "outputs": [],
   "source": [
    "class Solution:\n",
    "    def countSubarrays(self, nums: List[int], k: int) -> int:\n",
    "        max_element = max(nums)\n",
    "        ans = start = max_elements_in_window = 0\n",
    "\n",
    "        for end in range(len(nums)):\n",
    "            if nums[end] == max_element:\n",
    "                max_elements_in_window += 1\n",
    "            while max_elements_in_window == k:\n",
    "                if nums[start] == max_element:\n",
    "                    max_elements_in_window -= 1\n",
    "                start += 1\n",
    "            ans += start\n",
    "        return ans"
   ]
  }
 ],
 "metadata": {
  "language_info": {
   "name": "python"
  }
 },
 "nbformat": 4,
 "nbformat_minor": 5
}
