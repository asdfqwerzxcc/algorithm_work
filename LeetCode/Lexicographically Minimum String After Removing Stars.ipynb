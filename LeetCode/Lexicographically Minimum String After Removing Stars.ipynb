{
 "cells": [
  {
   "cell_type": "markdown",
   "id": "b08653f8",
   "metadata": {},
   "source": [
    "# Lexicographically Minimum String After Removing Stars\n",
    "\n",
    "You are given a string s. It may contain any number of '*' characters. Your task is to remove all '*' characters.\n",
    "\n",
    "While there is a '*', do the following operation:\n",
    "\n",
    "Delete the leftmost '*' and the smallest non-'*' character to its left. If there are several smallest characters, you can delete any of them.\n",
    "Return the lexicographically smallest resulting string after removing all '*' characters."
   ]
  },
  {
   "cell_type": "code",
   "execution_count": null,
   "id": "516463d4",
   "metadata": {},
   "outputs": [],
   "source": [
    "class Solution:\n",
    "    def clearStars(self, s: str) -> str:\n",
    "        cnt = [[] for _ in range(26)]\n",
    "        arr = list(s)\n",
    "        for i, c in enumerate(arr):\n",
    "            if c != \"*\":\n",
    "                cnt[ord(c) - ord(\"a\")].append(i)\n",
    "            else:\n",
    "                for j in range(26):\n",
    "                    if cnt[j]:\n",
    "                        arr[cnt[j].pop()] = \"*\"\n",
    "                        break\n",
    "        return \"\".join(c for c in arr if c != \"*\")"
   ]
  }
 ],
 "metadata": {
  "language_info": {
   "name": "python"
  }
 },
 "nbformat": 4,
 "nbformat_minor": 5
}
