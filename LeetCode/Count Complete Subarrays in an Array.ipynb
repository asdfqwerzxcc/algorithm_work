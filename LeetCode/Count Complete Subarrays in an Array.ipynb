{
 "cells": [
  {
   "cell_type": "markdown",
   "id": "252ea098",
   "metadata": {},
   "source": [
    "# Count Complete Subarrays in an Array\n",
    "\n",
    "You are given an array nums consisting of positive integers.\n",
    "\n",
    "We call a subarray of an array complete if the following condition is satisfied:\n",
    "\n",
    "The number of distinct elements in the subarray is equal to the number of distinct elements in the whole array.\n",
    "Return the number of complete subarrays.\n",
    "\n",
    "A subarray is a contiguous non-empty part of an array."
   ]
  },
  {
   "cell_type": "code",
   "execution_count": null,
   "id": "8e592ac1",
   "metadata": {},
   "outputs": [],
   "source": [
    "class Solution:\n",
    "    def countCompleteSubarrays(self, nums: List[int]) -> int:\n",
    "        n = len(nums)\n",
    "        # 전체 배열의 서로 다른 원소 개수\n",
    "        total_distinct = len(set(nums))\n",
    "        \n",
    "        freq = defaultdict(int)\n",
    "        distinct = 0      # 현재 윈도우 내 서로 다른 원소 개수\n",
    "        count = 0         # 정답\n",
    "        j = 0             # 윈도우 우끝 포인터 (항상 i 이상으로만 이동)\n",
    "        \n",
    "        for i in range(n):\n",
    "            # distinct < total_distinct 인 동안 우끝 포인터를 옮겨 최소 길이를 확보\n",
    "            while j < n and distinct < total_distinct:\n",
    "                if freq[nums[j]] == 0:\n",
    "                    distinct += 1\n",
    "                freq[nums[j]] += 1\n",
    "                j += 1\n",
    "            \n",
    "            # 현재 [i..j-1] 구간이 완전 부분배열이라면,\n",
    "            # j-1 이후로 끝나는 모든 부분배열도 완전하므로 (n − (j-1)) 개를 더함\n",
    "            if distinct == total_distinct:\n",
    "                count += (n - j + 1)\n",
    "            \n",
    "            # i 포인터를 한 칸 옮기며 윈도우에서 nums[i] 제거\n",
    "            freq[nums[i]] -= 1\n",
    "            if freq[nums[i]] == 0:\n",
    "                distinct -= 1\n",
    "        \n",
    "        return count"
   ]
  }
 ],
 "metadata": {
  "language_info": {
   "name": "python"
  }
 },
 "nbformat": 4,
 "nbformat_minor": 5
}
