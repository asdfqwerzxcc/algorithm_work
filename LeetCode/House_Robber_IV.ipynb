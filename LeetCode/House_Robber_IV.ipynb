{
 "cells": [
  {
   "cell_type": "markdown",
   "metadata": {},
   "source": [
    "# House Robber IV\n",
    "\n",
    "There are several consecutive houses along a street, each of which has some money inside. There is also a robber, who wants to steal money from the homes, but he refuses to steal from adjacent homes.\n",
    "\n",
    "The capability of the robber is the maximum amount of money he steals from one house of all the houses he robbed.\n",
    "\n",
    "You are given an integer array nums representing how much money is stashed in each house. More formally, the ith house from the left has nums[i] dollars.\n",
    "\n",
    "You are also given an integer k, representing the minimum number of houses the robber will steal from. It is always possible to steal at least k houses.\n",
    "\n",
    "Return the minimum capability of the robber out of all the possible ways to steal at least k houses."
   ]
  },
  {
   "cell_type": "code",
   "execution_count": null,
   "metadata": {},
   "outputs": [],
   "source": [
    "class Solution:\n",
    "    def minCapability(self, nums: List[int], k: int) -> int:\n",
    "        left, right = min(nums), max(nums)\n",
    "    \n",
    "        def canRob(capability):\n",
    "            count, i = 0, 0\n",
    "            while i < len(nums):\n",
    "                if nums[i] <= capability:\n",
    "                    count += 1\n",
    "                    i += 1\n",
    "                i += 1\n",
    "            return count >= k\n",
    "    \n",
    "        while left < right:\n",
    "            mid = (left + right) // 2\n",
    "            if canRob(mid):  \n",
    "                right = mid \n",
    "            else:\n",
    "                left = mid + 1\n",
    "    \n",
    "        return left"
   ]
  }
 ],
 "metadata": {
  "language_info": {
   "name": "python"
  }
 },
 "nbformat": 4,
 "nbformat_minor": 2
}
