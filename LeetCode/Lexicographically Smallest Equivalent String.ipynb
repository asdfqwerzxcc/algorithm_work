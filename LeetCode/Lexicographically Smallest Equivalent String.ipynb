{
 "cells": [
  {
   "cell_type": "markdown",
   "id": "b719e7cb",
   "metadata": {},
   "source": [
    "# Lexicographically Smallest Equivalent String\n",
    "\n",
    "You are given two strings of the same length s1 and s2 and a string baseStr.\n",
    "\n",
    "We say s1[i] and s2[i] are equivalent characters.\n",
    "\n",
    "For example, if s1 = \"abc\" and s2 = \"cde\", then we have 'a' == 'c', 'b' == 'd', and 'c' == 'e'.\n",
    "Equivalent characters follow the usual rules of any equivalence relation:\n",
    "\n",
    "Reflexivity: 'a' == 'a'.\n",
    "Symmetry: 'a' == 'b' implies 'b' == 'a'.\n",
    "Transitivity: 'a' == 'b' and 'b' == 'c' implies 'a' == 'c'.\n",
    "For example, given the equivalency information from s1 = \"abc\" and s2 = \"cde\", \"acd\" and \"aab\" are equivalent strings of baseStr = \"eed\", and \"aab\" is the lexicographically smallest equivalent string of baseStr.\n",
    "\n",
    "Return the lexicographically smallest equivalent string of baseStr by using the equivalency information from s1 and s2."
   ]
  },
  {
   "cell_type": "code",
   "execution_count": null,
   "id": "8a28a211",
   "metadata": {
    "vscode": {
     "languageId": "plaintext"
    }
   },
   "outputs": [],
   "source": [
    "class Solution:\n",
    "    def smallestEquivalentString(self, s1: str, s2: str, baseStr: str) -> str:\n",
    "        adj = defaultdict(list)\n",
    "\n",
    "        for a, b in zip(s1, s2):\n",
    "            adj[a].append(b)\n",
    "            adj[b].append(a)\n",
    "\n",
    "        def dfs(ch, visited):\n",
    "            visited.add(ch)\n",
    "            min_ch = ch\n",
    "            for nei in adj[ch]:\n",
    "                if nei not in visited:\n",
    "                    candidate = dfs(nei, visited)\n",
    "                    min_ch = min(min_ch, candidate)\n",
    "            return min_ch\n",
    "\n",
    "        result = []\n",
    "        for ch in baseStr:\n",
    "            visited = set()\n",
    "            result.append(dfs(ch, visited))\n",
    "        \n",
    "        return ''.join(result)"
   ]
  }
 ],
 "metadata": {
  "language_info": {
   "name": "python"
  }
 },
 "nbformat": 4,
 "nbformat_minor": 5
}
