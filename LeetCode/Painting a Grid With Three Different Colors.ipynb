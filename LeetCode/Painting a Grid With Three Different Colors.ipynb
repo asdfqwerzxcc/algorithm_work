{
 "cells": [
  {
   "cell_type": "markdown",
   "id": "c5da07e4",
   "metadata": {},
   "source": [
    "# Painting a Grid With Three Different Colors\n",
    "\n",
    "You are given two integers m and n. Consider an m x n grid where each cell is initially white. You can paint each cell red, green, or blue. All cells must be painted.\n",
    "\n",
    "Return the number of ways to color the grid with no two adjacent cells having the same color. Since the answer can be very large, return it modulo 109 + 7."
   ]
  },
  {
   "cell_type": "code",
   "execution_count": null,
   "id": "9f4e4f71",
   "metadata": {},
   "outputs": [],
   "source": [
    "class Solution:\n",
    "    def colorTheGrid(self, m: int, n: int) -> int:\n",
    "        mod = 10**9 + 7\n",
    "        valid = dict()\n",
    "\n",
    "        for mask in range(3**m):\n",
    "            color = list()\n",
    "            mm = mask\n",
    "            for i in range(m):\n",
    "                color.append(mm % 3)\n",
    "                mm //= 3\n",
    "            if any(color[i] == color[i + 1] for i in range(m - 1)):\n",
    "                continue\n",
    "            valid[mask] = color\n",
    "\n",
    "        adjacent = defaultdict(list)\n",
    "        for mask1, color1 in valid.items():\n",
    "            for mask2, color2 in valid.items():\n",
    "                if not any(x == y for x, y in zip(color1, color2)):\n",
    "                    adjacent[mask1].append(mask2)\n",
    "\n",
    "        f = [int(mask in valid) for mask in range(3**m)]\n",
    "        for i in range(1, n):\n",
    "            g = [0] * (3**m)\n",
    "            for mask2 in valid.keys():\n",
    "                for mask1 in adjacent[mask2]:\n",
    "                    g[mask2] += f[mask1]\n",
    "                    if g[mask2] >= mod:\n",
    "                        g[mask2] -= mod\n",
    "            f = g\n",
    "\n",
    "        return sum(f) % mod"
   ]
  }
 ],
 "metadata": {
  "language_info": {
   "name": "python"
  }
 },
 "nbformat": 4,
 "nbformat_minor": 5
}
