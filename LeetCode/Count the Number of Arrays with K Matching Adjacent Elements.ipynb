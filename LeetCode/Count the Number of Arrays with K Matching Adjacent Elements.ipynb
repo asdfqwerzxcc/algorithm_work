{
 "cells": [
  {
   "cell_type": "markdown",
   "id": "6db5edc2",
   "metadata": {},
   "source": [
    "# Count the Number of Arrays with K Matching Adjacent Elements\n",
    "\n",
    "You are given three integers n, m, k. A good array arr of size n is defined as follows:\n",
    "\n",
    "Each element in arr is in the inclusive range [1, m].\n",
    "Exactly k indices i (where 1 <= i < n) satisfy the condition arr[i - 1] == arr[i].\n",
    "Return the number of good arrays that can be formed.\n",
    "\n",
    "Since the answer may be very large, return it modulo 109 + 7."
   ]
  },
  {
   "cell_type": "code",
   "execution_count": null,
   "id": "e418d9d8",
   "metadata": {
    "vscode": {
     "languageId": "plaintext"
    }
   },
   "outputs": [],
   "source": [
    "MOD = 10**9 + 7\n",
    "MX = 10**5\n",
    "\n",
    "fact = [0] * MX\n",
    "inv_fact = [0] * MX\n",
    "\n",
    "\n",
    "def qpow(x, n):\n",
    "    res = 1\n",
    "    while n:\n",
    "        if n & 1:\n",
    "            res = res * x % MOD\n",
    "        x = x * x % MOD\n",
    "        n >>= 1\n",
    "    return res\n",
    "\n",
    "\n",
    "def init():\n",
    "    if fact[0] != 0:\n",
    "        return\n",
    "    fact[0] = 1\n",
    "    for i in range(1, MX):\n",
    "        fact[i] = fact[i - 1] * i % MOD\n",
    "    inv_fact[MX - 1] = qpow(fact[MX - 1], MOD - 2)\n",
    "    for i in range(MX - 1, 0, -1):\n",
    "        inv_fact[i - 1] = inv_fact[i] * i % MOD\n",
    "\n",
    "\n",
    "def comb(n, m):\n",
    "    return fact[n] * inv_fact[m] % MOD * inv_fact[n - m] % MOD\n",
    "\n",
    "\n",
    "class Solution:\n",
    "    def countGoodArrays(self, n: int, m: int, k: int) -> int:\n",
    "        init()\n",
    "        return comb(n - 1, k) * m % MOD * qpow(m - 1, n - k - 1) % MOD"
   ]
  }
 ],
 "metadata": {
  "language_info": {
   "name": "python"
  }
 },
 "nbformat": 4,
 "nbformat_minor": 5
}
