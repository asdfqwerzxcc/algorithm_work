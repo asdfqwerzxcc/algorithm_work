{
 "cells": [
  {
   "cell_type": "markdown",
   "id": "051874c0",
   "metadata": {},
   "source": [
    "# Type of Triangle\n",
    "\n",
    "You are given a 0-indexed integer array nums of size 3 which can form the sides of a triangle.\n",
    "\n",
    "A triangle is called equilateral if it has all sides of equal length.\n",
    "A triangle is called isosceles if it has exactly two sides of equal length.\n",
    "A triangle is called scalene if all its sides are of different lengths.\n",
    "Return a string representing the type of triangle that can be formed or \"none\" if it cannot form a triangle.\n"
   ]
  },
  {
   "cell_type": "code",
   "execution_count": null,
   "id": "3f48d058",
   "metadata": {},
   "outputs": [],
   "source": [
    "class Solution:\n",
    "    def triangleType(self, nums: List[int]) -> str:\n",
    "        nums.sort()\n",
    "        if nums[0] + nums[1] <= nums[2]:\n",
    "            return \"none\"\n",
    "        elif nums[0] == nums[2]:\n",
    "            return \"equilateral\"\n",
    "        elif nums[0] == nums[1] or nums[1] == nums[2]:\n",
    "            return \"isosceles\"\n",
    "        else:\n",
    "            return \"scalene\""
   ]
  }
 ],
 "metadata": {
  "language_info": {
   "name": "python"
  }
 },
 "nbformat": 4,
 "nbformat_minor": 5
}
