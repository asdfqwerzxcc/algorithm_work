{
 "cells": [
  {
   "cell_type": "markdown",
   "id": "7f79c8ed",
   "metadata": {},
   "source": [
    "# Count Good Numbers\n",
    "\n",
    "A digit string is good if the digits (0-indexed) at even indices are even and the digits at odd indices are prime (2, 3, 5, or 7).\n",
    "\n",
    "For example, \"2582\" is good because the digits (2 and 8) at even positions are even and the digits (5 and 2) at odd positions are prime. However, \"3245\" is not good because 3 is at an even index but is not even.\n",
    "Given an integer n, return the total number of good digit strings of length n. Since the answer may be large, return it modulo 109 + 7.\n",
    "\n",
    "A digit string is a string consisting of digits 0 through 9 that may contain leading zeros."
   ]
  },
  {
   "cell_type": "code",
   "execution_count": null,
   "id": "b521c953",
   "metadata": {},
   "outputs": [],
   "source": [
    "class Solution:\n",
    "    def countGoodNumbers(self, n: int) -> int:\n",
    "        MOD = 10**9 + 7  # 결과를 나눌 모듈러 값 (10^9 + 7)\n",
    "    \n",
    "        # 0-indexed 기준에서 짝수 인덱스(0, 2, 4, ...)는 (n+1)//2개가 있음\n",
    "        even_count = (n + 1) // 2  \n",
    "        # 홀수 인덱스(1, 3, 5, ...)는 n//2개가 있음\n",
    "        odd_count = n // 2         \n",
    "\n",
    "        # 짝수 인덱스 위치에는 0,2,4,6,8 중 하나를 선택 => 5가지 경우\n",
    "        # 홀수 인덱스 위치에는 2,3,5,7 중 하나를 선택 => 4가지 경우\n",
    "        # 따라서 전체 경우의 수는 5^(even_count) * 4^(odd_count)\n",
    "        # 이를 모듈러 연산으로 계산함\n",
    "        result = (pow(5, even_count, MOD) * pow(4, odd_count, MOD)) % MOD\n",
    "        return result"
   ]
  }
 ],
 "metadata": {
  "language_info": {
   "name": "python"
  }
 },
 "nbformat": 4,
 "nbformat_minor": 5
}
