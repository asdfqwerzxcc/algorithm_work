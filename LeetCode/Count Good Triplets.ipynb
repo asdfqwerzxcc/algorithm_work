{
 "cells": [
  {
   "cell_type": "markdown",
   "id": "bf58e568",
   "metadata": {},
   "source": [
    "# Count Good Triplets\n",
    "\n",
    "Given an array of integers arr, and three integers a, b and c. You need to find the number of good triplets.\n",
    "\n",
    "A triplet (arr[i], arr[j], arr[k]) is good if the following conditions are true:\n",
    "\n",
    "0 <= i < j < k < arr.length\n",
    "|arr[i] - arr[j]| <= a\n",
    "|arr[j] - arr[k]| <= b\n",
    "|arr[i] - arr[k]| <= c\n",
    "Where |x| denotes the absolute value of x.\n",
    "\n",
    "Return the number of good triplets."
   ]
  },
  {
   "cell_type": "code",
   "execution_count": null,
   "id": "c3fe5dd1",
   "metadata": {},
   "outputs": [],
   "source": [
    "class Solution:\n",
    "    def countGoodTriplets(self, arr: List[int], a: int, b: int, c: int) -> int:\n",
    "        count = 0\n",
    "        n = len(arr)\n",
    "        for i in range(n - 2):         # i는 0부터 n-3까지\n",
    "            for j in range(i + 1, n - 1):  # j는 i+1부터 n-2까지\n",
    "                if abs(arr[i] - arr[j]) > a:\n",
    "                    continue  # 첫 조건 불만족이면 바로 다음 j로\n",
    "                for k in range(j + 1, n):  # k는 j+1부터 n-1까지\n",
    "                    if abs(arr[j] - arr[k]) <= b and abs(arr[i] - arr[k]) <= c:\n",
    "                        count += 1\n",
    "        return count"
   ]
  }
 ],
 "metadata": {
  "language_info": {
   "name": "python"
  }
 },
 "nbformat": 4,
 "nbformat_minor": 5
}
