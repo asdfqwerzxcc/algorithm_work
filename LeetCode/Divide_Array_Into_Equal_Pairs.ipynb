{
 "cells": [
  {
   "cell_type": "markdown",
   "metadata": {},
   "source": [
    "# Divide Array Into Equal Pairs\n",
    "\n",
    "You are given an integer array nums consisting of 2 * n integers.\n",
    "\n",
    "You need to divide nums into n pairs such that:\n",
    "\n",
    "Each element belongs to exactly one pair.\n",
    "The elements present in a pair are equal.\n",
    "Return true if nums can be divided into n pairs, otherwise return false."
   ]
  },
  {
   "cell_type": "code",
   "execution_count": null,
   "metadata": {},
   "outputs": [],
   "source": [
    "class Solution:\n",
    "    def divideArray(self, nums: List[int]) -> bool:\n",
    "        count = Counter(nums)\n",
    "        for value in count.values():\n",
    "            if value % 2 != 0:\n",
    "                return False\n",
    "        return True"
   ]
  }
 ],
 "metadata": {
  "language_info": {
   "name": "python"
  }
 },
 "nbformat": 4,
 "nbformat_minor": 2
}
