{
 "cells": [
  {
   "cell_type": "markdown",
   "metadata": {},
   "source": [
    "# Number of Ways to Arrive at Destination\n",
    "\n",
    "\n",
    "You are in a city that consists of n intersections numbered from 0 to n - 1 with bi-directional roads between some intersections. The inputs are generated such that you can reach any intersection from any other intersection and that there is at most one road between any two intersections.\n",
    "\n",
    "You are given an integer n and a 2D integer array roads where roads[i] = [ui, vi, timei] means that there is a road between intersections ui and vi that takes timei minutes to travel. You want to know in how many ways you can travel from intersection 0 to intersection n - 1 in the shortest amount of time.\n",
    "\n",
    "Return the number of ways you can arrive at your destination in the shortest amount of time. Since the answer may be large, return it modulo 109 + 7."
   ]
  },
  {
   "cell_type": "code",
   "execution_count": null,
   "metadata": {},
   "outputs": [],
   "source": [
    "class Solution:\n",
    "    def countPaths(self, n: int, roads: List[List[int]]) -> int:\n",
    "        MOD = 10**9 + 7\n",
    "        graph = [[] for _ in range(n)]\n",
    "        \n",
    "        # 그래프 생성\n",
    "        for u, v, w in roads:\n",
    "            graph[u].append((v, w))\n",
    "            graph[v].append((u, w))\n",
    "        \n",
    "        # 다익스트라 알고리즘\n",
    "        pq = [(0, 0)]  # (최단 시간, 노드 번호)\n",
    "        dist = [float('inf')] * n\n",
    "        ways = [0] * n\n",
    "        \n",
    "        dist[0] = 0\n",
    "        ways[0] = 1\n",
    "        \n",
    "        while pq:\n",
    "            time, node = heapq.heappop(pq)\n",
    "            \n",
    "            if time > dist[node]:\n",
    "                continue\n",
    "            \n",
    "            for neighbor, cost in graph[node]:\n",
    "                newTime = time + cost\n",
    "                \n",
    "                if newTime < dist[neighbor]:\n",
    "                    dist[neighbor] = newTime\n",
    "                    ways[neighbor] = ways[node]  # 최단 경로 개수 갱신\n",
    "                    heapq.heappush(pq, (newTime, neighbor))\n",
    "                elif newTime == dist[neighbor]:\n",
    "                    ways[neighbor] = (ways[neighbor] + ways[node]) % MOD  # 최단 경로 개수 누적\n",
    "        \n",
    "        return ways[n - 1]"
   ]
  }
 ],
 "metadata": {
  "language_info": {
   "name": "python"
  }
 },
 "nbformat": 4,
 "nbformat_minor": 2
}
