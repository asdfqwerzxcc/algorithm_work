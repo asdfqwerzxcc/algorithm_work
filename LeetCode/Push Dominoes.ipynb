{
 "cells": [
  {
   "cell_type": "markdown",
   "id": "08842303",
   "metadata": {},
   "source": [
    "# Push Dominoes\n",
    "\n",
    "There are n dominoes in a line, and we place each domino vertically upright. In the beginning, we simultaneously push some of the dominoes either to the left or to the right.\n",
    "\n",
    "After each second, each domino that is falling to the left pushes the adjacent domino on the left. Similarly, the dominoes falling to the right push their adjacent dominoes standing on the right.\n",
    "\n",
    "When a vertical domino has dominoes falling on it from both sides, it stays still due to the balance of the forces.\n",
    "\n",
    "For the purposes of this question, we will consider that a falling domino expends no additional force to a falling or already fallen domino.\n",
    "\n",
    "You are given a string dominoes representing the initial state where:\n",
    "\n",
    "dominoes[i] = 'L', if the ith domino has been pushed to the left,\n",
    "dominoes[i] = 'R', if the ith domino has been pushed to the right, and\n",
    "dominoes[i] = '.', if the ith domino has not been pushed.\n",
    "Return a string representing the final state."
   ]
  },
  {
   "cell_type": "code",
   "execution_count": null,
   "id": "c88b2ca8",
   "metadata": {},
   "outputs": [],
   "source": [
    "class Solution:\n",
    "    def pushDominoes(self, dominoes: str) -> str:\n",
    "        N = len(dominoes)\n",
    "        force = [0] * N\n",
    "\n",
    "        # Populate forces going from left to right\n",
    "        f = 0\n",
    "        for i in range(N):\n",
    "            if dominoes[i] == 'R': f = N\n",
    "            elif dominoes[i] == 'L': f = 0\n",
    "            else: f = max(f-1, 0)\n",
    "            force[i] += f\n",
    "\n",
    "        # Populate forces going from right to left\n",
    "        f = 0\n",
    "        for i in range(N-1, -1, -1):\n",
    "            if dominoes[i] == 'L': f = N\n",
    "            elif dominoes[i] == 'R': f = 0\n",
    "            else: f = max(f-1, 0)\n",
    "            force[i] -= f\n",
    "\n",
    "        return \"\".join('.' if f==0 else 'R' if f > 0 else 'L'\n",
    "                       for f in force)"
   ]
  }
 ],
 "metadata": {
  "language_info": {
   "name": "python"
  }
 },
 "nbformat": 4,
 "nbformat_minor": 5
}
