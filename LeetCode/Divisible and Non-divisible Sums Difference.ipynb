{
 "cells": [
  {
   "cell_type": "markdown",
   "id": "3d47577e",
   "metadata": {},
   "source": [
    "# Divisible and Non-divisible Sums Difference\n",
    "\n",
    "You are given positive integers n and m.\n",
    "\n",
    "Define two integers as follows:\n",
    "\n",
    "num1: The sum of all integers in the range [1, n] (both inclusive) that are not divisible by m.\n",
    "num2: The sum of all integers in the range [1, n] (both inclusive) that are divisible by m.\n",
    "Return the integer num1 - num2.\n",
    "\n",
    " "
   ]
  },
  {
   "cell_type": "code",
   "execution_count": null,
   "id": "5c0a04bf",
   "metadata": {},
   "outputs": [],
   "source": [
    "class Solution:\n",
    "    def differenceOfSums(self, n: int, m: int) -> int:\n",
    "        return sum(x if x % m != 0 else -x for x in range(1, n + 1))"
   ]
  }
 ],
 "metadata": {
  "language_info": {
   "name": "python"
  }
 },
 "nbformat": 4,
 "nbformat_minor": 5
}
