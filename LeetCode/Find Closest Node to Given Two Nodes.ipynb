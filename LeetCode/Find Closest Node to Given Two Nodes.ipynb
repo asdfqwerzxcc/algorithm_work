{
 "cells": [
  {
   "cell_type": "markdown",
   "id": "0046c191",
   "metadata": {},
   "source": [
    "# Find Closest Node to Given Two Nodes\n",
    "\n",
    "You are given a directed graph of n nodes numbered from 0 to n - 1, where each node has at most one outgoing edge.\n",
    "\n",
    "The graph is represented with a given 0-indexed array edges of size n, indicating that there is a directed edge from node i to node edges[i]. If there is no outgoing edge from i, then edges[i] == -1.\n",
    "\n",
    "You are also given two integers node1 and node2.\n",
    "\n",
    "Return the index of the node that can be reached from both node1 and node2, such that the maximum between the distance from node1 to that node, and from node2 to that node is minimized. If there are multiple answers, return the node with the smallest index, and if no possible answer exists, return -1.\n",
    "\n",
    "Note that edges may contain cycles."
   ]
  },
  {
   "cell_type": "code",
   "execution_count": null,
   "id": "5fa39e1a",
   "metadata": {
    "vscode": {
     "languageId": "plaintext"
    }
   },
   "outputs": [],
   "source": [
    "class Solution:\n",
    "    def closestMeetingNode(self, edges: List[int], node1: int, node2: int) -> int:\n",
    "        n=len(edges)\n",
    "        inf=1<<32\n",
    "        dist1=[inf]*n\n",
    "        dist2=[inf]*n\n",
    "        def dfs(node, dist):\n",
    "            d, i=0, node\n",
    "            while i!=-1 and dist[i]==inf:\n",
    "                dist[i]=d\n",
    "                d+=1\n",
    "                i=edges[i]\n",
    "        dfs(node1, dist1)\n",
    "        dfs(node2, dist2)\n",
    "        minD, index=inf, -1\n",
    "        for i in range(n):\n",
    "            max12=max(dist1[i], dist2[i])\n",
    "            if max12<minD: \n",
    "                minD=max12\n",
    "                index=i\n",
    "        return index"
   ]
  }
 ],
 "metadata": {
  "language_info": {
   "name": "python"
  }
 },
 "nbformat": 4,
 "nbformat_minor": 5
}
