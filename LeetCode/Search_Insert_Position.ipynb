{
 "cells": [
  {
   "cell_type": "markdown",
   "metadata": {},
   "source": [
    "# Search Insert Position\n",
    "\n",
    "Given a sorted array of distinct integers and a target value, return the index if the target is found. If not, return the index where it would be if it were inserted in order.\n",
    "\n",
    "You must write an algorithm with O(log N) runtime complexity"
   ]
  },
  {
   "cell_type": "code",
   "execution_count": null,
   "metadata": {},
   "outputs": [],
   "source": [
    "class Solution:\n",
    "    def searchInsert(self, nums: List[int], target: int) -> int:\n",
    "        left, right = 0, len(nums) - 1\n",
    "    \n",
    "        while left <= right:\n",
    "            mid = (left + right) // 2\n",
    "        \n",
    "            if nums[mid] == target:\n",
    "                return mid \n",
    "            elif nums[mid] < target:\n",
    "               left = mid + 1 \n",
    "            else:\n",
    "                right = mid - 1\n",
    "    \n",
    "        return left"
   ]
  }
 ],
 "metadata": {
  "language_info": {
   "name": "python"
  }
 },
 "nbformat": 4,
 "nbformat_minor": 2
}
