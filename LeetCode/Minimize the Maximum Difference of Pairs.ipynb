{
 "cells": [
  {
   "cell_type": "markdown",
   "id": "f8347600",
   "metadata": {},
   "source": [
    "# Minimize the Maximum Difference of Pairs\n",
    "\n",
    "\n",
    "You are given a 0-indexed integer array nums and an integer p. Find p pairs of indices of nums such that the maximum difference amongst all the pairs is minimized. Also, ensure no index appears more than once amongst the p pairs.\n",
    "\n",
    "Note that for a pair of elements at the index i and j, the difference of this pair is |nums[i] - nums[j]|, where |x| represents the absolute value of x.\n",
    "\n",
    "Return the minimum maximum difference among all p pairs. We define the maximum of an empty set to be zero."
   ]
  },
  {
   "cell_type": "code",
   "execution_count": null,
   "id": "2241b361",
   "metadata": {},
   "outputs": [],
   "source": [
    "class Solution:\n",
    "    def minimizeMax(self, nums: List[int], p: int) -> int:\n",
    "        nums.sort()\n",
    "        n = len(nums)\n",
    "        \n",
    "        def countValidPairs(threshold):\n",
    "            index, count = 0, 0\n",
    "            while index < n - 1:\n",
    "                if nums[index + 1] - nums[index] <= threshold:\n",
    "                    count += 1\n",
    "                    index += 1\n",
    "                index += 1\n",
    "            return count\n",
    "        \n",
    "        left, right = 0, nums[-1] - nums[0]\n",
    "        while left < right:\n",
    "            mid = left + (right - left) // 2\n",
    "\n",
    "            if countValidPairs(mid) >= p:\n",
    "                right = mid\n",
    "            else:\n",
    "                left = mid + 1\n",
    "        return left       "
   ]
  }
 ],
 "metadata": {
  "language_info": {
   "name": "python"
  }
 },
 "nbformat": 4,
 "nbformat_minor": 5
}
