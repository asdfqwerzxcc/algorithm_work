{
 "cells": [
  {
   "cell_type": "markdown",
   "id": "06e97d61",
   "metadata": {},
   "source": [
    "# Divide a String Into Groups of Size k\\\n",
    "\n",
    "A string s can be partitioned into groups of size k using the following procedure:\n",
    "\n",
    "The first group consists of the first k characters of the string, the second group consists of the next k characters of the string, and so on. Each element can be a part of exactly one group.\n",
    "For the last group, if the string does not have k characters remaining, a character fill is used to complete the group.\n",
    "Note that the partition is done so that after removing the fill character from the last group (if it exists) and concatenating all the groups in order, the resultant string should be s.\n",
    "\n",
    "Given the string s, the size of each group k and the character fill, return a string array denoting the composition of every group s has been divided into, using the above procedure.\n",
    "\n",
    " "
   ]
  },
  {
   "cell_type": "code",
   "execution_count": null,
   "id": "0e50f3d7",
   "metadata": {},
   "outputs": [],
   "source": [
    "class Solution:\n",
    "    def divideString(self, s: str, k: int, fill: str) -> List[str]:\n",
    "        res = []\n",
    "        n = len(s)\n",
    "        curr = 0\n",
    "        while curr < n:\n",
    "            res.append(s[curr : curr + k])\n",
    "            curr += k\n",
    "        res[-1] += fill * (k - len(res[-1]))\n",
    "        return res"
   ]
  }
 ],
 "metadata": {
  "language_info": {
   "name": "python"
  }
 },
 "nbformat": 4,
 "nbformat_minor": 5
}
