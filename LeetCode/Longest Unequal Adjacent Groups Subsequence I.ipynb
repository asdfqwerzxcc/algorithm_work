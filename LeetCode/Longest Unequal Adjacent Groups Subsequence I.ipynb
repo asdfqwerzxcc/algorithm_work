{
 "cells": [
  {
   "cell_type": "markdown",
   "id": "019688cb",
   "metadata": {},
   "source": [
    "# Longest Unequal Adjacent Groups Subsequence I\n",
    "\n",
    "You are given a string array words and a binary array groups both of length n, where words[i] is associated with groups[i].\n",
    "\n",
    "Your task is to select the longest alternating subsequence from words. A subsequence of words is alternating if for any two consecutive strings in the sequence, their corresponding elements in the binary array groups differ. Essentially, you are to choose strings such that adjacent elements have non-matching corresponding bits in the groups array.\n",
    "\n",
    "Formally, you need to find the longest subsequence of an array of indices [0, 1, ..., n - 1] denoted as [i0, i1, ..., ik-1], such that groups[ij] != groups[ij+1] for each 0 <= j < k - 1 and then find the words corresponding to these indices.\n",
    "\n",
    "Return the selected subsequence. If there are multiple answers, return any of them.\n",
    "\n",
    "Note: The elements in words are distinct."
   ]
  },
  {
   "cell_type": "code",
   "execution_count": null,
   "id": "fbb4d927",
   "metadata": {},
   "outputs": [],
   "source": [
    "class Solution:\n",
    "    def getLongestSubsequence(self, words: List[str], groups: List[int]) -> List[str]:\n",
    "        return [words[0]] + [words[i] for i in range(1, len(groups)) if groups[i] != groups[i - 1]]"
   ]
  }
 ],
 "metadata": {
  "language_info": {
   "name": "python"
  }
 },
 "nbformat": 4,
 "nbformat_minor": 5
}
