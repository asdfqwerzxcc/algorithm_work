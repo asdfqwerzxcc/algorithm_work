{
 "cells": [
  {
   "cell_type": "markdown",
   "id": "9890553d",
   "metadata": {},
   "source": [
    "# Count Subarrays of Length Three With a Condition\n",
    "\n",
    "Given an integer array nums, return the number of subarrays of length 3 such that the sum of the first and third numbers equals exactly half of the second number."
   ]
  },
  {
   "cell_type": "code",
   "execution_count": null,
   "id": "08bc6fb3",
   "metadata": {},
   "outputs": [],
   "source": [
    "class Solution:\n",
    "    def countSubarrays(self, nums: List[int]) -> int:\n",
    "        count = 0\n",
    "        for i in range(len(nums) - 2):\n",
    "            first = nums[i]\n",
    "            second = nums[i + 1]\n",
    "            third = nums[i + 2]\n",
    "            if first + third == second / 2:\n",
    "                count += 1\n",
    "        return count"
   ]
  }
 ],
 "metadata": {
  "language_info": {
   "name": "python"
  }
 },
 "nbformat": 4,
 "nbformat_minor": 5
}
