{
 "cells": [
  {
   "cell_type": "markdown",
   "id": "0be5a8f1",
   "metadata": {},
   "source": [
    "# Maximum Difference Between Increasing Elements\n",
    "\n",
    "Given a 0-indexed integer array nums of size n, find the maximum difference between nums[i] and nums[j] (i.e., nums[j] - nums[i]), such that 0 <= i < j < n and nums[i] < nums[j].\n",
    "\n",
    "Return the maximum difference. If no such i and j exists, return -1.\n"
   ]
  },
  {
   "cell_type": "code",
   "execution_count": null,
   "id": "4e390e1e",
   "metadata": {},
   "outputs": [],
   "source": [
    "class Solution:\n",
    "    def maximumDifference(self, nums: List[int]) -> int:\n",
    "        n = len(nums)\n",
    "        ans, premin = -1, nums[0]\n",
    "\n",
    "        for i in range(1, n):\n",
    "            if nums[i] > premin:\n",
    "                ans = max(ans, nums[i] - premin)\n",
    "            else:\n",
    "                premin = nums[i]\n",
    "\n",
    "        return ans"
   ]
  }
 ],
 "metadata": {
  "language_info": {
   "name": "python"
  }
 },
 "nbformat": 4,
 "nbformat_minor": 5
}
