{
 "cells": [
  {
   "cell_type": "markdown",
   "id": "430168ee",
   "metadata": {},
   "source": [
    "# Rabbits in Forest\n",
    "\n",
    "There is a forest with an unknown number of rabbits. We asked n rabbits \"How many rabbits have the same color as you?\" and collected the answers in an integer array answers where answers[i] is the answer of the ith rabbit.\n",
    "\n",
    "Given the array answers, return the minimum number of rabbits that could be in the forest."
   ]
  },
  {
   "cell_type": "code",
   "execution_count": null,
   "id": "306e0adf",
   "metadata": {},
   "outputs": [],
   "source": [
    "class Solution:\n",
    "    def numRabbits(self, answers: List[int]) -> int:\n",
    "        if not answers:\n",
    "            return 0\n",
    "        \n",
    "        frequency = {}\n",
    "        for answer in answers:\n",
    "            if answer in frequency:\n",
    "                frequency[answer] += 1\n",
    "            else:\n",
    "                frequency[answer] = 1\n",
    "        \n",
    "        total_rabbits = 0\n",
    "        \n",
    "        for answer, count in frequency.items():\n",
    "            group_size = answer + 1\n",
    "            \n",
    "            groups_needed = (count + group_size - 1) // group_size\n",
    "            \n",
    "            total_rabbits += group_size * groups_needed\n",
    "        \n",
    "        return total_rabbits"
   ]
  }
 ],
 "metadata": {
  "language_info": {
   "name": "python"
  }
 },
 "nbformat": 4,
 "nbformat_minor": 5
}
