{
 "cells": [
  {
   "cell_type": "markdown",
   "id": "9322943a",
   "metadata": {},
   "source": [
    "# Largest Divisible Subset"
   ]
  },
  {
   "cell_type": "code",
   "execution_count": null,
   "id": "cf13d634",
   "metadata": {},
   "outputs": [],
   "source": []
  }
 ],
 "metadata": {
  "language_info": {
   "name": "python"
  }
 },
 "nbformat": 4,
 "nbformat_minor": 5
}
