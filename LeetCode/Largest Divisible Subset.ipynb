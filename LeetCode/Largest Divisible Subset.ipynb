{
 "cells": [
  {
   "cell_type": "markdown",
   "id": "9322943a",
   "metadata": {},
   "source": [
    "# Largest Divisible Subset\n",
    "\n",
    "Given a set of distinct positive integers nums, return the largest subset answer such that every pair (answer[i], answer[j]) of elements in this subset satisfies:\n",
    "\n",
    "answer[i] % answer[j] == 0, or\n",
    "answer[j] % answer[i] == 0\n",
    "If there are multiple solutions, return any of them."
   ]
  },
  {
   "cell_type": "code",
   "execution_count": null,
   "id": "cf13d634",
   "metadata": {},
   "outputs": [],
   "source": [
    "class Solution:\n",
    "    def largestDivisibleSubset(self, nums: List[int]) -> List[int]:\n",
    "        if not nums:\n",
    "            return []\n",
    "        \n",
    "        # 1. 배열 정렬\n",
    "        nums.sort()\n",
    "        n = len(nums)\n",
    "        \n",
    "        # 2. dp 배열과 prev 배열 초기화\n",
    "        dp = [1] * n            # 각 원소 하나만 있을 때 길이는 1\n",
    "        prev = [-1] * n         # 이전 원소의 인덱스를 저장, 초기값 -1은 시작임을 의미\n",
    "        \n",
    "        # 최대 부분집합의 끝 인덱스와 길이를 추적\n",
    "        max_idx = 0\n",
    "        max_dp = 1\n",
    "        \n",
    "        # 3. 동적 계획법으로 DP 테이블 구성\n",
    "        for i in range(1, n):\n",
    "            for j in range(i):\n",
    "                if nums[i] % nums[j] == 0:\n",
    "                    if dp[j] + 1 > dp[i]:\n",
    "                        dp[i] = dp[j] + 1\n",
    "                        prev[i] = j\n",
    "            if dp[i] > max_dp:\n",
    "                max_dp = dp[i]\n",
    "                max_idx = i\n",
    "        \n",
    "        # 4. 결과 집합 재구성 (역추적)\n",
    "        result = []\n",
    "        while max_idx != -1:\n",
    "            result.append(nums[max_idx])\n",
    "            max_idx = prev[max_idx]\n",
    "        \n",
    "        # 역추적했으므로 결과를 뒤집어 올바른 순서로 반환\n",
    "        result.reverse()\n",
    "        return result"
   ]
  }
 ],
 "metadata": {
  "language_info": {
   "name": "python"
  }
 },
 "nbformat": 4,
 "nbformat_minor": 5
}
