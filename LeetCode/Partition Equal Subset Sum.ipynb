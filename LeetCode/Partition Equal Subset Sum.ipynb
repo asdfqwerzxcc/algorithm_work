{
 "cells": [
  {
   "cell_type": "markdown",
   "id": "b5b20e97",
   "metadata": {},
   "source": [
    "# Partition Equal Subset Sum\n",
    "\n",
    "Given an integer array nums, return true if you can partition the array into two subsets such that the sum of the elements in both subsets is equal or false otherwise."
   ]
  },
  {
   "cell_type": "code",
   "execution_count": null,
   "id": "edf62eb3",
   "metadata": {},
   "outputs": [],
   "source": [
    "class Solution:\n",
    "    def canPartition(self, nums: List[int]) -> bool:\n",
    "        total_sum = sum(nums)\n",
    "        # 전체 합이 홀수라면 두 부분으로 동일하게 나눌 수 없음\n",
    "        if total_sum % 2 != 0:\n",
    "            return False\n",
    "\n",
    "        target = total_sum // 2\n",
    "\n",
    "        # dp[j]는 합이 j를 만들 수 있는지 여부를 저장합니다.\n",
    "        dp = [False] * (target + 1)\n",
    "        dp[0] = True  # 합이 0은 아무 원소도 선택하지 않아 만들 수 있음\n",
    "\n",
    "        # 각 원소에 대해 dp 배열 업데이트\n",
    "        for num in nums:\n",
    "            # 역순 순회: 같은 원소를 여러 번 사용하는 것을 방지하기 위해서\n",
    "            for j in range(target, num - 1, -1):\n",
    "                dp[j] = dp[j] or dp[j - num]\n",
    "        \n",
    "        return dp[target]"
   ]
  }
 ],
 "metadata": {
  "language_info": {
   "name": "python"
  }
 },
 "nbformat": 4,
 "nbformat_minor": 5
}
