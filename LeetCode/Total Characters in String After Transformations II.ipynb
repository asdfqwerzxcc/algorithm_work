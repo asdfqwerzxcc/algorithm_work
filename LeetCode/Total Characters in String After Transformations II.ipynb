{
 "cells": [
  {
   "cell_type": "markdown",
   "id": "ad4bb3f9",
   "metadata": {},
   "source": [
    "# Total Characters in String After Transformations II\n",
    "\n",
    "You are given a string s consisting of lowercase English letters, an integer t representing the number of transformations to perform, and an array nums of size 26. In one transformation, every character in s is replaced according to the following rules:\n",
    "\n",
    "Replace s[i] with the next nums[s[i] - 'a'] consecutive characters in the alphabet. For example, if s[i] = 'a' and nums[0] = 3, the character 'a' transforms into the next 3 consecutive characters ahead of it, which results in \"bcd\".\n",
    "The transformation wraps around the alphabet if it exceeds 'z'. For example, if s[i] = 'y' and nums[24] = 3, the character 'y' transforms into the next 3 consecutive characters ahead of it, which results in \"zab\".\n",
    "Return the length of the resulting string after exactly t transformations.\n",
    "\n",
    "Since the answer may be very large, return it modulo 109 + 7."
   ]
  },
  {
   "cell_type": "code",
   "execution_count": null,
   "id": "2928005e",
   "metadata": {
    "vscode": {
     "languageId": "plaintext"
    }
   },
   "outputs": [],
   "source": [
    "class Solution:\n",
    "    mod = 10**9 + 7\n",
    "\n",
    "    def multiplyMatrices(self, A, B):\n",
    "        rowsA, colsA, colsB = len(A), len(A[0]), len(B[0])\n",
    "        result = [[0]*colsB for _ in range(rowsA)]\n",
    "        for i in range(rowsA):\n",
    "            for j in range(colsB):\n",
    "                tmp = 0\n",
    "                for k in range(colsA):\n",
    "                    tmp += A[i][k] * B[k][j]\n",
    "                result[i][j] = tmp % self.mod\n",
    "        return result\n",
    "\n",
    "    def powerMatrix(self, matrix, exponent):\n",
    "        n = len(matrix)\n",
    "        result = [[1 if i==j else 0 for j in range(n)] for i in range(n)]\n",
    "        while exponent > 0:\n",
    "            if exponent & 1:\n",
    "                result = self.multiplyMatrices(result, matrix)\n",
    "            matrix = self.multiplyMatrices(matrix, matrix)\n",
    "            exponent >>= 1\n",
    "        return result\n",
    "\n",
    "    def lengthAfterTransformations(self, s, t, nums):\n",
    "        transform = [[0]*26 for _ in range(26)]\n",
    "        for i in range(26):\n",
    "            for shift in range(nums[i]):\n",
    "                transform[i][(i + 1 + shift) % 26] += 1\n",
    "        transform = self.powerMatrix(transform, t)\n",
    "        freq = [[0]*26]\n",
    "        for ch in s:\n",
    "            freq[0][ord(ch) - ord('a')] += 1\n",
    "        freq = self.multiplyMatrices(freq, transform)\n",
    "        return sum(freq[0]) % self.mod        "
   ]
  }
 ],
 "metadata": {
  "language_info": {
   "name": "python"
  }
 },
 "nbformat": 4,
 "nbformat_minor": 5
}
