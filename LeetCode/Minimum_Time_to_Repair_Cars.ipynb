{
 "cells": [
  {
   "cell_type": "markdown",
   "metadata": {},
   "source": [
    "#  Minimum Time to Repair Cars\n",
    "\n",
    "You are given an integer array ranks representing the ranks of some mechanics. ranksi is the rank of the ith mechanic. A mechanic with a rank r can repair n cars in r * n2 minutes.\n",
    "\n",
    "You are also given an integer cars representing the total number of cars waiting in the garage to be repaired.\n",
    "\n",
    "Return the minimum time taken to repair all the cars.\n",
    "\n",
    "Note: All the mechanics can repair the cars simultaneously."
   ]
  },
  {
   "cell_type": "code",
   "execution_count": null,
   "metadata": {},
   "outputs": [],
   "source": [
    "class Solution:\n",
    "    def repairCars(self, ranks: List[int], cars: int) -> int:\n",
    "        def count_cars(T):\n",
    "            total = 0\n",
    "            for r in ranks:\n",
    "                total += int(math.sqrt(T / r))\n",
    "            return total\n",
    "\n",
    "        low, high = 0, max(ranks) * cars * cars\n",
    "        answer = high\n",
    "\n",
    "        while low <= high:\n",
    "            mid = (low + high) // 2\n",
    "            if count_cars(mid) >= cars:\n",
    "                answer = mid\n",
    "                high = mid - 1\n",
    "            else:\n",
    "                low = mid + 1\n",
    "\n",
    "        return answer"
   ]
  }
 ],
 "metadata": {
  "language_info": {
   "name": "python"
  }
 },
 "nbformat": 4,
 "nbformat_minor": 2
}
