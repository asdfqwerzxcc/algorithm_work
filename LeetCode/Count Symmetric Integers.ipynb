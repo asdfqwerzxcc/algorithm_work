{
 "cells": [
  {
   "cell_type": "markdown",
   "id": "ad0a3e2d",
   "metadata": {},
   "source": [
    "# Count Symmetric Integers\n",
    "\n",
    "You are given two positive integers low and high.\n",
    "\n",
    "An integer x consisting of 2 * n digits is symmetric if the sum of the first n digits of x is equal to the sum of the last n digits of x. Numbers with an odd number of digits are never symmetric.\n",
    "\n",
    "Return the number of symmetric integers in the range [low, high]."
   ]
  },
  {
   "cell_type": "code",
   "execution_count": null,
   "id": "bc465b65",
   "metadata": {},
   "outputs": [],
   "source": [
    "class Solution:\n",
    "    def countSymmetricIntegers(self, low: int, high: int) -> int:\n",
    "        def is_symmetric(x):\n",
    "            s = str(x)\n",
    "            if len(s) % 2 != 0:\n",
    "                return False\n",
    "            n = len(s) // 2\n",
    "            left_sum = sum(int(c) for c in s[:n])\n",
    "            right_sum = sum(int(c) for c in s[n:])\n",
    "            return left_sum == right_sum\n",
    "\n",
    "        count = 0\n",
    "        for x in range(low, high + 1):\n",
    "            if is_symmetric(x):\n",
    "                count += 1\n",
    "        return count"
   ]
  }
 ],
 "metadata": {
  "language_info": {
   "name": "python"
  }
 },
 "nbformat": 4,
 "nbformat_minor": 5
}
