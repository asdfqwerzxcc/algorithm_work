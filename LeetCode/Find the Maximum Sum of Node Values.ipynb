{
 "cells": [
  {
   "cell_type": "markdown",
   "id": "bf3037b6",
   "metadata": {},
   "source": [
    "# Find the Maximum Sum of Node Values\n",
    "\n",
    "There exists an undirected tree with n nodes numbered 0 to n - 1. You are given a 0-indexed 2D integer array edges of length n - 1, where edges[i] = [ui, vi] indicates that there is an edge between nodes ui and vi in the tree. You are also given a positive integer k, and a 0-indexed array of non-negative integers nums of length n, where nums[i] represents the value of the node numbered i.\n",
    "\n",
    "Alice wants the sum of values of tree nodes to be maximum, for which Alice can perform the following operation any number of times (including zero) on the tree:\n",
    "\n",
    "Choose any edge [u, v] connecting the nodes u and v, and update their values as follows:\n",
    "nums[u] = nums[u] XOR k\n",
    "nums[v] = nums[v] XOR k\n",
    "Return the maximum possible sum of the values Alice can achieve by performing the operation any number of times.\n",
    "\n",
    " "
   ]
  },
  {
   "cell_type": "code",
   "execution_count": null,
   "id": "67540051",
   "metadata": {},
   "outputs": [],
   "source": [
    "class Solution:\n",
    "    def maxSumOfNodes(self, index, isEven, nums, k, memo):\n",
    "        if index == len(nums):\n",
    "            return 0 if isEven == 1 else -float(\"inf\")\n",
    "        if memo[index][isEven] != -1:\n",
    "            return memo[index][isEven]\n",
    "\n",
    "        noXorDone = nums[index] + self.maxSumOfNodes(index + 1, isEven, nums, k, memo)\n",
    "        xorDone = (nums[index] ^ k) + self.maxSumOfNodes(\n",
    "            index + 1, isEven ^ 1, nums, k, memo\n",
    "        )\n",
    "\n",
    "        memo[index][isEven] = max(xorDone, noXorDone)\n",
    "        return memo[index][isEven]\n",
    "\n",
    "    def maximumValueSum(self, nums: List[int], k: int, edges: List[List[int]]) -> int:\n",
    "        memo = [[-1] * 2 for _ in range(len(nums))]\n",
    "        return self.maxSumOfNodes(0, 1, nums, k, memo)"
   ]
  }
 ],
 "metadata": {
  "language_info": {
   "name": "python"
  }
 },
 "nbformat": 4,
 "nbformat_minor": 5
}
