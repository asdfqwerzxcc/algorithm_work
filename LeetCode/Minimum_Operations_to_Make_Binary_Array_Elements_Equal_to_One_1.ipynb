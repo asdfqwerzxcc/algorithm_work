{
 "cells": [
  {
   "cell_type": "markdown",
   "metadata": {},
   "source": [
    "# Minimum Operations to Make Binary Array Elements Equal to One I\n",
    "\n",
    "You are given a binary array nums.\n",
    "\n",
    "You can do the following operation on the array any number of times (possibly zero):\n",
    "\n",
    "Choose any 3 consecutive elements from the array and flip all of them.\n",
    "Flipping an element means changing its value from 0 to 1, and from 1 to 0.\n",
    "\n",
    "Return the minimum number of operations required to make all elements in nums equal to 1. If it is impossible, return -1."
   ]
  },
  {
   "cell_type": "code",
   "execution_count": null,
   "metadata": {},
   "outputs": [],
   "source": [
    "class Solution:\n",
    "    def minOperations(self, nums: List[int]) -> int:\n",
    "        n = len(nums)\n",
    "        if n < 3:\n",
    "            return 0 if all(x == 1 for x in nums) else -1\n",
    "    \n",
    "        count = 0\n",
    "        # 0번 인덱스부터 n-3 인덱스까지 순회\n",
    "        for i in range(n - 2):\n",
    "            if nums[i] == 0:\n",
    "                # i, i+1, i+2 뒤집기\n",
    "                for j in range(i, i + 3):\n",
    "                    nums[j] = 1 - nums[j]\n",
    "                count += 1\n",
    "    \n",
    "        # 마지막 원소들 확인\n",
    "        if all(x == 1 for x in nums):\n",
    "            return count\n",
    "        else:   \n",
    "            return -1"
   ]
  }
 ],
 "metadata": {
  "language_info": {
   "name": "python"
  }
 },
 "nbformat": 4,
 "nbformat_minor": 2
}
