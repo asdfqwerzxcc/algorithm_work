{
 "cells": [
  {
   "cell_type": "markdown",
   "id": "ab9833e4",
   "metadata": {},
   "source": [
    "# Count the Number of Good Subarrays\n",
    "\n",
    "Given an integer array nums and an integer k, return the number of good subarrays of nums.\n",
    "\n",
    "A subarray arr is good if there are at least k pairs of indices (i, j) such that i < j and arr[i] == arr[j].\n",
    "\n",
    "A subarray is a contiguous non-empty sequence of elements within an array."
   ]
  },
  {
   "cell_type": "code",
   "execution_count": null,
   "id": "37b3db90",
   "metadata": {},
   "outputs": [],
   "source": [
    "class Solution:\n",
    "    def countGood(self, nums: List[int], k: int) -> int:\n",
    "        n = len(nums)\n",
    "    \n",
    "        # k가 0인 경우, 모든 subarray가 조건을 만족하므로 총 subarray의 개수를 반환\n",
    "        if k == 0:\n",
    "            return n * (n + 1) // 2\n",
    "\n",
    "        left = 0        # 슬라이딩 윈도우의 왼쪽 포인터\n",
    "        pairs = 0       # 현재 윈도우 내에 형성된 동일한 숫자 쌍의 개수\n",
    "        res = 0         # 조건을 만족하는 subarray의 총 개수를 저장할 변수\n",
    "        freq = {}       # 현재 윈도우 내의 숫자 빈도를 저장할 딕셔너리\n",
    "\n",
    "        # 오른쪽 포인터(right)를 이용하여 배열을 순회\n",
    "        for right in range(n):\n",
    "            # 현재 요소(nums[right])를 추가하기 전, 해당 숫자가 윈도우 내에 몇 개 있었는지 확인\n",
    "            count = freq.get(nums[right], 0)\n",
    "            # 해당 숫자가 이미 있던 개수만큼 새로운 쌍을 형성\n",
    "            pairs += count\n",
    "            # 윈도우에 현재 숫자 추가 후 빈도 업데이트\n",
    "            freq[nums[right]] = count + 1\n",
    "\n",
    "            # 현재 윈도우의 쌍의 개수가 k 이상이면, 왼쪽 포인터를 이동하면서 윈도우 크기를 줄임\n",
    "            while left <= right and pairs >= k:\n",
    "                # 현재 left에서 시작하는 subarray 중, right부터 끝까지의 모든 subarray가 조건을 만족하므로 개수를 더함\n",
    "                res += (n - right)\n",
    "                \n",
    "                # 윈도우에서 왼쪽 요소(nums[left]) 제거하기 전 해당 요소가 형성한 쌍의 개수를 제거\n",
    "                freq[nums[left]] -= 1\n",
    "                # 요소 제거 후, 해당 숫자가 윈도우 내에서 형성하는 쌍의 개수만큼 전체 쌍의 개수를 감소시킴\n",
    "                pairs -= freq[nums[left]]\n",
    "                # 왼쪽 포인터 이동\n",
    "                left += 1\n",
    "\n",
    "        return res"
   ]
  }
 ],
 "metadata": {
  "language_info": {
   "name": "python"
  }
 },
 "nbformat": 4,
 "nbformat_minor": 5
}
