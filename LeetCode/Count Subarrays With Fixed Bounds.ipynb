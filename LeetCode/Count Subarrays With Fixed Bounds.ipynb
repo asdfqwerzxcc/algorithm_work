{
 "cells": [
  {
   "cell_type": "markdown",
   "id": "8fa8bdf8",
   "metadata": {},
   "source": [
    "# Count Subarrays With Fixed Bounds\n",
    "\n",
    "You are given an integer array nums and two integers minK and maxK.\n",
    "\n",
    "A fixed-bound subarray of nums is a subarray that satisfies the following conditions:\n",
    "\n",
    "The minimum value in the subarray is equal to minK.\n",
    "The maximum value in the subarray is equal to maxK.\n",
    "Return the number of fixed-bound subarrays.\n",
    "\n",
    "A subarray is a contiguous part of an array."
   ]
  },
  {
   "cell_type": "code",
   "execution_count": null,
   "id": "1f03fdd0",
   "metadata": {},
   "outputs": [],
   "source": [
    "class Solution:\n",
    "    def countSubarrays(self, nums: List[int], minK: int, maxK: int) -> int:\n",
    "        pMin = pMax = bad = -1\n",
    "        ans = 0\n",
    "        \n",
    "        for i, num in enumerate(nums):\n",
    "            if num == minK:\n",
    "                pMin = i\n",
    "            if num == maxK:\n",
    "                pMax = i\n",
    "            if num < minK or num > maxK:\n",
    "                bad = i\n",
    "            if pMin != -1 and pMax != -1:\n",
    "                ans += max(0, min(pMin, pMax) - bad)\n",
    "        \n",
    "        return ans"
   ]
  }
 ],
 "metadata": {
  "language_info": {
   "name": "python"
  }
 },
 "nbformat": 4,
 "nbformat_minor": 5
}
