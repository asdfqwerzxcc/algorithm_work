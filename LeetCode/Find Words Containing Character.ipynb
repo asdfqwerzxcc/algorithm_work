{
 "cells": [
  {
   "cell_type": "markdown",
   "id": "16cb100a",
   "metadata": {},
   "source": [
    "# Find Words Containing Character\n",
    "\n",
    "You are given a 0-indexed array of strings words and a character x.\n",
    "\n",
    "Return an array of indices representing the words that contain the character x.\n",
    "\n",
    "Note that the returned array may be in any order."
   ]
  },
  {
   "cell_type": "code",
   "execution_count": null,
   "id": "27d7cca9",
   "metadata": {},
   "outputs": [],
   "source": [
    "class Solution:\n",
    "    def findWordsContaining(self, words: List[str], x: str) -> List[int]:\n",
    "        res = []\n",
    "        n = len(words)\n",
    "        for i in range(n):\n",
    "            if x in words[i]:\n",
    "                res.append(i)\n",
    "        return res"
   ]
  }
 ],
 "metadata": {
  "language_info": {
   "name": "python"
  }
 },
 "nbformat": 4,
 "nbformat_minor": 5
}
