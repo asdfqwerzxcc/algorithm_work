{
 "cells": [
  {
   "cell_type": "markdown",
   "id": "626e78f5",
   "metadata": {},
   "source": [
    "# Minimum Equal Sum of Two Arrays After Replacing Zeros\n",
    "\n",
    "You are given two arrays and consisting of positive integers.nums1nums2\n",
    "\n",
    "You have to replace all the 's in both arrays with strictly positive integers such that the sum of elements of both arrays becomes equal.0\n",
    "\n",
    "Return the minimum equal sum you can obtain, or if it is impossible.-1"
   ]
  },
  {
   "cell_type": "code",
   "execution_count": null,
   "id": "652336dc",
   "metadata": {
    "vscode": {
     "languageId": "plaintext"
    }
   },
   "outputs": [],
   "source": [
    "class Solution:\n",
    "    def minSum(self, nums1: List[int], nums2: List[int]) -> int:\n",
    "        sum1 = sum2 = 0\n",
    "        zero1 = zero2 = 0\n",
    "\n",
    "        for i in nums1:\n",
    "            sum1 += i\n",
    "            if i == 0:\n",
    "                sum1 += 1\n",
    "                zero1 += 1\n",
    "\n",
    "        for i in nums2:\n",
    "            sum2 += i\n",
    "            if i == 0:\n",
    "                sum2 += 1\n",
    "                zero2 += 1\n",
    "\n",
    "        if (zero1 == 0 and sum2 > sum1) or (zero2 == 0 and sum1 > sum2):\n",
    "            return -1\n",
    "\n",
    "        return max(sum1, sum2)"
   ]
  }
 ],
 "metadata": {
  "language_info": {
   "name": "python"
  }
 },
 "nbformat": 4,
 "nbformat_minor": 5
}
