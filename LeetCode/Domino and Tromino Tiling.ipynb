{
 "cells": [
  {
   "cell_type": "markdown",
   "id": "fb0a9c34",
   "metadata": {},
   "source": [
    "# Domino and Tromino Tiling\n",
    "\n",
    "You have two types of tiles: a 2 x 1 domino shape and a tromino shape. You may rotate these shapes.\n",
    "\n",
    "\n",
    "Given an integer n, return the number of ways to tile an 2 x n board. Since the answer may be very large, return it modulo 109 + 7.\n",
    "\n",
    "In a tiling, every square must be covered by a tile. Two tilings are different if and only if there are two 4-directionally adjacent cells on the board such that exactly one of the tilings has both squares occupied by a tile."
   ]
  },
  {
   "cell_type": "code",
   "execution_count": null,
   "id": "fd9a9244",
   "metadata": {},
   "outputs": [],
   "source": [
    "class Solution:\n",
    "    mod = 10**9+7\n",
    "\n",
    "    def multiply(self, A, B):\n",
    "        C = [[0]*3 for _ in range(3)]\n",
    "        for i in range(3):\n",
    "            for j in range(3):\n",
    "                s = 0\n",
    "                for k in range(3):\n",
    "                    s = (s + A[i][k]*B[k][j]) % self.mod\n",
    "                C[i][j] = s\n",
    "        return C\n",
    "\n",
    "    def power(self, base, exp):\n",
    "        result = [[1,0,0],[0,1,0],[0,0,1]]\n",
    "        while exp > 0:\n",
    "            if exp & 1:\n",
    "                result = self.multiply(result, base)\n",
    "            base = self.multiply(base, base)\n",
    "            exp >>= 1\n",
    "        return result\n",
    "\n",
    "    def numTilings(self, n):\n",
    "        if n == 0: return 1\n",
    "        if n == 1: return 1\n",
    "        if n == 2: return 2\n",
    "        t = [[2,0,1],[1,0,0],[0,1,0]]\n",
    "        p = self.power(t, n-2)\n",
    "        return (p[0][0]*2 + p[0][1] + p[0][2]) % self.mod"
   ]
  }
 ],
 "metadata": {
  "language_info": {
   "name": "python"
  }
 },
 "nbformat": 4,
 "nbformat_minor": 5
}
