{
 "cells": [
  {
   "cell_type": "markdown",
   "id": "55a4a7fb",
   "metadata": {},
   "source": [
    "# Sum of k-Mirror Numbers\n",
    "\n",
    "A k-mirror number is a positive integer without leading zeros that reads the same both forward and backward in base-10 as well as in base-k.\n",
    "\n",
    "For example, 9 is a 2-mirror number. The representation of 9 in base-10 and base-2 are 9 and 1001 respectively, which read the same both forward and backward.\n",
    "On the contrary, 4 is not a 2-mirror number. The representation of 4 in base-2 is 100, which does not read the same both forward and backward.\n",
    "Given the base k and the number n, return the sum of the n smallest k-mirror numbers."
   ]
  },
  {
   "cell_type": "code",
   "execution_count": null,
   "id": "75a2785e",
   "metadata": {},
   "outputs": [],
   "source": [
    "class Solution:\n",
    "    def kMirror(self, k: int, n: int) -> int:\n",
    "        def isPalindrome(x: int) -> bool:\n",
    "            digit = list()\n",
    "            while x:\n",
    "                digit.append(x % k)\n",
    "                x //= k\n",
    "            return digit == digit[::-1]\n",
    "\n",
    "        left, cnt, ans = 1, 0, 0\n",
    "        while cnt < n:\n",
    "            right = left * 10\n",
    "\n",
    "            for op in [0, 1]:\n",
    "                for i in range(left, right):\n",
    "                    if cnt == n:\n",
    "                        break\n",
    "\n",
    "                    combined = i\n",
    "                    x = i // 10 if op == 0 else i\n",
    "                    while x:\n",
    "                        combined = combined * 10 + x % 10\n",
    "                        x //= 10\n",
    "                    if isPalindrome(combined):\n",
    "                        cnt += 1\n",
    "                        ans += combined\n",
    "            left = right\n",
    "\n",
    "        return ans"
   ]
  }
 ],
 "metadata": {
  "language_info": {
   "name": "python"
  }
 },
 "nbformat": 4,
 "nbformat_minor": 5
}
