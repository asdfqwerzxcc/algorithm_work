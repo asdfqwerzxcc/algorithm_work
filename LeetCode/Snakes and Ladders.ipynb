{
 "cells": [
  {
   "cell_type": "markdown",
   "id": "106f476d",
   "metadata": {},
   "source": [
    "# Snakes and Ladders\n",
    "\n",
    "You are given an n x n integer matrix board where the cells are labeled from 1 to n2 in a Boustrophedon style starting from the bottom left of the board (i.e. board[n - 1][0]) and alternating direction each row.\n",
    "\n",
    "You start on square 1 of the board. In each move, starting from square curr, do the following:\n",
    "\n",
    "Choose a destination square next with a label in the range [curr + 1, min(curr + 6, n2)].\n",
    "This choice simulates the result of a standard 6-sided die roll: i.e., there are always at most 6 destinations, regardless of the size of the board.\n",
    "If next has a snake or ladder, you must move to the destination of that snake or ladder. Otherwise, you move to next.\n",
    "The game ends when you reach the square n2.\n",
    "A board square on row r and column c has a snake or ladder if board[r][c] != -1. The destination of that snake or ladder is board[r][c]. Squares 1 and n2 are not the starting points of any snake or ladder.\n",
    "\n",
    "Note that you only take a snake or ladder at most once per dice roll. If the destination to a snake or ladder is the start of another snake or ladder, you do not follow the subsequent snake or ladder.\n",
    "\n",
    "For example, suppose the board is [[-1,4],[-1,3]], and on the first move, your destination square is 2. You follow the ladder to square 3, but do not follow the subsequent ladder to 4.\n",
    "Return the least number of dice rolls required to reach the square n2. If it is not possible to reach the square, return -1.\n"
   ]
  },
  {
   "cell_type": "code",
   "execution_count": null,
   "id": "32dda648",
   "metadata": {
    "vscode": {
     "languageId": "plaintext"
    }
   },
   "outputs": [],
   "source": [
    "class Solution:\n",
    "    def snakesAndLadders(self, board: List[List[int]]) -> int:\n",
    "        n = len(board)\n",
    "        min_rolls = [-1] * (n * n + 1)\n",
    "        q = deque()\n",
    "        min_rolls[1] = 0\n",
    "        q.append(1)\n",
    "\n",
    "        while q:\n",
    "            x = q.popleft()\n",
    "            for i in range(1, 7):\n",
    "                t = x + i\n",
    "                if t > n * n:\n",
    "                    break\n",
    "                row = (t - 1) // n\n",
    "                col = (t - 1) % n\n",
    "                v = board[n - 1 - row][(n - 1 - col) if (row % 2 == 1) else col]\n",
    "                y = v if v > 0 else t\n",
    "                if y == n * n:\n",
    "                    return min_rolls[x] + 1\n",
    "                if min_rolls[y] == -1:\n",
    "                    min_rolls[y] = min_rolls[x] + 1\n",
    "                    q.append(y)\n",
    "        return -1"
   ]
  }
 ],
 "metadata": {
  "language_info": {
   "name": "python"
  }
 },
 "nbformat": 4,
 "nbformat_minor": 5
}
