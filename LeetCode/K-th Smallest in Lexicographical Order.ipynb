{
 "cells": [
  {
   "cell_type": "markdown",
   "id": "88e868fc",
   "metadata": {},
   "source": [
    "# K-th Smallest in Lexicographical Order\n",
    "\n",
    "Given two integers n and k, return the kth lexicographically smallest integer in the range [1, n].\n",
    "\n"
   ]
  },
  {
   "cell_type": "code",
   "execution_count": null,
   "id": "651ad25e",
   "metadata": {
    "vscode": {
     "languageId": "plaintext"
    }
   },
   "outputs": [],
   "source": [
    "class Solution(object):\n",
    "    def findKthNumber(self, n, k):\n",
    "        curr = 1\n",
    "        k -= 1\n",
    "\n",
    "        while k > 0:\n",
    "            step = self._count_steps(n, curr, curr + 1)\n",
    "            if step <= k:\n",
    "                curr += 1\n",
    "                k -= step\n",
    "            else:\n",
    "                curr *= 10\n",
    "                k -= 1\n",
    "\n",
    "        return curr\n",
    "\n",
    "    def _count_steps(self, n, prefix1, prefix2):\n",
    "        steps = 0\n",
    "        while prefix1 <= n:\n",
    "            steps += min(n + 1, prefix2) - prefix1\n",
    "            prefix1 *= 10\n",
    "            prefix2 *= 10\n",
    "        return steps"
   ]
  }
 ],
 "metadata": {
  "language_info": {
   "name": "python"
  }
 },
 "nbformat": 4,
 "nbformat_minor": 5
}
