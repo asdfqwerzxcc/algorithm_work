{
 "cells": [
  {
   "cell_type": "markdown",
   "id": "47f45bd2",
   "metadata": {},
   "source": [
    "# Distribute Candies Among Children II\n",
    "\n",
    "You are given two positive integers n and limit.\n",
    "\n",
    "Return the total number of ways to distribute n candies among 3 children such that no child gets more than limit candies."
   ]
  },
  {
   "cell_type": "code",
   "execution_count": null,
   "id": "96892860",
   "metadata": {},
   "outputs": [],
   "source": [
    "class Solution:\n",
    "    def distributeCandies(self, n: int, limit: int) -> int:\n",
    "        ans = 0\n",
    "        for i in range(min(limit, n) + 1):\n",
    "            if n - i > 2 * limit:\n",
    "                continue\n",
    "            ans += min(n - i, limit) - max(0, n - i - limit) + 1\n",
    "        return ans"
   ]
  }
 ],
 "metadata": {
  "language_info": {
   "name": "python"
  }
 },
 "nbformat": 4,
 "nbformat_minor": 5
}
