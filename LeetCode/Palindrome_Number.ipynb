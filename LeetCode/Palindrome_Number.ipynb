{
 "cells": [
  {
   "cell_type": "markdown",
   "metadata": {},
   "source": [
    "# Palindrome Number\n",
    "Given an integer x, return true if x is a palindrome, and false otherwise."
   ]
  },
  {
   "cell_type": "code",
   "execution_count": null,
   "metadata": {},
   "outputs": [],
   "source": [
    "class Solution:\n",
    "    def isPalindrome(self, x: int) -> bool:\n",
    "        if x<0 or (x !=0 and x% 10 ==0):\n",
    "            return False\n",
    "        half =0\n",
    "        while x> half:\n",
    "            half = (half *10) + (x%10)\n",
    "            x=x//10\n",
    "        return x==half or x== half//10"
   ]
  }
 ],
 "metadata": {
  "language_info": {
   "name": "python"
  }
 },
 "nbformat": 4,
 "nbformat_minor": 2
}
