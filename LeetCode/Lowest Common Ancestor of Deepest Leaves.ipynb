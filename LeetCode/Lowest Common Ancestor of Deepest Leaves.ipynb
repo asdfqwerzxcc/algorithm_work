{
 "cells": [
  {
   "cell_type": "markdown",
   "metadata": {},
   "source": [
    "# Lowest Common Ancestor of Deepest Leaves\n",
    "\n",
    "Given the root of a binary tree, return the lowest common ancestor of its deepest leaves.\n",
    "\n",
    "Recall that:\n",
    "\n",
    "The node of a binary tree is a leaf if and only if it has no children\n",
    "The depth of the root of the tree is 0. if the depth of a node is d, the depth of each of its children is d + 1.\n",
    "The lowest common ancestor of a set S of nodes, is the node A with the largest depth such that every node in S is in the subtree with root A."
   ]
  },
  {
   "cell_type": "code",
   "execution_count": null,
   "metadata": {},
   "outputs": [],
   "source": [
    "# Definition for a binary tree node.\n",
    "# class TreeNode:\n",
    "#     def __init__(self, val=0, left=None, right=None):\n",
    "#         self.val = val\n",
    "#         self.left = left\n",
    "#         self.right = right\n",
    "class Solution:\n",
    "    def lcaDeepestLeaves(self, root: Optional[TreeNode]) -> Optional[TreeNode]:\n",
    "        # 재귀 함수: (lowest common ancestor, depth)를 반환한다.\n",
    "        def dfs(node):\n",
    "            if not node:\n",
    "                return (None, 0)\n",
    "            left_lca, left_depth = dfs(node.left)\n",
    "            right_lca, right_depth = dfs(node.right)\n",
    "            \n",
    "            # 왼쪽과 오른쪽 깊이가 같으면, 현재 노드가 LCA\n",
    "            if left_depth == right_depth:\n",
    "                return (node, left_depth + 1)\n",
    "            # 왼쪽이 더 깊으면 왼쪽 LCA 반환\n",
    "            elif left_depth > right_depth:\n",
    "                return (left_lca, left_depth + 1)\n",
    "            # 오른쪽이 더 깊으면 오른쪽 LCA 반환\n",
    "            else:\n",
    "                return (right_lca, right_depth + 1)\n",
    "        \n",
    "        lca, _ = dfs(root)\n",
    "        return lca"
   ]
  }
 ],
 "metadata": {
  "language_info": {
   "name": "python"
  }
 },
 "nbformat": 4,
 "nbformat_minor": 2
}
