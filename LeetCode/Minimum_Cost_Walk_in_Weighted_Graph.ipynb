{
 "cells": [
  {
   "cell_type": "markdown",
   "metadata": {},
   "source": [
    "# Minimum Cost Walk in Weighted Graph\n",
    "\n",
    "There is an undirected weighted graph with n vertices labeled from 0 to n - 1.\n",
    "\n",
    "You are given the integer n and an array edges, where edges[i] = [ui, vi, wi] indicates that there is an edge between vertices ui and vi with a weight of wi.\n",
    "\n",
    "A walk on a graph is a sequence of vertices and edges. The walk starts and ends with a vertex, and each edge connects the vertex that comes before it and the vertex that comes after it. It's important to note that a walk may visit the same edge or vertex more than once.\n",
    "\n",
    "The cost of a walk starting at node u and ending at node v is defined as the bitwise AND of the weights of the edges traversed during the walk. In other words, if the sequence of edge weights encountered during the walk is w0, w1, w2, ..., wk, then the cost is calculated as w0 & w1 & w2 & ... & wk, where & denotes the bitwise AND operator.\n",
    "\n",
    "You are also given a 2D array query, where query[i] = [si, ti]. For each query, you need to find the minimum cost of the walk starting at vertex si and ending at vertex ti. If there exists no such walk, the answer is -1.\n",
    "\n",
    "Return the array answer, where answer[i] denotes the minimum cost of a walk for query i."
   ]
  },
  {
   "cell_type": "code",
   "execution_count": null,
   "metadata": {},
   "outputs": [],
   "source": [
    "class Solution:\n",
    "    def minimumCost(self, n: int, edges: List[List[int]], query: List[List[int]]) -> List[int]:\n",
    "        parent = list(range(n))\n",
    "        \n",
    "        min_path_cost = [-1] * n\n",
    "        \n",
    "        def find_root(node: int) -> int:\n",
    "            if parent[node] != node:\n",
    "                parent[node] = find_root(parent[node])\n",
    "            return parent[node]\n",
    "        \n",
    "        for source, target, weight in edges:\n",
    "            source_root = find_root(source)\n",
    "            target_root = find_root(target)\n",
    "            \n",
    "            min_path_cost[target_root] &= weight\n",
    "            \n",
    "            if source_root != target_root:\n",
    "                min_path_cost[target_root] &= min_path_cost[source_root]\n",
    "                parent[source_root] = target_root\n",
    "        \n",
    "        result = []\n",
    "        for start, end in query:\n",
    "            if start == end:\n",
    "                result.append(0)\n",
    "            elif find_root(start) != find_root(end):\n",
    "                result.append(-1)\n",
    "            else:\n",
    "                result.append(min_path_cost[find_root(start)])\n",
    "                \n",
    "        return result"
   ]
  }
 ],
 "metadata": {
  "language_info": {
   "name": "python"
  }
 },
 "nbformat": 4,
 "nbformat_minor": 2
}
