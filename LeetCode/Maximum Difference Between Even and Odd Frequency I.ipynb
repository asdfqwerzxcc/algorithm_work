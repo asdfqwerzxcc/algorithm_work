{
 "cells": [
  {
   "cell_type": "markdown",
   "id": "d736ac78",
   "metadata": {},
   "source": [
    "# Maximum Difference Between Even and Odd Frequency I\n",
    "\n",
    "You are given a string s consisting of lowercase English letters.\n",
    "\n",
    "Your task is to find the maximum difference diff = freq(a1) - freq(a2) between the frequency of characters a1 and a2 in the string such that:\n",
    "\n",
    "a1 has an odd frequency in the string.\n",
    "a2 has an even frequency in the string.\n",
    "Return this maximum difference."
   ]
  },
  {
   "cell_type": "code",
   "execution_count": null,
   "id": "f7f8b6fe",
   "metadata": {
    "vscode": {
     "languageId": "plaintext"
    }
   },
   "outputs": [],
   "source": [
    "class Solution:\n",
    "    def maxDifference(self, s: str) -> int:\n",
    "        c = Counter(s)\n",
    "        maxOdd = max(x for x in c.values() if x % 2 == 1)\n",
    "        minEven = min(x for x in c.values() if x % 2 == 0)\n",
    "        return maxOdd - minEven"
   ]
  }
 ],
 "metadata": {
  "language_info": {
   "name": "python"
  }
 },
 "nbformat": 4,
 "nbformat_minor": 5
}
