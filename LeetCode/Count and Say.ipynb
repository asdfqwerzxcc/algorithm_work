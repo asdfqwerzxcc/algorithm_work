{
 "cells": [
  {
   "cell_type": "markdown",
   "id": "b8df0309",
   "metadata": {},
   "source": [
    "# Count and Say\n",
    "\n",
    "The count-and-say sequence is a sequence of digit strings defined by the recursive formula:\n",
    "\n",
    "countAndSay(1) = \"1\"\n",
    "countAndSay(n) is the run-length encoding of countAndSay(n - 1).\n",
    "Run-length encoding (RLE) is a string compression method that works by replacing consecutive identical characters (repeated 2 or more times) with the concatenation of the character and the number marking the count of the characters (length of the run). For example, to compress the string \"3322251\" we replace \"33\" with \"23\", replace \"222\" with \"32\", replace \"5\" with \"15\" and replace \"1\" with \"11\". Thus the compressed string becomes \"23321511\".\n",
    "\n",
    "Given a positive integer n, return the nth element of the count-and-say sequence."
   ]
  },
  {
   "cell_type": "code",
   "execution_count": null,
   "id": "727937bd",
   "metadata": {},
   "outputs": [],
   "source": [
    "class Solution:\n",
    "    def countAndSay(self, n: int) -> str:\n",
    "        # Base case\n",
    "        if n == 1:\n",
    "            return \"1\"\n",
    "        \n",
    "        # Get the previous sequence\n",
    "        prev = self.countAndSay(n - 1)\n",
    "        \n",
    "        # Generate the current sequence using run-length encoding\n",
    "        result = \"\"\n",
    "        count = 1\n",
    "        for i in range(len(prev)):\n",
    "            # If we're at the end or the next digit is different\n",
    "            if i == len(prev) - 1 or prev[i] != prev[i + 1]:\n",
    "                result += str(count) + prev[i]\n",
    "                count = 1\n",
    "            else:\n",
    "                count += 1\n",
    "                \n",
    "        return result"
   ]
  }
 ],
 "metadata": {
  "language_info": {
   "name": "python"
  }
 },
 "nbformat": 4,
 "nbformat_minor": 5
}
