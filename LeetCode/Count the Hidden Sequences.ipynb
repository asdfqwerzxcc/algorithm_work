{
 "cells": [
  {
   "cell_type": "markdown",
   "id": "91581d8f",
   "metadata": {},
   "source": [
    "# Count the Hidden Sequences\n",
    "\n",
    "You are given a 0-indexed array of n integers differences, which describes the differences between each pair of consecutive integers of a hidden sequence of length (n + 1). More formally, call the hidden sequence hidden, then we have that differences[i] = hidden[i + 1] - hidden[i].\n",
    "\n",
    "You are further given two integers lower and upper that describe the inclusive range of values [lower, upper] that the hidden sequence can contain.\n",
    "\n",
    "For example, given differences = [1, -3, 4], lower = 1, upper = 6, the hidden sequence is a sequence of length 4 whose elements are in between 1 and 6 (inclusive).\n",
    "[3, 4, 1, 5] and [4, 5, 2, 6] are possible hidden sequences.\n",
    "[5, 6, 3, 7] is not possible since it contains an element greater than 6.\n",
    "[1, 2, 3, 4] is not possible since the differences are not correct.\n",
    "Return the number of possible hidden sequences there are. If there are no possible sequences, return 0."
   ]
  },
  {
   "cell_type": "code",
   "execution_count": null,
   "id": "f105aee5",
   "metadata": {},
   "outputs": [],
   "source": [
    "class Solution:\n",
    "    def numberOfArrays(self, differences: List[int], lower: int, upper: int) -> int:\n",
    "        n = len(differences)\n",
    "        prefix = [0] * (n + 1)\n",
    "        for i in range(n):\n",
    "            prefix[i+1] = prefix[i] + differences[i]\n",
    "\n",
    "        min_offset = min(prefix)\n",
    "        max_offset = max(prefix)\n",
    "\n",
    "        low_start = lower - min_offset\n",
    "        high_start = upper - max_offset\n",
    "\n",
    "        if low_start > high_start:\n",
    "            return 0\n",
    "        return high_start - low_start + 1"
   ]
  }
 ],
 "metadata": {
  "language_info": {
   "name": "python"
  }
 },
 "nbformat": 4,
 "nbformat_minor": 5
}
