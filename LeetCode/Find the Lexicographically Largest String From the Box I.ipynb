{
 "cells": [
  {
   "cell_type": "markdown",
   "id": "89ed5f8e",
   "metadata": {},
   "source": [
    "# Find the Lexicographically Largest String From the Box I\n",
    "\n",
    "You are given a string word, and an integer numFriends.\n",
    "\n",
    "Alice is organizing a game for her numFriends friends. There are multiple rounds in the game, where in each round:\n",
    "\n",
    "word is split into numFriends non-empty strings, such that no previous round has had the exact same split.\n",
    "All the split words are put into a box.\n",
    "Find the lexicographically largest string from the box after all the rounds are finished."
   ]
  },
  {
   "cell_type": "code",
   "execution_count": null,
   "id": "5b18aae2",
   "metadata": {
    "vscode": {
     "languageId": "plaintext"
    }
   },
   "outputs": [],
   "source": [
    "class Solution:\n",
    "    def lastSubstring(self, s: str) -> str:\n",
    "        i, j, n = 0, 1, len(s)\n",
    "        while j < n:\n",
    "            k = 0\n",
    "            while j + k < n and s[i + k] == s[j + k]:\n",
    "                k += 1\n",
    "            if j + k < n and s[i + k] < s[j + k]:\n",
    "                i, j = j, max(j + 1, i + k + 1)\n",
    "            else:\n",
    "                j = j + k + 1\n",
    "        return s[i:]\n",
    "\n",
    "    def answerString(self, word: str, numFriends: int) -> str:\n",
    "        if numFriends == 1:\n",
    "            return word\n",
    "        last = self.lastSubstring(word)\n",
    "        n, m = len(word), len(last)\n",
    "        return last[: min(m, n - numFriends + 1)]"
   ]
  }
 ],
 "metadata": {
  "language_info": {
   "name": "python"
  }
 },
 "nbformat": 4,
 "nbformat_minor": 5
}
