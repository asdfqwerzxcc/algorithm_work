{
 "cells": [
  {
   "cell_type": "markdown",
   "id": "fea0bb3c",
   "metadata": {},
   "source": [
    "# Minimum Number of Operations to Make Elements in Array Distinct\n",
    "\n",
    "You are given an integer array nums. You need to ensure that the elements in the array are distinct. To achieve this, you can perform the following operation any number of times:\n",
    "\n",
    "Remove 3 elements from the beginning of the array. If the array has fewer than 3 elements, remove all remaining elements.\n",
    "Note that an empty array is considered to have distinct elements. Return the minimum number of operations needed to make the elements in the array distinct."
   ]
  },
  {
   "cell_type": "code",
   "execution_count": null,
   "id": "94abb2dc",
   "metadata": {},
   "outputs": [],
   "source": [
    "class Solution:\n",
    "    def minimumOperations(self, nums: List[int]) -> int:\n",
    "        from collections import Counter\n",
    "        n = len(nums)\n",
    "        # 전체 빈도수 계산\n",
    "        freq = Counter(nums)\n",
    "        # 중복으로 발생하는 원소의 개수(동일 원소가 여러 번 나오는 경우)\n",
    "        dup_count = sum(1 for v in freq.values() if v > 1)\n",
    "        \n",
    "        # 배열 전체가 distinct하면 연산 없이 0 반환\n",
    "        if dup_count == 0:\n",
    "            return 0\n",
    "        \n",
    "        k = 0\n",
    "        i = 0  # 제거할 원소의 인덱스 표시\n",
    "        while i < n:\n",
    "            k += 1\n",
    "            # 한 번의 연산: 최대 3개 원소 제거\n",
    "            for _ in range(3):\n",
    "                if i >= n:\n",
    "                    break\n",
    "                # 제거될 원소에 대해 업데이트\n",
    "                elem = nums[i]\n",
    "                freq[elem] -= 1\n",
    "                # 원소의 빈도수가 2 이상이었다면 중복 문제가 있었던 것이고,\n",
    "                # 이번 제거로 1이 되면 중복이 해결됨.\n",
    "                if freq[elem] == 1:\n",
    "                    dup_count -= 1\n",
    "                i += 1\n",
    "            \n",
    "            # 중복이 모두 해결되면 바로 반환합니다.\n",
    "            if dup_count == 0:\n",
    "                return k\n",
    "                \n",
    "        return k  # 이 경우 마지막 연산까지 거친 경우 (빈 배열이 되어 distinct)"
   ]
  }
 ],
 "metadata": {
  "language_info": {
   "name": "python"
  }
 },
 "nbformat": 4,
 "nbformat_minor": 5
}
