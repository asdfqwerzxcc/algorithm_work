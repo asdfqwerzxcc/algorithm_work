{
 "cells": [
  {
   "cell_type": "markdown",
   "metadata": {},
   "source": [
    "# Minimum Index of a Valid Split\n",
    "\n",
    "An element x of an integer array arr of length m is dominant if more than half the elements of arr have a value of x.\n",
    "\n",
    "You are given a 0-indexed integer array nums of length n with one dominant element.\n",
    "\n",
    "You can split nums at an index i into two arrays nums[0, ..., i] and nums[i + 1, ..., n - 1], but the split is only valid if:\n",
    "\n",
    "0 <= i < n - 1\n",
    "nums[0, ..., i], and nums[i + 1, ..., n - 1] have the same dominant element.\n",
    "Here, nums[i, ..., j] denotes the subarray of nums starting at index i and ending at index j, both ends being inclusive. Particularly, if j < i then nums[i, ..., j] denotes an empty subarray.\n",
    "\n",
    "Return the minimum index of a valid split. If no valid split exists, return -1."
   ]
  },
  {
   "cell_type": "code",
   "execution_count": null,
   "metadata": {},
   "outputs": [],
   "source": [
    "class Solution:\n",
    "    def minimumIndex(self, nums: List[int]) -> int:\n",
    "        n = len(nums)\n",
    "    \n",
    "        # 전체 배열에서 우세 원소와 총 등장 횟수 구하기\n",
    "        candidate = nums[0]\n",
    "        count = 1\n",
    "        # Boyer-Moore 다수결 알고리즘을 사용하여 후보 원소 찾기\n",
    "        for num in nums[1:]:\n",
    "            if count == 0:\n",
    "                candidate = num\n",
    "                count = 1\n",
    "            else:\n",
    "                count += 1 if num == candidate else -1\n",
    "        \n",
    "        # 전체 배열에서 후보 원소의 등장 횟수 계산\n",
    "        total_count = nums.count(candidate)\n",
    "        \n",
    "        left_count = 0\n",
    "        # 0 <= i < n - 1 까지 분할 인덱스를 순회\n",
    "        for i in range(n - 1):\n",
    "            if nums[i] == candidate:\n",
    "                left_count += 1\n",
    "            \n",
    "            # 왼쪽 배열 길이: i+1, 오른쪽 배열 길이: n-i-1\n",
    "            # 왼쪽 배열에서 우세 조건: left_count > (i+1) / 2\n",
    "            if left_count * 2 <= (i + 1):\n",
    "                continue\n",
    "            \n",
    "            # 오른쪽 배열에서 우세 조건: (total_count - left_count) > (n-i-1) / 2\n",
    "            if (total_count - left_count) * 2 <= (n - i - 1):\n",
    "                continue\n",
    "            \n",
    "            return i\n",
    "        \n",
    "        return -1\n"
   ]
  }
 ],
 "metadata": {
  "language_info": {
   "name": "python"
  }
 },
 "nbformat": 4,
 "nbformat_minor": 2
}
